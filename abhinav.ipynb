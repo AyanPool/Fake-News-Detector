{
 "cells": [
  {
   "cell_type": "code",
   "execution_count": 1,
   "id": "dc0924f9",
   "metadata": {
    "_cell_guid": "b1076dfc-b9ad-4769-8c92-a6c4dae69d19",
    "_uuid": "8f2839f25d086af736a60e9eeb907d3b93b6e0e5",
    "execution": {
     "iopub.execute_input": "2023-09-21T21:30:21.274333Z",
     "iopub.status.busy": "2023-09-21T21:30:21.272617Z",
     "iopub.status.idle": "2023-09-21T21:30:22.735001Z",
     "shell.execute_reply": "2023-09-21T21:30:22.733920Z",
     "shell.execute_reply.started": "2023-09-21T20:07:56.060055Z"
    },
    "papermill": {
     "duration": 1.655846,
     "end_time": "2023-09-21T21:30:22.735186",
     "exception": false,
     "start_time": "2023-09-21T21:30:21.079340",
     "status": "completed"
    },
    "tags": []
   },
   "outputs": [],
   "source": [
    "import numpy as np\n",
    "import pandas as pd\n",
    "from pandasql import sqldf\n",
    "mysql = lambda q : sqldf(q , globals())\n",
    "import unicodedata\n",
    "import re\n",
    "import zlib\n",
    "import nltk\n",
    "from sklearn import metrics\n",
    "import matplotlib.pyplot as plt\n",
    "import seaborn as sns\n",
    "import textblob\n",
    "\n",
    "\n",
    "pd.set_option('display.max_columns' , 10)\n",
    "pd.set_option('display.max_rows' , 50)\n",
    "pd.set_option('display.max_colwidth' , 350)\n",
    "\n",
    "# 1. Natural Language Toolkit (NLTK)\n",
    "# 2. Gensim\n",
    "# 3. CoreNLP\n",
    "# 4. spaCy\n",
    "# 5. TextBlob\n",
    "# 6. Pattern\n",
    "# 7. PyNLPl\n",
    "\n",
    "# Polyglot\n",
    "# AllenNLP\n",
    "# Hugging Face Transformers\n",
    "# Flair"
   ]
  },
  {
   "cell_type": "code",
   "execution_count": 2,
   "id": "280c2933",
   "metadata": {
    "execution": {
     "iopub.execute_input": "2023-09-21T21:30:23.087621Z",
     "iopub.status.busy": "2023-09-21T21:30:23.086837Z",
     "iopub.status.idle": "2023-09-21T21:30:24.605614Z",
     "shell.execute_reply": "2023-09-21T21:30:24.604739Z",
     "shell.execute_reply.started": "2023-09-21T20:55:00.935229Z"
    },
    "papermill": {
     "duration": 1.69587,
     "end_time": "2023-09-21T21:30:24.605777",
     "exception": false,
     "start_time": "2023-09-21T21:30:22.909907",
     "status": "completed"
    },
    "tags": []
   },
   "outputs": [],
   "source": [
    "def seed_everything(seed: int):\n",
    "    import random\n",
    "    import torch\n",
    "    import  os\n",
    "    \n",
    "    random.seed(seed)\n",
    "    os.environ['PYTHONHASHSEED'] = str(seed)\n",
    "    np.random.seed(seed)\n",
    "    torch.manual_seed(seed)\n",
    "    torch.cuda.manual_seed(seed)\n",
    "    torch.backends.cudnn.deterministic = True\n",
    "    torch.backends.cudnn.benchmark = True\n",
    "    \n",
    "    \n",
    "seed_everything(seed=42)"
   ]
  },
  {
   "cell_type": "code",
   "execution_count": 3,
   "id": "8d4197e9",
   "metadata": {
    "execution": {
     "iopub.execute_input": "2023-09-21T21:30:24.959759Z",
     "iopub.status.busy": "2023-09-21T21:30:24.959107Z",
     "iopub.status.idle": "2023-09-21T21:31:05.609153Z",
     "shell.execute_reply": "2023-09-21T21:31:05.608421Z"
    },
    "papermill": {
     "duration": 40.831218,
     "end_time": "2023-09-21T21:31:05.609299",
     "exception": false,
     "start_time": "2023-09-21T21:30:24.778081",
     "status": "completed"
    },
    "tags": []
   },
   "outputs": [
    {
     "name": "stdout",
     "output_type": "stream",
     "text": [
      "Collecting contractions\r\n",
      "  Downloading contractions-0.1.73-py2.py3-none-any.whl (8.7 kB)\r\n",
      "Collecting textsearch>=0.0.21\r\n",
      "  Downloading textsearch-0.0.24-py2.py3-none-any.whl (7.6 kB)\r\n",
      "Collecting pyahocorasick\r\n",
      "  Downloading pyahocorasick-2.0.0-cp37-cp37m-manylinux_2_5_x86_64.manylinux1_x86_64.whl (101 kB)\r\n",
      "     |████████████████████████████████| 101 kB 4.3 MB/s           \r\n",
      "\u001b[?25hCollecting anyascii\r\n",
      "  Downloading anyascii-0.3.2-py3-none-any.whl (289 kB)\r\n",
      "     |████████████████████████████████| 289 kB 48.0 MB/s            \r\n",
      "\u001b[?25hInstalling collected packages: pyahocorasick, anyascii, textsearch, contractions\r\n",
      "Successfully installed anyascii-0.3.2 contractions-0.1.73 pyahocorasick-2.0.0 textsearch-0.0.24\r\n",
      "\u001b[33mWARNING: Running pip as the 'root' user can result in broken permissions and conflicting behaviour with the system package manager. It is recommended to use a virtual environment instead: https://pip.pypa.io/warnings/venv\u001b[0m\r\n",
      "Requirement already satisfied: textsearch in /opt/conda/lib/python3.7/site-packages (0.0.24)\r\n",
      "Requirement already satisfied: pyahocorasick in /opt/conda/lib/python3.7/site-packages (from textsearch) (2.0.0)\r\n",
      "Requirement already satisfied: anyascii in /opt/conda/lib/python3.7/site-packages (from textsearch) (0.3.2)\r\n",
      "\u001b[33mWARNING: Running pip as the 'root' user can result in broken permissions and conflicting behaviour with the system package manager. It is recommended to use a virtual environment instead: https://pip.pypa.io/warnings/venv\u001b[0m\r\n",
      "Collecting textstat\r\n",
      "  Downloading textstat-0.7.3-py3-none-any.whl (105 kB)\r\n",
      "     |████████████████████████████████| 105 kB 6.3 MB/s            \r\n",
      "\u001b[?25hCollecting pyphen\r\n",
      "  Downloading pyphen-0.14.0-py3-none-any.whl (2.0 MB)\r\n",
      "     |████████████████████████████████| 2.0 MB 20.7 MB/s            \r\n",
      "\u001b[?25hInstalling collected packages: pyphen, textstat\r\n",
      "Successfully installed pyphen-0.14.0 textstat-0.7.3\r\n",
      "\u001b[33mWARNING: Running pip as the 'root' user can result in broken permissions and conflicting behaviour with the system package manager. It is recommended to use a virtual environment instead: https://pip.pypa.io/warnings/venv\u001b[0m\r\n",
      "Collecting sentence_transformers\r\n",
      "  Downloading sentence-transformers-2.2.2.tar.gz (85 kB)\r\n",
      "     |████████████████████████████████| 85 kB 2.3 MB/s             \r\n",
      "\u001b[?25h  Preparing metadata (setup.py) ... \u001b[?25l-\b \bdone\r\n",
      "\u001b[?25hRequirement already satisfied: transformers<5.0.0,>=4.6.0 in /opt/conda/lib/python3.7/site-packages (from sentence_transformers) (4.12.5)\r\n",
      "Requirement already satisfied: tqdm in /opt/conda/lib/python3.7/site-packages (from sentence_transformers) (4.62.3)\r\n",
      "Requirement already satisfied: torch>=1.6.0 in /opt/conda/lib/python3.7/site-packages (from sentence_transformers) (1.9.1)\r\n",
      "Requirement already satisfied: torchvision in /opt/conda/lib/python3.7/site-packages (from sentence_transformers) (0.10.1)\r\n",
      "Requirement already satisfied: numpy in /opt/conda/lib/python3.7/site-packages (from sentence_transformers) (1.19.5)\r\n",
      "Requirement already satisfied: scikit-learn in /opt/conda/lib/python3.7/site-packages (from sentence_transformers) (0.23.2)\r\n",
      "Requirement already satisfied: scipy in /opt/conda/lib/python3.7/site-packages (from sentence_transformers) (1.7.2)\r\n",
      "Requirement already satisfied: nltk in /opt/conda/lib/python3.7/site-packages (from sentence_transformers) (3.2.4)\r\n",
      "Requirement already satisfied: sentencepiece in /opt/conda/lib/python3.7/site-packages (from sentence_transformers) (0.1.96)\r\n",
      "Collecting huggingface-hub>=0.4.0\r\n",
      "  Downloading huggingface_hub-0.16.4-py3-none-any.whl (268 kB)\r\n",
      "     |████████████████████████████████| 268 kB 12.6 MB/s            \r\n",
      "\u001b[?25hRequirement already satisfied: filelock in /opt/conda/lib/python3.7/site-packages (from huggingface-hub>=0.4.0->sentence_transformers) (3.3.2)\r\n",
      "Requirement already satisfied: pyyaml>=5.1 in /opt/conda/lib/python3.7/site-packages (from huggingface-hub>=0.4.0->sentence_transformers) (6.0)\r\n",
      "Requirement already satisfied: requests in /opt/conda/lib/python3.7/site-packages (from huggingface-hub>=0.4.0->sentence_transformers) (2.25.1)\r\n",
      "Requirement already satisfied: packaging>=20.9 in /opt/conda/lib/python3.7/site-packages (from huggingface-hub>=0.4.0->sentence_transformers) (21.0)\r\n",
      "Requirement already satisfied: typing-extensions>=3.7.4.3 in /opt/conda/lib/python3.7/site-packages (from huggingface-hub>=0.4.0->sentence_transformers) (3.10.0.2)\r\n",
      "Requirement already satisfied: fsspec in /opt/conda/lib/python3.7/site-packages (from huggingface-hub>=0.4.0->sentence_transformers) (2021.11.1)\r\n",
      "Requirement already satisfied: importlib-metadata in /opt/conda/lib/python3.7/site-packages (from huggingface-hub>=0.4.0->sentence_transformers) (4.8.2)\r\n",
      "Requirement already satisfied: tokenizers<0.11,>=0.10.1 in /opt/conda/lib/python3.7/site-packages (from transformers<5.0.0,>=4.6.0->sentence_transformers) (0.10.3)\r\n",
      "Requirement already satisfied: sacremoses in /opt/conda/lib/python3.7/site-packages (from transformers<5.0.0,>=4.6.0->sentence_transformers) (0.0.46)\r\n",
      "Requirement already satisfied: regex!=2019.12.17 in /opt/conda/lib/python3.7/site-packages (from transformers<5.0.0,>=4.6.0->sentence_transformers) (2021.11.10)\r\n",
      "Requirement already satisfied: six in /opt/conda/lib/python3.7/site-packages (from nltk->sentence_transformers) (1.16.0)\r\n",
      "Requirement already satisfied: joblib>=0.11 in /opt/conda/lib/python3.7/site-packages (from scikit-learn->sentence_transformers) (1.1.0)\r\n",
      "Requirement already satisfied: threadpoolctl>=2.0.0 in /opt/conda/lib/python3.7/site-packages (from scikit-learn->sentence_transformers) (3.0.0)\r\n",
      "Requirement already satisfied: pillow>=5.3.0 in /opt/conda/lib/python3.7/site-packages (from torchvision->sentence_transformers) (8.2.0)\r\n",
      "Requirement already satisfied: pyparsing>=2.0.2 in /opt/conda/lib/python3.7/site-packages (from packaging>=20.9->huggingface-hub>=0.4.0->sentence_transformers) (3.0.6)\r\n",
      "Requirement already satisfied: zipp>=0.5 in /opt/conda/lib/python3.7/site-packages (from importlib-metadata->huggingface-hub>=0.4.0->sentence_transformers) (3.6.0)\r\n",
      "Requirement already satisfied: certifi>=2017.4.17 in /opt/conda/lib/python3.7/site-packages (from requests->huggingface-hub>=0.4.0->sentence_transformers) (2021.10.8)\r\n",
      "Requirement already satisfied: idna<3,>=2.5 in /opt/conda/lib/python3.7/site-packages (from requests->huggingface-hub>=0.4.0->sentence_transformers) (2.10)\r\n",
      "Requirement already satisfied: urllib3<1.27,>=1.21.1 in /opt/conda/lib/python3.7/site-packages (from requests->huggingface-hub>=0.4.0->sentence_transformers) (1.26.7)\r\n",
      "Requirement already satisfied: chardet<5,>=3.0.2 in /opt/conda/lib/python3.7/site-packages (from requests->huggingface-hub>=0.4.0->sentence_transformers) (4.0.0)\r\n",
      "Requirement already satisfied: click in /opt/conda/lib/python3.7/site-packages (from sacremoses->transformers<5.0.0,>=4.6.0->sentence_transformers) (8.0.3)\r\n",
      "Building wheels for collected packages: sentence-transformers\r\n",
      "  Building wheel for sentence-transformers (setup.py) ... \u001b[?25l-\b \b\\\b \b|\b \bdone\r\n",
      "\u001b[?25h  Created wheel for sentence-transformers: filename=sentence_transformers-2.2.2-py3-none-any.whl size=125938 sha256=759c56dad4225b6ff43e2255809d0ed65dfbdf9d81eaadd13977a8271eb74cf1\r\n",
      "  Stored in directory: /root/.cache/pip/wheels/bf/06/fb/d59c1e5bd1dac7f6cf61ec0036cc3a10ab8fecaa6b2c3d3ee9\r\n",
      "Successfully built sentence-transformers\r\n",
      "Installing collected packages: huggingface-hub, sentence-transformers\r\n",
      "  Attempting uninstall: huggingface-hub\r\n",
      "    Found existing installation: huggingface-hub 0.1.2\r\n",
      "    Uninstalling huggingface-hub-0.1.2:\r\n",
      "      Successfully uninstalled huggingface-hub-0.1.2\r\n",
      "\u001b[31mERROR: pip's dependency resolver does not currently take into account all the packages that are installed. This behaviour is the source of the following dependency conflicts.\r\n",
      "cached-path 0.3.2 requires huggingface-hub<0.2.0,>=0.0.12, but you have huggingface-hub 0.16.4 which is incompatible.\u001b[0m\r\n",
      "Successfully installed huggingface-hub-0.16.4 sentence-transformers-2.2.2\r\n",
      "\u001b[33mWARNING: Running pip as the 'root' user can result in broken permissions and conflicting behaviour with the system package manager. It is recommended to use a virtual environment instead: https://pip.pypa.io/warnings/venv\u001b[0m\r\n"
     ]
    }
   ],
   "source": [
    "!pip install contractions\n",
    "!pip install textsearch\n",
    "!pip install textstat\n",
    "!pip install sentence_transformers"
   ]
  },
  {
   "cell_type": "markdown",
   "id": "8a7e7ca3",
   "metadata": {
    "papermill": {
     "duration": 0.184379,
     "end_time": "2023-09-21T21:31:05.978924",
     "exception": false,
     "start_time": "2023-09-21T21:31:05.794545",
     "status": "completed"
    },
    "tags": []
   },
   "source": [
    "# Features\n",
    "* **text length counts** :\n",
    "features like character length and word length are quite common to be significant in text datasets. For documents or paragraph-like data points, you can use sentence length mean and std values as features.\n",
    "\n",
    "\n",
    "* **non-dictionary word counts** :\n",
    "count/ratio of non-dictionary words or OOV(out of vocab) words in the text. It can be a pseudo-feature representing how formal the text is. Twitter type social media datasets will have higher ratios compared to Wikipedia articles.\n",
    "\n",
    "\n",
    "* **readability metrics**:\n",
    "Metrics like Flesch-Kincaid Readability Test and SMOG can be used. Essentially, these are ratios of complex words(polysyllables) to the total number of words or sentences — which are hypothesized to signal how easily readable a piece fo text is.\n",
    "\n",
    "\n",
    "* **unique word ratios**:\n",
    "ratio of number of unique words/total words. This feature gives you a sense of word repetitions in the data points. For a deeper analysis of this type of feature, you can look into TF-IDF models.\n",
    "\n",
    "\n",
    "* **sentence types** :\n",
    "Features such as count, or boolean variable for the presence of questions, exclamations, and particular punctuations.\n",
    "emojis and hashtags\n",
    "A feature of the count or boolean for their presence in a text. Sentiments of these features can also be further used on top of these.\n",
    "\n",
    "\n",
    "* **Complex/Deep Features** :\n",
    "Now let’s look at slightly complex features. These features typically require higher machine computation resources; GPU's for large datasets(100K+ data-points). Also, these are harder and time-consuming to construct on your own, so you’ll end up using standard libraries for these. I will mention and compare the famous libraries for each of the following.\n",
    "part of speech(pos)\n",
    "If there’s a single feature I have used the most in my experience, it’s the Part-Of-Speech(POS) tags. They are incredibly powerful.\n",
    "\n",
    "\n",
    "* **named entity recognition(ner)**\n",
    "Another related sibling of POS tagging is NER tagging. Again, spaCy is my choice for it. NER is used to identify named-entities like person names, organizations, locations, quantities, monetary values, percentages, etc. This is also a good feature that I use to filter my datasets for text generation tasks — as I don’t want the model to learn to output some of these proper noun entities.\n",
    "\n",
    "\n",
    "* **sentiment analysis**\n",
    "Sentiments and emotions are inevitably very important underlying features of any text. The sentiment of a sentence is usually highly relevant in translating to the target variable for common classification tasks. These are also great post-processing filters for most industrial applications — you usually don’t want to show negative sentiment sentences to a client."
   ]
  },
  {
   "cell_type": "code",
   "execution_count": 4,
   "id": "fe2040b0",
   "metadata": {
    "execution": {
     "iopub.execute_input": "2023-09-21T21:31:06.360784Z",
     "iopub.status.busy": "2023-09-21T21:31:06.360015Z",
     "iopub.status.idle": "2023-09-21T21:31:06.449439Z",
     "shell.execute_reply": "2023-09-21T21:31:06.449901Z",
     "shell.execute_reply.started": "2023-09-21T20:20:40.123984Z"
    },
    "papermill": {
     "duration": 0.281108,
     "end_time": "2023-09-21T21:31:06.450063",
     "exception": false,
     "start_time": "2023-09-21T21:31:06.168955",
     "status": "completed"
    },
    "tags": []
   },
   "outputs": [
    {
     "data": {
      "text/html": [
       "<div>\n",
       "<style scoped>\n",
       "    .dataframe tbody tr th:only-of-type {\n",
       "        vertical-align: middle;\n",
       "    }\n",
       "\n",
       "    .dataframe tbody tr th {\n",
       "        vertical-align: top;\n",
       "    }\n",
       "\n",
       "    .dataframe thead th {\n",
       "        text-align: right;\n",
       "    }\n",
       "</style>\n",
       "<table border=\"1\" class=\"dataframe\">\n",
       "  <thead>\n",
       "    <tr style=\"text-align: right;\">\n",
       "      <th></th>\n",
       "      <th>id</th>\n",
       "      <th>keyword</th>\n",
       "      <th>location</th>\n",
       "      <th>text</th>\n",
       "      <th>target</th>\n",
       "    </tr>\n",
       "  </thead>\n",
       "  <tbody>\n",
       "    <tr>\n",
       "      <th>0</th>\n",
       "      <td>1</td>\n",
       "      <td>NaN</td>\n",
       "      <td>NaN</td>\n",
       "      <td>Our Deeds are the Reason of this #earthquake May ALLAH Forgive us all</td>\n",
       "      <td>1</td>\n",
       "    </tr>\n",
       "    <tr>\n",
       "      <th>1</th>\n",
       "      <td>4</td>\n",
       "      <td>NaN</td>\n",
       "      <td>NaN</td>\n",
       "      <td>Forest fire near La Ronge Sask. Canada</td>\n",
       "      <td>1</td>\n",
       "    </tr>\n",
       "    <tr>\n",
       "      <th>2</th>\n",
       "      <td>5</td>\n",
       "      <td>NaN</td>\n",
       "      <td>NaN</td>\n",
       "      <td>All residents asked to 'shelter in place' are being notified by officers. No other evacuation or shelter in place orders are expected</td>\n",
       "      <td>1</td>\n",
       "    </tr>\n",
       "    <tr>\n",
       "      <th>3</th>\n",
       "      <td>6</td>\n",
       "      <td>NaN</td>\n",
       "      <td>NaN</td>\n",
       "      <td>13,000 people receive #wildfires evacuation orders in California</td>\n",
       "      <td>1</td>\n",
       "    </tr>\n",
       "    <tr>\n",
       "      <th>4</th>\n",
       "      <td>7</td>\n",
       "      <td>NaN</td>\n",
       "      <td>NaN</td>\n",
       "      <td>Just got sent this photo from Ruby #Alaska as smoke from #wildfires pours into a school</td>\n",
       "      <td>1</td>\n",
       "    </tr>\n",
       "    <tr>\n",
       "      <th>...</th>\n",
       "      <td>...</td>\n",
       "      <td>...</td>\n",
       "      <td>...</td>\n",
       "      <td>...</td>\n",
       "      <td>...</td>\n",
       "    </tr>\n",
       "    <tr>\n",
       "      <th>7608</th>\n",
       "      <td>10869</td>\n",
       "      <td>NaN</td>\n",
       "      <td>NaN</td>\n",
       "      <td>Two giant cranes holding a bridge collapse into nearby homes http://t.co/STfMbbZFB5</td>\n",
       "      <td>1</td>\n",
       "    </tr>\n",
       "    <tr>\n",
       "      <th>7609</th>\n",
       "      <td>10870</td>\n",
       "      <td>NaN</td>\n",
       "      <td>NaN</td>\n",
       "      <td>@aria_ahrary @TheTawniest The out of control wild fires in California even in the Northern part of the state. Very troubling.</td>\n",
       "      <td>1</td>\n",
       "    </tr>\n",
       "    <tr>\n",
       "      <th>7610</th>\n",
       "      <td>10871</td>\n",
       "      <td>NaN</td>\n",
       "      <td>NaN</td>\n",
       "      <td>M1.94 [01:04 UTC]?5km S of Volcano Hawaii. http://t.co/zDtoyd8EbJ</td>\n",
       "      <td>1</td>\n",
       "    </tr>\n",
       "    <tr>\n",
       "      <th>7611</th>\n",
       "      <td>10872</td>\n",
       "      <td>NaN</td>\n",
       "      <td>NaN</td>\n",
       "      <td>Police investigating after an e-bike collided with a car in Little Portugal. E-bike rider suffered serious non-life threatening injuries.</td>\n",
       "      <td>1</td>\n",
       "    </tr>\n",
       "    <tr>\n",
       "      <th>7612</th>\n",
       "      <td>10873</td>\n",
       "      <td>NaN</td>\n",
       "      <td>NaN</td>\n",
       "      <td>The Latest: More Homes Razed by Northern California Wildfire - ABC News http://t.co/YmY4rSkQ3d</td>\n",
       "      <td>1</td>\n",
       "    </tr>\n",
       "  </tbody>\n",
       "</table>\n",
       "<p>7613 rows × 5 columns</p>\n",
       "</div>"
      ],
      "text/plain": [
       "         id keyword location  \\\n",
       "0         1     NaN      NaN   \n",
       "1         4     NaN      NaN   \n",
       "2         5     NaN      NaN   \n",
       "3         6     NaN      NaN   \n",
       "4         7     NaN      NaN   \n",
       "...     ...     ...      ...   \n",
       "7608  10869     NaN      NaN   \n",
       "7609  10870     NaN      NaN   \n",
       "7610  10871     NaN      NaN   \n",
       "7611  10872     NaN      NaN   \n",
       "7612  10873     NaN      NaN   \n",
       "\n",
       "                                                                                                                                           text  \\\n",
       "0                                                                         Our Deeds are the Reason of this #earthquake May ALLAH Forgive us all   \n",
       "1                                                                                                        Forest fire near La Ronge Sask. Canada   \n",
       "2         All residents asked to 'shelter in place' are being notified by officers. No other evacuation or shelter in place orders are expected   \n",
       "3                                                                             13,000 people receive #wildfires evacuation orders in California    \n",
       "4                                                      Just got sent this photo from Ruby #Alaska as smoke from #wildfires pours into a school    \n",
       "...                                                                                                                                         ...   \n",
       "7608                                                        Two giant cranes holding a bridge collapse into nearby homes http://t.co/STfMbbZFB5   \n",
       "7609              @aria_ahrary @TheTawniest The out of control wild fires in California even in the Northern part of the state. Very troubling.   \n",
       "7610                                                                          M1.94 [01:04 UTC]?5km S of Volcano Hawaii. http://t.co/zDtoyd8EbJ   \n",
       "7611  Police investigating after an e-bike collided with a car in Little Portugal. E-bike rider suffered serious non-life threatening injuries.   \n",
       "7612                                             The Latest: More Homes Razed by Northern California Wildfire - ABC News http://t.co/YmY4rSkQ3d   \n",
       "\n",
       "      target  \n",
       "0          1  \n",
       "1          1  \n",
       "2          1  \n",
       "3          1  \n",
       "4          1  \n",
       "...      ...  \n",
       "7608       1  \n",
       "7609       1  \n",
       "7610       1  \n",
       "7611       1  \n",
       "7612       1  \n",
       "\n",
       "[7613 rows x 5 columns]"
      ]
     },
     "execution_count": 4,
     "metadata": {},
     "output_type": "execute_result"
    }
   ],
   "source": [
    "# Loading Data\n",
    "df_train = pd.read_csv('../input/nlp-getting-started/train.csv')\n",
    "df_test = pd.read_csv('../input/nlp-getting-started/test.csv')\n",
    "df_train"
   ]
  },
  {
   "cell_type": "code",
   "execution_count": 5,
   "id": "509e0f52",
   "metadata": {
    "execution": {
     "iopub.execute_input": "2023-09-21T21:31:06.829790Z",
     "iopub.status.busy": "2023-09-21T21:31:06.829039Z",
     "iopub.status.idle": "2023-09-21T21:31:06.832076Z",
     "shell.execute_reply": "2023-09-21T21:31:06.832591Z",
     "shell.execute_reply.started": "2023-09-21T20:34:21.369155Z"
    },
    "papermill": {
     "duration": 0.197709,
     "end_time": "2023-09-21T21:31:06.832756",
     "exception": false,
     "start_time": "2023-09-21T21:31:06.635047",
     "status": "completed"
    },
    "tags": []
   },
   "outputs": [
    {
     "name": "stdout",
     "output_type": "stream",
     "text": [
      "Nan Keywords = 61\n",
      "Nan Location = 2533\n"
     ]
    }
   ],
   "source": [
    "print('Nan Keywords = {}'.format(df_train['keyword'].isna().sum()))\n",
    "print('Nan Location = {}'.format(df_train['location'].isna().sum()))"
   ]
  },
  {
   "cell_type": "code",
   "execution_count": 6,
   "id": "2d4fa6d0",
   "metadata": {
    "execution": {
     "iopub.execute_input": "2023-09-21T21:31:07.343655Z",
     "iopub.status.busy": "2023-09-21T21:31:07.342750Z",
     "iopub.status.idle": "2023-09-21T21:31:07.657500Z",
     "shell.execute_reply": "2023-09-21T21:31:07.658667Z",
     "shell.execute_reply.started": "2023-09-21T20:20:41.609206Z"
    },
    "papermill": {
     "duration": 0.588342,
     "end_time": "2023-09-21T21:31:07.658894",
     "exception": false,
     "start_time": "2023-09-21T21:31:07.070552",
     "status": "completed"
    },
    "tags": []
   },
   "outputs": [],
   "source": [
    "# Adding a column in train and test true when link in given in tweet text.\n",
    "\n",
    "df_train['Link_given'] = mysql('''select case when text like '%http%' then 1 else 0 end as Link_given \n",
    "from df_train ''')\n",
    "\n",
    "df_test['Link_given'] = mysql('''select case when text like '%http%' then 1 else 0 end as Link_given \n",
    "from df_test ''')"
   ]
  },
  {
   "cell_type": "code",
   "execution_count": 7,
   "id": "c76789a1",
   "metadata": {
    "execution": {
     "iopub.execute_input": "2023-09-21T21:31:08.191678Z",
     "iopub.status.busy": "2023-09-21T21:31:08.190744Z",
     "iopub.status.idle": "2023-09-21T21:31:08.193090Z",
     "shell.execute_reply": "2023-09-21T21:31:08.192424Z"
    },
    "papermill": {
     "duration": 0.273784,
     "end_time": "2023-09-21T21:31:08.193244",
     "exception": false,
     "start_time": "2023-09-21T21:31:07.919460",
     "status": "completed"
    },
    "tags": []
   },
   "outputs": [],
   "source": [
    "# !pip install urlextract\n",
    "# from urlextract import URLExtract\n",
    "\n",
    "# def extr(head):\n",
    "#     extractor = URLExtract()\n",
    "#     urls = extractor.find_urls(head)\n",
    "#     return urls\n",
    "# df_train['text'].apply(extr)\n",
    "\n",
    "# from yarl import URL\n",
    "\n",
    "# def extract_URL(headline_text):\n",
    "#     return re.findall(r'(https?://\\S+)', headline_text)\n",
    "\n",
    "# q = df_train['text'].apply(extract_URL)\n",
    "\n",
    "# z = []\n",
    "# for i in range(0,len(q)):\n",
    "#     if not q[i]:\n",
    "#         z.append('None')\n",
    "#     else:\n",
    "#         z.append(q[i])\n",
    "# print(pd.Series(z))\n",
    "\n",
    "# df_train['url'] = df_train['url'].astype('str').apply(URL)\n",
    "\n",
    "# c =[]\n",
    "# for i in df_train['url'].astype('str'):\n",
    "#     c.append(URL(i).path)\n",
    "# c"
   ]
  },
  {
   "cell_type": "markdown",
   "id": "fc6d1427",
   "metadata": {
    "papermill": {
     "duration": 0.20135,
     "end_time": "2023-09-21T21:31:08.652761",
     "exception": false,
     "start_time": "2023-09-21T21:31:08.451411",
     "status": "completed"
    },
    "tags": []
   },
   "source": [
    "# Removing ULRs"
   ]
  },
  {
   "cell_type": "code",
   "execution_count": 8,
   "id": "85f06f0b",
   "metadata": {
    "execution": {
     "iopub.execute_input": "2023-09-21T21:31:09.137898Z",
     "iopub.status.busy": "2023-09-21T21:31:09.121365Z",
     "iopub.status.idle": "2023-09-21T21:31:09.148635Z",
     "shell.execute_reply": "2023-09-21T21:31:09.148111Z",
     "shell.execute_reply.started": "2023-09-21T20:20:46.453145Z"
    },
    "papermill": {
     "duration": 0.274255,
     "end_time": "2023-09-21T21:31:09.148773",
     "exception": false,
     "start_time": "2023-09-21T21:31:08.874518",
     "status": "completed"
    },
    "tags": []
   },
   "outputs": [],
   "source": [
    "def remove_URL(headline_text):\n",
    "    url = re.compile(r'https?://\\S+|www\\.\\S+')\n",
    "    return url.sub(r'', headline_text)\n",
    "\n",
    "df_train['text'] = df_train['text'].apply(remove_URL)"
   ]
  },
  {
   "cell_type": "code",
   "execution_count": 9,
   "id": "6912a336",
   "metadata": {
    "execution": {
     "iopub.execute_input": "2023-09-21T21:31:09.586920Z",
     "iopub.status.busy": "2023-09-21T21:31:09.578621Z",
     "iopub.status.idle": "2023-09-21T21:31:09.734772Z",
     "shell.execute_reply": "2023-09-21T21:31:09.735285Z",
     "shell.execute_reply.started": "2023-09-21T20:20:46.731912Z"
    },
    "papermill": {
     "duration": 0.379247,
     "end_time": "2023-09-21T21:31:09.735491",
     "exception": false,
     "start_time": "2023-09-21T21:31:09.356244",
     "status": "completed"
    },
    "tags": []
   },
   "outputs": [
    {
     "data": {
      "text/html": [
       "<div>\n",
       "<style scoped>\n",
       "    .dataframe tbody tr th:only-of-type {\n",
       "        vertical-align: middle;\n",
       "    }\n",
       "\n",
       "    .dataframe tbody tr th {\n",
       "        vertical-align: top;\n",
       "    }\n",
       "\n",
       "    .dataframe thead th {\n",
       "        text-align: right;\n",
       "    }\n",
       "</style>\n",
       "<table border=\"1\" class=\"dataframe\">\n",
       "  <thead>\n",
       "    <tr style=\"text-align: right;\">\n",
       "      <th></th>\n",
       "      <th>text</th>\n",
       "    </tr>\n",
       "  </thead>\n",
       "  <tbody>\n",
       "    <tr>\n",
       "      <th>0</th>\n",
       "      <td>Aftershock: Protect Yourself and Profit in the Next Global Financial Meltdown by David Wiedemer http</td>\n",
       "    </tr>\n",
       "  </tbody>\n",
       "</table>\n",
       "</div>"
      ],
      "text/plain": [
       "                                                                                                    text\n",
       "0  Aftershock: Protect Yourself and Profit in the Next Global Financial Meltdown by David Wiedemer http "
      ]
     },
     "execution_count": 9,
     "metadata": {},
     "output_type": "execute_result"
    }
   ],
   "source": [
    "mysql('''select text\n",
    "from df_train\n",
    "where text like '%http%'\n",
    "''')"
   ]
  },
  {
   "cell_type": "markdown",
   "id": "6e7762cc",
   "metadata": {
    "papermill": {
     "duration": 0.203568,
     "end_time": "2023-09-21T21:31:10.143897",
     "exception": false,
     "start_time": "2023-09-21T21:31:09.940329",
     "status": "completed"
    },
    "tags": []
   },
   "source": [
    "# Removing HTML tags"
   ]
  },
  {
   "cell_type": "code",
   "execution_count": 10,
   "id": "db20f8d3",
   "metadata": {
    "execution": {
     "iopub.execute_input": "2023-09-21T21:31:10.535234Z",
     "iopub.status.busy": "2023-09-21T21:31:10.534374Z",
     "iopub.status.idle": "2023-09-21T21:31:10.544543Z",
     "shell.execute_reply": "2023-09-21T21:31:10.545054Z",
     "shell.execute_reply.started": "2023-09-21T20:20:47.511298Z"
    },
    "papermill": {
     "duration": 0.208921,
     "end_time": "2023-09-21T21:31:10.545203",
     "exception": false,
     "start_time": "2023-09-21T21:31:10.336282",
     "status": "completed"
    },
    "tags": []
   },
   "outputs": [],
   "source": [
    "def remove_html(headline_text):\n",
    "    html=re.compile(r'<.*?>')\n",
    "    return html.sub(r'',headline_text)\n",
    "\n",
    "df_train['text'] = df_train['text'].apply(remove_html)"
   ]
  },
  {
   "cell_type": "markdown",
   "id": "665dc371",
   "metadata": {
    "papermill": {
     "duration": 0.186123,
     "end_time": "2023-09-21T21:31:10.917175",
     "exception": false,
     "start_time": "2023-09-21T21:31:10.731052",
     "status": "completed"
    },
    "tags": []
   },
   "source": [
    "# Removing Accented Characters"
   ]
  },
  {
   "cell_type": "code",
   "execution_count": 11,
   "id": "62eb3146",
   "metadata": {
    "execution": {
     "iopub.execute_input": "2023-09-21T21:31:11.323975Z",
     "iopub.status.busy": "2023-09-21T21:31:11.318900Z",
     "iopub.status.idle": "2023-09-21T21:31:11.330006Z",
     "shell.execute_reply": "2023-09-21T21:31:11.329491Z",
     "shell.execute_reply.started": "2023-09-21T20:20:48.108446Z"
    },
    "papermill": {
     "duration": 0.222966,
     "end_time": "2023-09-21T21:31:11.330133",
     "exception": false,
     "start_time": "2023-09-21T21:31:11.107167",
     "status": "completed"
    },
    "tags": []
   },
   "outputs": [],
   "source": [
    "def remove_accented_chars(text):\n",
    "    text = unicodedata.normalize('NFKD', text).encode('ascii', 'ignore').decode('utf-8', 'ignore')\n",
    "    return text\n",
    "df_train['text'] = df_train['text'].apply(remove_accented_chars)\n",
    "# df_train['location']= df_train['location'].apply(remove_accented_chars)\n",
    "# df_train['keyword'] = df_train['keyword'].apply(remove_accented_chars)"
   ]
  },
  {
   "cell_type": "markdown",
   "id": "ff363cac",
   "metadata": {
    "papermill": {
     "duration": 0.185495,
     "end_time": "2023-09-21T21:31:11.701674",
     "exception": false,
     "start_time": "2023-09-21T21:31:11.516179",
     "status": "completed"
    },
    "tags": []
   },
   "source": [
    "# Removing Special Characters, Numbers and Symbols"
   ]
  },
  {
   "cell_type": "code",
   "execution_count": 12,
   "id": "9f6ea8a5",
   "metadata": {
    "execution": {
     "iopub.execute_input": "2023-09-21T21:31:12.115169Z",
     "iopub.status.busy": "2023-09-21T21:31:12.099765Z",
     "iopub.status.idle": "2023-09-21T21:31:12.125507Z",
     "shell.execute_reply": "2023-09-21T21:31:12.125990Z",
     "shell.execute_reply.started": "2023-09-21T20:20:49.179398Z"
    },
    "papermill": {
     "duration": 0.238209,
     "end_time": "2023-09-21T21:31:12.126157",
     "exception": false,
     "start_time": "2023-09-21T21:31:11.887948",
     "status": "completed"
    },
    "tags": []
   },
   "outputs": [],
   "source": [
    "def remove_special_characters(text, remove_digits=False):\n",
    "    pattern = r'[^a-zA-Z0-9\\s]' if not remove_digits else r'[^a-zA-Z\\s]'\n",
    "    text = re.sub(pattern, ' ', text) #removing character with space\n",
    "    return text\n",
    "df_train['text'] = df_train['text'].apply(remove_special_characters)"
   ]
  },
  {
   "cell_type": "markdown",
   "id": "202e1461",
   "metadata": {
    "papermill": {
     "duration": 0.186846,
     "end_time": "2023-09-21T21:31:12.500610",
     "exception": false,
     "start_time": "2023-09-21T21:31:12.313764",
     "status": "completed"
    },
    "tags": []
   },
   "source": [
    "# Expanding Contractions"
   ]
  },
  {
   "cell_type": "code",
   "execution_count": 13,
   "id": "7263dcad",
   "metadata": {
    "execution": {
     "iopub.execute_input": "2023-09-21T21:31:12.878937Z",
     "iopub.status.busy": "2023-09-21T21:31:12.877934Z",
     "iopub.status.idle": "2023-09-21T21:31:12.984187Z",
     "shell.execute_reply": "2023-09-21T21:31:12.983570Z",
     "shell.execute_reply.started": "2023-09-21T20:20:52.544070Z"
    },
    "papermill": {
     "duration": 0.297883,
     "end_time": "2023-09-21T21:31:12.984325",
     "exception": false,
     "start_time": "2023-09-21T21:31:12.686442",
     "status": "completed"
    },
    "tags": []
   },
   "outputs": [],
   "source": [
    "import contractions\n",
    "\n",
    "list(contractions.contractions_dict.items())[:20]\n",
    "df_train['text'] = df_train['text'].apply(contractions.fix)"
   ]
  },
  {
   "cell_type": "markdown",
   "id": "e8f22f51",
   "metadata": {
    "papermill": {
     "duration": 0.187181,
     "end_time": "2023-09-21T21:31:13.359801",
     "exception": false,
     "start_time": "2023-09-21T21:31:13.172620",
     "status": "completed"
    },
    "tags": []
   },
   "source": [
    "# Adding Sentiment"
   ]
  },
  {
   "cell_type": "code",
   "execution_count": 14,
   "id": "bd68d0b4",
   "metadata": {
    "execution": {
     "iopub.execute_input": "2023-09-21T21:31:13.736056Z",
     "iopub.status.busy": "2023-09-21T21:31:13.735166Z",
     "iopub.status.idle": "2023-09-21T21:31:15.852601Z",
     "shell.execute_reply": "2023-09-21T21:31:15.853149Z",
     "shell.execute_reply.started": "2023-09-21T20:20:55.542086Z"
    },
    "papermill": {
     "duration": 2.30742,
     "end_time": "2023-09-21T21:31:15.853309",
     "exception": false,
     "start_time": "2023-09-21T21:31:13.545889",
     "status": "completed"
    },
    "tags": []
   },
   "outputs": [
    {
     "data": {
      "text/html": [
       "<div>\n",
       "<style scoped>\n",
       "    .dataframe tbody tr th:only-of-type {\n",
       "        vertical-align: middle;\n",
       "    }\n",
       "\n",
       "    .dataframe tbody tr th {\n",
       "        vertical-align: top;\n",
       "    }\n",
       "\n",
       "    .dataframe thead th {\n",
       "        text-align: right;\n",
       "    }\n",
       "</style>\n",
       "<table border=\"1\" class=\"dataframe\">\n",
       "  <thead>\n",
       "    <tr style=\"text-align: right;\">\n",
       "      <th></th>\n",
       "      <th>id</th>\n",
       "      <th>keyword</th>\n",
       "      <th>location</th>\n",
       "      <th>text</th>\n",
       "      <th>target</th>\n",
       "      <th>Link_given</th>\n",
       "      <th>Polarity</th>\n",
       "      <th>Subjectivity</th>\n",
       "    </tr>\n",
       "  </thead>\n",
       "  <tbody>\n",
       "    <tr>\n",
       "      <th>0</th>\n",
       "      <td>1</td>\n",
       "      <td>NaN</td>\n",
       "      <td>NaN</td>\n",
       "      <td>Our Deeds are the Reason of this  earthquake May ALLAH Forgive us all</td>\n",
       "      <td>1</td>\n",
       "      <td>0</td>\n",
       "      <td>0.000000</td>\n",
       "      <td>0.000000</td>\n",
       "    </tr>\n",
       "    <tr>\n",
       "      <th>1</th>\n",
       "      <td>4</td>\n",
       "      <td>NaN</td>\n",
       "      <td>NaN</td>\n",
       "      <td>Forest fire near La Ronge Sask  Canada</td>\n",
       "      <td>1</td>\n",
       "      <td>0</td>\n",
       "      <td>0.100000</td>\n",
       "      <td>0.400000</td>\n",
       "    </tr>\n",
       "    <tr>\n",
       "      <th>2</th>\n",
       "      <td>5</td>\n",
       "      <td>NaN</td>\n",
       "      <td>NaN</td>\n",
       "      <td>All residents asked to  shelter in place  are being notified by officers  No other evacuation or shelter in place orders are expected</td>\n",
       "      <td>1</td>\n",
       "      <td>0</td>\n",
       "      <td>-0.018750</td>\n",
       "      <td>0.387500</td>\n",
       "    </tr>\n",
       "    <tr>\n",
       "      <th>3</th>\n",
       "      <td>6</td>\n",
       "      <td>NaN</td>\n",
       "      <td>NaN</td>\n",
       "      <td>13 000 people receive  wildfires evacuation orders in California</td>\n",
       "      <td>1</td>\n",
       "      <td>0</td>\n",
       "      <td>0.000000</td>\n",
       "      <td>0.000000</td>\n",
       "    </tr>\n",
       "    <tr>\n",
       "      <th>4</th>\n",
       "      <td>7</td>\n",
       "      <td>NaN</td>\n",
       "      <td>NaN</td>\n",
       "      <td>Just got sent this photo from Ruby  Alaska as smoke from  wildfires pours into a school</td>\n",
       "      <td>1</td>\n",
       "      <td>0</td>\n",
       "      <td>0.000000</td>\n",
       "      <td>0.000000</td>\n",
       "    </tr>\n",
       "    <tr>\n",
       "      <th>...</th>\n",
       "      <td>...</td>\n",
       "      <td>...</td>\n",
       "      <td>...</td>\n",
       "      <td>...</td>\n",
       "      <td>...</td>\n",
       "      <td>...</td>\n",
       "      <td>...</td>\n",
       "      <td>...</td>\n",
       "    </tr>\n",
       "    <tr>\n",
       "      <th>7608</th>\n",
       "      <td>10869</td>\n",
       "      <td>NaN</td>\n",
       "      <td>NaN</td>\n",
       "      <td>Two giant cranes holding a bridge collapse into nearby homes</td>\n",
       "      <td>1</td>\n",
       "      <td>1</td>\n",
       "      <td>0.000000</td>\n",
       "      <td>1.000000</td>\n",
       "    </tr>\n",
       "    <tr>\n",
       "      <th>7609</th>\n",
       "      <td>10870</td>\n",
       "      <td>NaN</td>\n",
       "      <td>NaN</td>\n",
       "      <td>aria ahrary  TheTawniest The out of control wild fires in California even in the Northern part of the state  Very troubling</td>\n",
       "      <td>1</td>\n",
       "      <td>0</td>\n",
       "      <td>0.150000</td>\n",
       "      <td>0.350000</td>\n",
       "    </tr>\n",
       "    <tr>\n",
       "      <th>7610</th>\n",
       "      <td>10871</td>\n",
       "      <td>NaN</td>\n",
       "      <td>NaN</td>\n",
       "      <td>M1 94  01 04 UTC  5km S of Volcano Hawaii</td>\n",
       "      <td>1</td>\n",
       "      <td>1</td>\n",
       "      <td>0.000000</td>\n",
       "      <td>0.000000</td>\n",
       "    </tr>\n",
       "    <tr>\n",
       "      <th>7611</th>\n",
       "      <td>10872</td>\n",
       "      <td>NaN</td>\n",
       "      <td>NaN</td>\n",
       "      <td>Police investigating after an e bike collided with a car in Little Portugal  E bike rider suffered serious non life threatening injuries</td>\n",
       "      <td>1</td>\n",
       "      <td>0</td>\n",
       "      <td>-0.260417</td>\n",
       "      <td>0.583333</td>\n",
       "    </tr>\n",
       "    <tr>\n",
       "      <th>7612</th>\n",
       "      <td>10873</td>\n",
       "      <td>NaN</td>\n",
       "      <td>NaN</td>\n",
       "      <td>The Latest  More Homes Razed by Northern California Wildfire   ABC News</td>\n",
       "      <td>1</td>\n",
       "      <td>1</td>\n",
       "      <td>0.500000</td>\n",
       "      <td>0.700000</td>\n",
       "    </tr>\n",
       "  </tbody>\n",
       "</table>\n",
       "<p>7613 rows × 8 columns</p>\n",
       "</div>"
      ],
      "text/plain": [
       "         id keyword location  \\\n",
       "0         1     NaN      NaN   \n",
       "1         4     NaN      NaN   \n",
       "2         5     NaN      NaN   \n",
       "3         6     NaN      NaN   \n",
       "4         7     NaN      NaN   \n",
       "...     ...     ...      ...   \n",
       "7608  10869     NaN      NaN   \n",
       "7609  10870     NaN      NaN   \n",
       "7610  10871     NaN      NaN   \n",
       "7611  10872     NaN      NaN   \n",
       "7612  10873     NaN      NaN   \n",
       "\n",
       "                                                                                                                                           text  \\\n",
       "0                                                                         Our Deeds are the Reason of this  earthquake May ALLAH Forgive us all   \n",
       "1                                                                                                        Forest fire near La Ronge Sask  Canada   \n",
       "2         All residents asked to  shelter in place  are being notified by officers  No other evacuation or shelter in place orders are expected   \n",
       "3                                                                             13 000 people receive  wildfires evacuation orders in California    \n",
       "4                                                      Just got sent this photo from Ruby  Alaska as smoke from  wildfires pours into a school    \n",
       "...                                                                                                                                         ...   \n",
       "7608                                                                              Two giant cranes holding a bridge collapse into nearby homes    \n",
       "7609               aria ahrary  TheTawniest The out of control wild fires in California even in the Northern part of the state  Very troubling    \n",
       "7610                                                                                                M1 94  01 04 UTC  5km S of Volcano Hawaii     \n",
       "7611  Police investigating after an e bike collided with a car in Little Portugal  E bike rider suffered serious non life threatening injuries    \n",
       "7612                                                                   The Latest  More Homes Razed by Northern California Wildfire   ABC News    \n",
       "\n",
       "      target  Link_given  Polarity  Subjectivity  \n",
       "0          1           0  0.000000      0.000000  \n",
       "1          1           0  0.100000      0.400000  \n",
       "2          1           0 -0.018750      0.387500  \n",
       "3          1           0  0.000000      0.000000  \n",
       "4          1           0  0.000000      0.000000  \n",
       "...      ...         ...       ...           ...  \n",
       "7608       1           1  0.000000      1.000000  \n",
       "7609       1           0  0.150000      0.350000  \n",
       "7610       1           1  0.000000      0.000000  \n",
       "7611       1           0 -0.260417      0.583333  \n",
       "7612       1           1  0.500000      0.700000  \n",
       "\n",
       "[7613 rows x 8 columns]"
      ]
     },
     "execution_count": 14,
     "metadata": {},
     "output_type": "execute_result"
    }
   ],
   "source": [
    "x_train_snt_obj = df_train['text'].apply(lambda row: textblob.TextBlob(row).sentiment)\n",
    "df_train['Polarity'] = [obj.polarity for obj in x_train_snt_obj.values]\n",
    "df_train['Subjectivity'] = [obj.subjectivity for obj in x_train_snt_obj.values]\n",
    "df_train"
   ]
  },
  {
   "cell_type": "code",
   "execution_count": 15,
   "id": "93d06d37",
   "metadata": {
    "execution": {
     "iopub.execute_input": "2023-09-21T21:31:16.241648Z",
     "iopub.status.busy": "2023-09-21T21:31:16.240741Z",
     "iopub.status.idle": "2023-09-21T21:31:17.048731Z",
     "shell.execute_reply": "2023-09-21T21:31:17.049201Z",
     "shell.execute_reply.started": "2023-09-21T20:20:57.796608Z"
    },
    "papermill": {
     "duration": 1.005584,
     "end_time": "2023-09-21T21:31:17.049368",
     "exception": false,
     "start_time": "2023-09-21T21:31:16.043784",
     "status": "completed"
    },
    "tags": []
   },
   "outputs": [
    {
     "name": "stderr",
     "output_type": "stream",
     "text": [
      "/opt/conda/lib/python3.7/site-packages/seaborn/_decorators.py:43: FutureWarning: Pass the following variables as keyword args: x, y. From version 0.12, the only valid positional argument will be `data`, and passing other arguments without an explicit keyword will result in an error or misinterpretation.\n",
      "  FutureWarning\n"
     ]
    },
    {
     "data": {
      "image/png": "[encoded data removed]",
      "text/plain": [
       "<Figure size 1440x432 with 1 Axes>"
      ]
     },
     "metadata": {
      "needs_background": "light"
     },
     "output_type": "display_data"
    }
   ],
   "source": [
    "plt.figure(figsize =(20,6))\n",
    "sns.scatterplot(df_train['Polarity'] , df_train['Subjectivity'] ,hue = df_train['target']);"
   ]
  },
  {
   "cell_type": "code",
   "execution_count": 16,
   "id": "e1e9b0a9",
   "metadata": {
    "execution": {
     "iopub.execute_input": "2023-09-21T21:31:17.448649Z",
     "iopub.status.busy": "2023-09-21T21:31:17.447700Z",
     "iopub.status.idle": "2023-09-21T21:31:17.471164Z",
     "shell.execute_reply": "2023-09-21T21:31:17.470683Z",
     "shell.execute_reply.started": "2023-09-21T20:17:21.959925Z"
    },
    "papermill": {
     "duration": 0.22455,
     "end_time": "2023-09-21T21:31:17.471292",
     "exception": false,
     "start_time": "2023-09-21T21:31:17.246742",
     "status": "completed"
    },
    "tags": []
   },
   "outputs": [
    {
     "data": {
      "text/html": [
       "<div>\n",
       "<style scoped>\n",
       "    .dataframe tbody tr th:only-of-type {\n",
       "        vertical-align: middle;\n",
       "    }\n",
       "\n",
       "    .dataframe tbody tr th {\n",
       "        vertical-align: top;\n",
       "    }\n",
       "\n",
       "    .dataframe thead th {\n",
       "        text-align: right;\n",
       "    }\n",
       "</style>\n",
       "<table border=\"1\" class=\"dataframe\">\n",
       "  <thead>\n",
       "    <tr style=\"text-align: right;\">\n",
       "      <th></th>\n",
       "      <th>id</th>\n",
       "      <th>target</th>\n",
       "      <th>Link_given</th>\n",
       "      <th>Polarity</th>\n",
       "      <th>Subjectivity</th>\n",
       "    </tr>\n",
       "  </thead>\n",
       "  <tbody>\n",
       "    <tr>\n",
       "      <th>count</th>\n",
       "      <td>7613.000000</td>\n",
       "      <td>7613.00000</td>\n",
       "      <td>7613.000000</td>\n",
       "      <td>7613.000000</td>\n",
       "      <td>7613.000000</td>\n",
       "    </tr>\n",
       "    <tr>\n",
       "      <th>mean</th>\n",
       "      <td>5441.934848</td>\n",
       "      <td>0.42966</td>\n",
       "      <td>0.521608</td>\n",
       "      <td>0.046280</td>\n",
       "      <td>0.298636</td>\n",
       "    </tr>\n",
       "    <tr>\n",
       "      <th>std</th>\n",
       "      <td>3137.116090</td>\n",
       "      <td>0.49506</td>\n",
       "      <td>0.499566</td>\n",
       "      <td>0.257502</td>\n",
       "      <td>0.323525</td>\n",
       "    </tr>\n",
       "    <tr>\n",
       "      <th>min</th>\n",
       "      <td>1.000000</td>\n",
       "      <td>0.00000</td>\n",
       "      <td>0.000000</td>\n",
       "      <td>-1.000000</td>\n",
       "      <td>0.000000</td>\n",
       "    </tr>\n",
       "    <tr>\n",
       "      <th>25%</th>\n",
       "      <td>2734.000000</td>\n",
       "      <td>0.00000</td>\n",
       "      <td>0.000000</td>\n",
       "      <td>0.000000</td>\n",
       "      <td>0.000000</td>\n",
       "    </tr>\n",
       "    <tr>\n",
       "      <th>50%</th>\n",
       "      <td>5408.000000</td>\n",
       "      <td>0.00000</td>\n",
       "      <td>1.000000</td>\n",
       "      <td>0.000000</td>\n",
       "      <td>0.200000</td>\n",
       "    </tr>\n",
       "    <tr>\n",
       "      <th>75%</th>\n",
       "      <td>8146.000000</td>\n",
       "      <td>1.00000</td>\n",
       "      <td>1.000000</td>\n",
       "      <td>0.120635</td>\n",
       "      <td>0.533333</td>\n",
       "    </tr>\n",
       "    <tr>\n",
       "      <th>max</th>\n",
       "      <td>10873.000000</td>\n",
       "      <td>1.00000</td>\n",
       "      <td>1.000000</td>\n",
       "      <td>1.000000</td>\n",
       "      <td>1.000000</td>\n",
       "    </tr>\n",
       "  </tbody>\n",
       "</table>\n",
       "</div>"
      ],
      "text/plain": [
       "                 id      target   Link_given     Polarity  Subjectivity\n",
       "count   7613.000000  7613.00000  7613.000000  7613.000000   7613.000000\n",
       "mean    5441.934848     0.42966     0.521608     0.046280      0.298636\n",
       "std     3137.116090     0.49506     0.499566     0.257502      0.323525\n",
       "min        1.000000     0.00000     0.000000    -1.000000      0.000000\n",
       "25%     2734.000000     0.00000     0.000000     0.000000      0.000000\n",
       "50%     5408.000000     0.00000     1.000000     0.000000      0.200000\n",
       "75%     8146.000000     1.00000     1.000000     0.120635      0.533333\n",
       "max    10873.000000     1.00000     1.000000     1.000000      1.000000"
      ]
     },
     "execution_count": 16,
     "metadata": {},
     "output_type": "execute_result"
    }
   ],
   "source": [
    "df_train.describe()"
   ]
  },
  {
   "cell_type": "code",
   "execution_count": 17,
   "id": "771151e4",
   "metadata": {
    "execution": {
     "iopub.execute_input": "2023-09-21T21:31:17.863511Z",
     "iopub.status.busy": "2023-09-21T21:31:17.862667Z",
     "iopub.status.idle": "2023-09-21T21:31:18.033906Z",
     "shell.execute_reply": "2023-09-21T21:31:18.033357Z",
     "shell.execute_reply.started": "2023-08-17T21:14:33.151568Z"
    },
    "papermill": {
     "duration": 0.369133,
     "end_time": "2023-09-21T21:31:18.034047",
     "exception": false,
     "start_time": "2023-09-21T21:31:17.664914",
     "status": "completed"
    },
    "tags": []
   },
   "outputs": [
    {
     "data": {
      "text/html": [
       "<div>\n",
       "<style scoped>\n",
       "    .dataframe tbody tr th:only-of-type {\n",
       "        vertical-align: middle;\n",
       "    }\n",
       "\n",
       "    .dataframe tbody tr th {\n",
       "        vertical-align: top;\n",
       "    }\n",
       "\n",
       "    .dataframe thead th {\n",
       "        text-align: right;\n",
       "    }\n",
       "</style>\n",
       "<table border=\"1\" class=\"dataframe\">\n",
       "  <thead>\n",
       "    <tr style=\"text-align: right;\">\n",
       "      <th></th>\n",
       "      <th>sum(target)</th>\n",
       "    </tr>\n",
       "  </thead>\n",
       "  <tbody>\n",
       "    <tr>\n",
       "      <th>0</th>\n",
       "      <td>1605</td>\n",
       "    </tr>\n",
       "  </tbody>\n",
       "</table>\n",
       "</div>"
      ],
      "text/plain": [
       "   sum(target)\n",
       "0         1605"
      ]
     },
     "execution_count": 17,
     "metadata": {},
     "output_type": "execute_result"
    }
   ],
   "source": [
    "mysql('''select sum(target) from df_train\n",
    "where Polarity = 0''')"
   ]
  },
  {
   "cell_type": "markdown",
   "id": "a6842ab7",
   "metadata": {
    "papermill": {
     "duration": 0.193557,
     "end_time": "2023-09-21T21:31:18.423838",
     "exception": false,
     "start_time": "2023-09-21T21:31:18.230281",
     "status": "completed"
    },
    "tags": []
   },
   "source": [
    "# Trying wordninja"
   ]
  },
  {
   "cell_type": "code",
   "execution_count": 18,
   "id": "e11f0b20",
   "metadata": {
    "execution": {
     "iopub.execute_input": "2023-09-21T21:31:18.824241Z",
     "iopub.status.busy": "2023-09-21T21:31:18.823325Z",
     "iopub.status.idle": "2023-09-21T21:31:18.825843Z",
     "shell.execute_reply": "2023-09-21T21:31:18.825222Z",
     "shell.execute_reply.started": "2023-08-17T21:14:33.311633Z"
    },
    "papermill": {
     "duration": 0.208335,
     "end_time": "2023-09-21T21:31:18.825968",
     "exception": false,
     "start_time": "2023-09-21T21:31:18.617633",
     "status": "completed"
    },
    "tags": []
   },
   "outputs": [],
   "source": [
    "# ! pip install wordninja\n",
    "# import wordninja"
   ]
  },
  {
   "cell_type": "code",
   "execution_count": 19,
   "id": "566837b7",
   "metadata": {
    "execution": {
     "iopub.execute_input": "2023-09-21T21:31:19.263043Z",
     "iopub.status.busy": "2023-09-21T21:31:19.262084Z",
     "iopub.status.idle": "2023-09-21T21:31:19.264623Z",
     "shell.execute_reply": "2023-09-21T21:31:19.264000Z",
     "shell.execute_reply.started": "2023-07-04T12:28:17.858541Z"
    },
    "papermill": {
     "duration": 0.201803,
     "end_time": "2023-09-21T21:31:19.264753",
     "exception": false,
     "start_time": "2023-09-21T21:31:19.062950",
     "status": "completed"
    },
    "tags": []
   },
   "outputs": [],
   "source": [
    "# wordninja.split(df_train['text'].astype('str'))\n",
    "# df_train['text_ninja'] = df_train['text'].apply(wordninja.split)\n",
    "# df_train.drop(['text_ninja'] , axis = 1 , inplace = True)"
   ]
  },
  {
   "cell_type": "code",
   "execution_count": 20,
   "id": "7f702bf5",
   "metadata": {
    "execution": {
     "iopub.execute_input": "2023-09-21T21:31:19.670778Z",
     "iopub.status.busy": "2023-09-21T21:31:19.669966Z",
     "iopub.status.idle": "2023-09-21T21:31:19.673550Z",
     "shell.execute_reply": "2023-09-21T21:31:19.674010Z",
     "shell.execute_reply.started": "2023-09-21T20:17:39.621105Z"
    },
    "papermill": {
     "duration": 0.214484,
     "end_time": "2023-09-21T21:31:19.674154",
     "exception": false,
     "start_time": "2023-09-21T21:31:19.459670",
     "status": "completed"
    },
    "tags": []
   },
   "outputs": [
    {
     "data": {
      "text/html": [
       "<div>\n",
       "<style scoped>\n",
       "    .dataframe tbody tr th:only-of-type {\n",
       "        vertical-align: middle;\n",
       "    }\n",
       "\n",
       "    .dataframe tbody tr th {\n",
       "        vertical-align: top;\n",
       "    }\n",
       "\n",
       "    .dataframe thead th {\n",
       "        text-align: right;\n",
       "    }\n",
       "</style>\n",
       "<table border=\"1\" class=\"dataframe\">\n",
       "  <thead>\n",
       "    <tr style=\"text-align: right;\">\n",
       "      <th></th>\n",
       "      <th>id</th>\n",
       "      <th>keyword</th>\n",
       "      <th>location</th>\n",
       "      <th>text</th>\n",
       "      <th>target</th>\n",
       "      <th>Link_given</th>\n",
       "      <th>Polarity</th>\n",
       "      <th>Subjectivity</th>\n",
       "    </tr>\n",
       "  </thead>\n",
       "  <tbody>\n",
       "    <tr>\n",
       "      <th>0</th>\n",
       "      <td>1</td>\n",
       "      <td>NaN</td>\n",
       "      <td>NaN</td>\n",
       "      <td>Our Deeds are the Reason of this  earthquake May ALLAH Forgive us all</td>\n",
       "      <td>1</td>\n",
       "      <td>0</td>\n",
       "      <td>0.000000</td>\n",
       "      <td>0.000000</td>\n",
       "    </tr>\n",
       "    <tr>\n",
       "      <th>1</th>\n",
       "      <td>4</td>\n",
       "      <td>NaN</td>\n",
       "      <td>NaN</td>\n",
       "      <td>Forest fire near La Ronge Sask  Canada</td>\n",
       "      <td>1</td>\n",
       "      <td>0</td>\n",
       "      <td>0.100000</td>\n",
       "      <td>0.400000</td>\n",
       "    </tr>\n",
       "    <tr>\n",
       "      <th>2</th>\n",
       "      <td>5</td>\n",
       "      <td>NaN</td>\n",
       "      <td>NaN</td>\n",
       "      <td>All residents asked to  shelter in place  are being notified by officers  No other evacuation or shelter in place orders are expected</td>\n",
       "      <td>1</td>\n",
       "      <td>0</td>\n",
       "      <td>-0.018750</td>\n",
       "      <td>0.387500</td>\n",
       "    </tr>\n",
       "    <tr>\n",
       "      <th>3</th>\n",
       "      <td>6</td>\n",
       "      <td>NaN</td>\n",
       "      <td>NaN</td>\n",
       "      <td>13 000 people receive  wildfires evacuation orders in California</td>\n",
       "      <td>1</td>\n",
       "      <td>0</td>\n",
       "      <td>0.000000</td>\n",
       "      <td>0.000000</td>\n",
       "    </tr>\n",
       "    <tr>\n",
       "      <th>4</th>\n",
       "      <td>7</td>\n",
       "      <td>NaN</td>\n",
       "      <td>NaN</td>\n",
       "      <td>Just got sent this photo from Ruby  Alaska as smoke from  wildfires pours into a school</td>\n",
       "      <td>1</td>\n",
       "      <td>0</td>\n",
       "      <td>0.000000</td>\n",
       "      <td>0.000000</td>\n",
       "    </tr>\n",
       "    <tr>\n",
       "      <th>...</th>\n",
       "      <td>...</td>\n",
       "      <td>...</td>\n",
       "      <td>...</td>\n",
       "      <td>...</td>\n",
       "      <td>...</td>\n",
       "      <td>...</td>\n",
       "      <td>...</td>\n",
       "      <td>...</td>\n",
       "    </tr>\n",
       "    <tr>\n",
       "      <th>7608</th>\n",
       "      <td>10869</td>\n",
       "      <td>NaN</td>\n",
       "      <td>NaN</td>\n",
       "      <td>Two giant cranes holding a bridge collapse into nearby homes</td>\n",
       "      <td>1</td>\n",
       "      <td>1</td>\n",
       "      <td>0.000000</td>\n",
       "      <td>1.000000</td>\n",
       "    </tr>\n",
       "    <tr>\n",
       "      <th>7609</th>\n",
       "      <td>10870</td>\n",
       "      <td>NaN</td>\n",
       "      <td>NaN</td>\n",
       "      <td>aria ahrary  TheTawniest The out of control wild fires in California even in the Northern part of the state  Very troubling</td>\n",
       "      <td>1</td>\n",
       "      <td>0</td>\n",
       "      <td>0.150000</td>\n",
       "      <td>0.350000</td>\n",
       "    </tr>\n",
       "    <tr>\n",
       "      <th>7610</th>\n",
       "      <td>10871</td>\n",
       "      <td>NaN</td>\n",
       "      <td>NaN</td>\n",
       "      <td>M1 94  01 04 UTC  5km S of Volcano Hawaii</td>\n",
       "      <td>1</td>\n",
       "      <td>1</td>\n",
       "      <td>0.000000</td>\n",
       "      <td>0.000000</td>\n",
       "    </tr>\n",
       "    <tr>\n",
       "      <th>7611</th>\n",
       "      <td>10872</td>\n",
       "      <td>NaN</td>\n",
       "      <td>NaN</td>\n",
       "      <td>Police investigating after an e bike collided with a car in Little Portugal  E bike rider suffered serious non life threatening injuries</td>\n",
       "      <td>1</td>\n",
       "      <td>0</td>\n",
       "      <td>-0.260417</td>\n",
       "      <td>0.583333</td>\n",
       "    </tr>\n",
       "    <tr>\n",
       "      <th>7612</th>\n",
       "      <td>10873</td>\n",
       "      <td>NaN</td>\n",
       "      <td>NaN</td>\n",
       "      <td>The Latest  More Homes Razed by Northern California Wildfire   ABC News</td>\n",
       "      <td>1</td>\n",
       "      <td>1</td>\n",
       "      <td>0.500000</td>\n",
       "      <td>0.700000</td>\n",
       "    </tr>\n",
       "  </tbody>\n",
       "</table>\n",
       "<p>7613 rows × 8 columns</p>\n",
       "</div>"
      ],
      "text/plain": [
       "         id keyword location  \\\n",
       "0         1     NaN      NaN   \n",
       "1         4     NaN      NaN   \n",
       "2         5     NaN      NaN   \n",
       "3         6     NaN      NaN   \n",
       "4         7     NaN      NaN   \n",
       "...     ...     ...      ...   \n",
       "7608  10869     NaN      NaN   \n",
       "7609  10870     NaN      NaN   \n",
       "7610  10871     NaN      NaN   \n",
       "7611  10872     NaN      NaN   \n",
       "7612  10873     NaN      NaN   \n",
       "\n",
       "                                                                                                                                           text  \\\n",
       "0                                                                         Our Deeds are the Reason of this  earthquake May ALLAH Forgive us all   \n",
       "1                                                                                                        Forest fire near La Ronge Sask  Canada   \n",
       "2         All residents asked to  shelter in place  are being notified by officers  No other evacuation or shelter in place orders are expected   \n",
       "3                                                                             13 000 people receive  wildfires evacuation orders in California    \n",
       "4                                                      Just got sent this photo from Ruby  Alaska as smoke from  wildfires pours into a school    \n",
       "...                                                                                                                                         ...   \n",
       "7608                                                                              Two giant cranes holding a bridge collapse into nearby homes    \n",
       "7609               aria ahrary  TheTawniest The out of control wild fires in California even in the Northern part of the state  Very troubling    \n",
       "7610                                                                                                M1 94  01 04 UTC  5km S of Volcano Hawaii     \n",
       "7611  Police investigating after an e bike collided with a car in Little Portugal  E bike rider suffered serious non life threatening injuries    \n",
       "7612                                                                   The Latest  More Homes Razed by Northern California Wildfire   ABC News    \n",
       "\n",
       "      target  Link_given  Polarity  Subjectivity  \n",
       "0          1           0  0.000000      0.000000  \n",
       "1          1           0  0.100000      0.400000  \n",
       "2          1           0 -0.018750      0.387500  \n",
       "3          1           0  0.000000      0.000000  \n",
       "4          1           0  0.000000      0.000000  \n",
       "...      ...         ...       ...           ...  \n",
       "7608       1           1  0.000000      1.000000  \n",
       "7609       1           0  0.150000      0.350000  \n",
       "7610       1           1  0.000000      0.000000  \n",
       "7611       1           0 -0.260417      0.583333  \n",
       "7612       1           1  0.500000      0.700000  \n",
       "\n",
       "[7613 rows x 8 columns]"
      ]
     },
     "execution_count": 20,
     "metadata": {},
     "output_type": "execute_result"
    }
   ],
   "source": [
    "df_train"
   ]
  },
  {
   "cell_type": "markdown",
   "id": "1a631119",
   "metadata": {
    "papermill": {
     "duration": 0.195112,
     "end_time": "2023-09-21T21:31:20.063632",
     "exception": false,
     "start_time": "2023-09-21T21:31:19.868520",
     "status": "completed"
    },
    "tags": []
   },
   "source": [
    "# Textstat for reading time and readibility"
   ]
  },
  {
   "cell_type": "code",
   "execution_count": 21,
   "id": "aae12b3e",
   "metadata": {
    "execution": {
     "iopub.execute_input": "2023-09-21T21:31:20.461388Z",
     "iopub.status.busy": "2023-09-21T21:31:20.460472Z",
     "iopub.status.idle": "2023-09-21T21:31:20.587606Z",
     "shell.execute_reply": "2023-09-21T21:31:20.587047Z",
     "shell.execute_reply.started": "2023-09-21T20:17:43.596116Z"
    },
    "papermill": {
     "duration": 0.327008,
     "end_time": "2023-09-21T21:31:20.587745",
     "exception": false,
     "start_time": "2023-09-21T21:31:20.260737",
     "status": "completed"
    },
    "tags": []
   },
   "outputs": [],
   "source": [
    "import textstat "
   ]
  },
  {
   "cell_type": "code",
   "execution_count": 22,
   "id": "958ea5ee",
   "metadata": {
    "execution": {
     "iopub.execute_input": "2023-09-21T21:31:21.057785Z",
     "iopub.status.busy": "2023-09-21T21:31:21.021931Z",
     "iopub.status.idle": "2023-09-21T21:31:21.259887Z",
     "shell.execute_reply": "2023-09-21T21:31:21.259211Z",
     "shell.execute_reply.started": "2023-09-21T20:21:02.631167Z"
    },
    "papermill": {
     "duration": 0.477781,
     "end_time": "2023-09-21T21:31:21.260053",
     "exception": false,
     "start_time": "2023-09-21T21:31:20.782272",
     "status": "completed"
    },
    "tags": []
   },
   "outputs": [],
   "source": [
    "df_train['Readibility_score'] = df_train['text'].apply(textstat.automated_readability_index)\n",
    "df_train['Reading_time'] = df_train['text'].apply(textstat.reading_time)"
   ]
  },
  {
   "cell_type": "code",
   "execution_count": 23,
   "id": "28931ae8",
   "metadata": {
    "execution": {
     "iopub.execute_input": "2023-09-21T21:31:21.716595Z",
     "iopub.status.busy": "2023-09-21T21:31:21.715513Z",
     "iopub.status.idle": "2023-09-21T21:31:22.531411Z",
     "shell.execute_reply": "2023-09-21T21:31:22.531888Z",
     "shell.execute_reply.started": "2023-08-17T21:14:55.315573Z"
    },
    "papermill": {
     "duration": 1.045745,
     "end_time": "2023-09-21T21:31:22.532046",
     "exception": false,
     "start_time": "2023-09-21T21:31:21.486301",
     "status": "completed"
    },
    "tags": []
   },
   "outputs": [
    {
     "name": "stderr",
     "output_type": "stream",
     "text": [
      "/opt/conda/lib/python3.7/site-packages/seaborn/_decorators.py:43: FutureWarning: Pass the following variables as keyword args: x, y. From version 0.12, the only valid positional argument will be `data`, and passing other arguments without an explicit keyword will result in an error or misinterpretation.\n",
      "  FutureWarning\n"
     ]
    },
    {
     "data": {
      "image/png": "[encoded data removed]",
      "text/plain": [
       "<Figure size 1440x432 with 1 Axes>"
      ]
     },
     "metadata": {
      "needs_background": "light"
     },
     "output_type": "display_data"
    }
   ],
   "source": [
    "plt.figure(figsize =(20,6))\n",
    "sns.scatterplot(df_train['Readibility_score'] , df_train['Reading_time'] ,hue = df_train['target']);"
   ]
  },
  {
   "cell_type": "code",
   "execution_count": 24,
   "id": "c030c42c",
   "metadata": {
    "execution": {
     "iopub.execute_input": "2023-09-21T21:31:22.954534Z",
     "iopub.status.busy": "2023-09-21T21:31:22.949270Z",
     "iopub.status.idle": "2023-09-21T21:31:24.365990Z",
     "shell.execute_reply": "2023-09-21T21:31:24.364862Z",
     "shell.execute_reply.started": "2023-09-21T20:21:04.915237Z"
    },
    "papermill": {
     "duration": 1.631771,
     "end_time": "2023-09-21T21:31:24.366138",
     "exception": false,
     "start_time": "2023-09-21T21:31:22.734367",
     "status": "completed"
    },
    "tags": []
   },
   "outputs": [],
   "source": [
    "df_train['linsear_write_text'] = df_train['text'].apply(textstat.linsear_write_formula)\n",
    "\n",
    "# df_train['McAlpine_EFLAW_text'] = df_train['text'].apply(textstat.mcalpine_eflaw)\n",
    "\n",
    "# df_train['gulpease_text'] = df_train['text'].apply(textstat.gulpease_index)\n",
    "\n",
    "# df_train['szigriszt_text'] = df_train['text'].apply(textstat.szigriszt_pazos)\n",
    "\n",
    "# df_train['miniword_text'] = df_train['text'].apply(textstat.miniword_count)\n",
    "\n",
    "# df_train['longword_text'] = df_train['text'].apply(textstat.long_word_count)\n",
    "\n",
    "df_train['wps_text'] = df_train['text'].apply(textstat.words_per_sentence)\n",
    "\n",
    "# df_train['total_sentence_text'] = df_train['text'].apply(textstat.sentence_count)\n",
    "\n",
    "# df_train['polysyllable_text'] = df_train['text'].apply(textstat.polysyllabcount)"
   ]
  },
  {
   "cell_type": "code",
   "execution_count": 25,
   "id": "7d847521",
   "metadata": {
    "execution": {
     "iopub.execute_input": "2023-09-21T21:31:24.771090Z",
     "iopub.status.busy": "2023-09-21T21:31:24.770453Z",
     "iopub.status.idle": "2023-09-21T21:31:24.774601Z",
     "shell.execute_reply": "2023-09-21T21:31:24.774099Z",
     "shell.execute_reply.started": "2023-09-21T20:18:44.852200Z"
    },
    "papermill": {
     "duration": 0.208114,
     "end_time": "2023-09-21T21:31:24.774735",
     "exception": false,
     "start_time": "2023-09-21T21:31:24.566621",
     "status": "completed"
    },
    "tags": []
   },
   "outputs": [],
   "source": [
    "from nltk.tokenize import word_tokenize"
   ]
  },
  {
   "cell_type": "code",
   "execution_count": 26,
   "id": "3f3837fe",
   "metadata": {
    "execution": {
     "iopub.execute_input": "2023-09-21T21:31:25.187903Z",
     "iopub.status.busy": "2023-09-21T21:31:25.187163Z",
     "iopub.status.idle": "2023-09-21T21:31:26.694243Z",
     "shell.execute_reply": "2023-09-21T21:31:26.694754Z",
     "shell.execute_reply.started": "2023-09-21T20:21:09.002812Z"
    },
    "papermill": {
     "duration": 1.720732,
     "end_time": "2023-09-21T21:31:26.694928",
     "exception": false,
     "start_time": "2023-09-21T21:31:24.974196",
     "status": "completed"
    },
    "tags": []
   },
   "outputs": [],
   "source": [
    "def calculate_ttr(text):\n",
    "    # Tokenize the text into words\n",
    "    words = word_tokenize(text)\n",
    "\n",
    "    # Calculate the number of unique words (types)\n",
    "    unique_words = set(words)\n",
    "    num_unique_words = len(unique_words)\n",
    "\n",
    "    # Calculate the total number of words (tokens)\n",
    "    num_total_words = len(words)\n",
    "\n",
    "    # Calculate the TTR (Type-Token Ratio)\n",
    "    if num_total_words > 0:\n",
    "        ttr = num_unique_words / num_total_words\n",
    "        return ttr\n",
    "    else:\n",
    "        return 0\n",
    "\n",
    "# # Sample text\n",
    "# text = \"Natural Language Processing (NLP) is a subfield of artificial intelligence focused on the interaction between computers and humans through natural language. NLP techniques allow computers to understand, interpret, and generate human language.\"\n",
    "\n",
    "# # Calculate the Lexical Diversity Score using TTR\n",
    "# lexical_diversity_score = calculate_ttr(text)\n",
    "\n",
    "# print(\"Lexical Diversity Score (TTR):\", lexical_diversity_score)\n",
    "df_train['Lexical_diversity'] = df_train['text'].apply(calculate_ttr)\n",
    "\n",
    "df_train['text'] = df_train['text'].apply(str.lower)\n",
    "df_train['text'] = df_train['text'].apply(str.strip)"
   ]
  },
  {
   "cell_type": "code",
   "execution_count": 27,
   "id": "f093607d",
   "metadata": {
    "execution": {
     "iopub.execute_input": "2023-09-21T21:31:27.106800Z",
     "iopub.status.busy": "2023-09-21T21:31:27.105851Z",
     "iopub.status.idle": "2023-09-21T21:31:27.108356Z",
     "shell.execute_reply": "2023-09-21T21:31:27.107771Z",
     "shell.execute_reply.started": "2023-07-04T13:09:45.208821Z"
    },
    "papermill": {
     "duration": 0.209479,
     "end_time": "2023-09-21T21:31:27.108505",
     "exception": false,
     "start_time": "2023-09-21T21:31:26.899026",
     "status": "completed"
    },
    "tags": []
   },
   "outputs": [],
   "source": [
    "# !pip install ekphrasis\n",
    "# from ekphrasis.classes.preprocessor import TextPreProcessor\n",
    "# from ekphrasis.classes.tokenizer import SocialTokenizer\n",
    "# from ekphrasis.dicts.emoticons import emoticons"
   ]
  },
  {
   "cell_type": "markdown",
   "id": "b11744a8",
   "metadata": {
    "papermill": {
     "duration": 0.201988,
     "end_time": "2023-09-21T21:31:27.515202",
     "exception": false,
     "start_time": "2023-09-21T21:31:27.313214",
     "status": "completed"
    },
    "tags": []
   },
   "source": [
    "# Stop words removal"
   ]
  },
  {
   "cell_type": "code",
   "execution_count": 28,
   "id": "97c6926e",
   "metadata": {
    "execution": {
     "iopub.execute_input": "2023-09-21T21:31:27.924973Z",
     "iopub.status.busy": "2023-09-21T21:31:27.924109Z",
     "iopub.status.idle": "2023-09-21T21:31:27.928299Z",
     "shell.execute_reply": "2023-09-21T21:31:27.927838Z",
     "shell.execute_reply.started": "2022-06-25T20:48:46.494137Z"
    },
    "papermill": {
     "duration": 0.209421,
     "end_time": "2023-09-21T21:31:27.928445",
     "exception": false,
     "start_time": "2023-09-21T21:31:27.719024",
     "status": "completed"
    },
    "tags": []
   },
   "outputs": [],
   "source": [
    "# def remove_stopwords(text, is_lower_case=False, stopwords=None):\n",
    "#     if not stopwords:\n",
    "#         stopwords = nltk.corpus.stopwords.words('english')\n",
    "#     tokens = nltk.word_tokenize(text)\n",
    "#     tokens = [token.strip() for token in tokens]\n",
    "    \n",
    "#     if is_lower_case:\n",
    "#         filtered_tokens = [token for token in tokens if token not in stopwords]\n",
    "#     else:\n",
    "#         filtered_tokens = [token for token in tokens if token.lower() not in stopwords]\n",
    "    \n",
    "#     filtered_text = ' '.join(filtered_tokens)    \n",
    "#     return filtered_text"
   ]
  },
  {
   "cell_type": "code",
   "execution_count": 29,
   "id": "64462fb3",
   "metadata": {
    "execution": {
     "iopub.execute_input": "2023-09-21T21:31:28.340675Z",
     "iopub.status.busy": "2023-09-21T21:31:28.339728Z",
     "iopub.status.idle": "2023-09-21T21:31:28.341592Z",
     "shell.execute_reply": "2023-09-21T21:31:28.342163Z",
     "shell.execute_reply.started": "2022-06-25T20:48:46.496192Z"
    },
    "papermill": {
     "duration": 0.20846,
     "end_time": "2023-09-21T21:31:28.342309",
     "exception": false,
     "start_time": "2023-09-21T21:31:28.133849",
     "status": "completed"
    },
    "tags": []
   },
   "outputs": [],
   "source": [
    "# stop_words = nltk.corpus.stopwords.words('english')\n",
    "# print(stop_words[:10])\n",
    "\n",
    "# df_train['text'] = df_train['text'].apply(remove_stopwords)\n",
    "# df_train"
   ]
  },
  {
   "cell_type": "code",
   "execution_count": 30,
   "id": "22b00aed",
   "metadata": {
    "execution": {
     "iopub.execute_input": "2023-09-21T21:31:28.763951Z",
     "iopub.status.busy": "2023-09-21T21:31:28.762982Z",
     "iopub.status.idle": "2023-09-21T21:31:28.765343Z",
     "shell.execute_reply": "2023-09-21T21:31:28.764810Z",
     "shell.execute_reply.started": "2022-06-25T20:48:46.498058Z"
    },
    "papermill": {
     "duration": 0.218904,
     "end_time": "2023-09-21T21:31:28.765492",
     "exception": false,
     "start_time": "2023-09-21T21:31:28.546588",
     "status": "completed"
    },
    "tags": []
   },
   "outputs": [],
   "source": [
    "## to add our words in list of stop_words\n",
    "## for eg\n",
    "# our_word = ['what' , 'was' , 'hello'] # and so on\n",
    "# stop_words = nltk.corpus.stopwords.words('english')\n",
    "# stop_words.extend(our_word)"
   ]
  },
  {
   "cell_type": "markdown",
   "id": "6b45c0fc",
   "metadata": {
    "papermill": {
     "duration": 0.209284,
     "end_time": "2023-09-21T21:31:29.216008",
     "exception": false,
     "start_time": "2023-09-21T21:31:29.006724",
     "status": "completed"
    },
    "tags": []
   },
   "source": [
    "# stemmer"
   ]
  },
  {
   "cell_type": "code",
   "execution_count": 31,
   "id": "0c0ce472",
   "metadata": {
    "execution": {
     "iopub.execute_input": "2023-09-21T21:31:29.629562Z",
     "iopub.status.busy": "2023-09-21T21:31:29.628605Z",
     "iopub.status.idle": "2023-09-21T21:31:29.630504Z",
     "shell.execute_reply": "2023-09-21T21:31:29.630976Z",
     "shell.execute_reply.started": "2022-06-25T20:48:46.499942Z"
    },
    "papermill": {
     "duration": 0.211126,
     "end_time": "2023-09-21T21:31:29.631122",
     "exception": false,
     "start_time": "2023-09-21T21:31:29.419996",
     "status": "completed"
    },
    "tags": []
   },
   "outputs": [],
   "source": [
    "# from nltk.stem import PorterStemmer\n",
    "# ps = PorterStemmer()\n",
    "\n",
    "# ps.stem('jumping'), ps.stem('jumps'), ps.stem('jumped')\n",
    "\n",
    "# df_train['text'] = df_train['text'].apply(ps.stem)\n",
    "# df_train['text'] = df_train['text'].apply(str.lower)\n",
    "# df_train['text'] = df_train['text'].apply(str.strip)\n",
    "# df_train"
   ]
  },
  {
   "cell_type": "markdown",
   "id": "0004edaa",
   "metadata": {
    "papermill": {
     "duration": 0.201549,
     "end_time": "2023-09-21T21:31:30.033983",
     "exception": false,
     "start_time": "2023-09-21T21:31:29.832434",
     "status": "completed"
    },
    "tags": []
   },
   "source": [
    "# Checking Location"
   ]
  },
  {
   "cell_type": "code",
   "execution_count": 32,
   "id": "33c14f37",
   "metadata": {
    "execution": {
     "iopub.execute_input": "2023-09-21T21:31:30.447113Z",
     "iopub.status.busy": "2023-09-21T21:31:30.446184Z",
     "iopub.status.idle": "2023-09-21T21:31:30.448157Z",
     "shell.execute_reply": "2023-09-21T21:31:30.448703Z",
     "shell.execute_reply.started": "2023-07-06T11:53:07.501541Z"
    },
    "papermill": {
     "duration": 0.211525,
     "end_time": "2023-09-21T21:31:30.448861",
     "exception": false,
     "start_time": "2023-09-21T21:31:30.237336",
     "status": "completed"
    },
    "tags": []
   },
   "outputs": [],
   "source": [
    "df_train['location'].fillna('None' , inplace = True)\n",
    "\n",
    "# mysql('''select location , target , count(target) as t\n",
    "# from df_train\n",
    "# group by location , target\n",
    "# order by t desc\n",
    "# ''')"
   ]
  },
  {
   "cell_type": "code",
   "execution_count": 33,
   "id": "cfd6ee62",
   "metadata": {
    "execution": {
     "iopub.execute_input": "2023-09-21T21:31:30.857677Z",
     "iopub.status.busy": "2023-09-21T21:31:30.856585Z",
     "iopub.status.idle": "2023-09-21T21:31:30.858685Z",
     "shell.execute_reply": "2023-09-21T21:31:30.859160Z",
     "shell.execute_reply.started": "2022-02-23T09:11:48.213806Z"
    },
    "papermill": {
     "duration": 0.208674,
     "end_time": "2023-09-21T21:31:30.859306",
     "exception": false,
     "start_time": "2023-09-21T21:31:30.650632",
     "status": "completed"
    },
    "tags": []
   },
   "outputs": [],
   "source": [
    "# df_train.drop(['keyword' , 'location'] , inplace = True , axis = 1)"
   ]
  },
  {
   "cell_type": "markdown",
   "id": "22e8fad5",
   "metadata": {
    "papermill": {
     "duration": 0.20321,
     "end_time": "2023-09-21T21:31:31.265346",
     "exception": false,
     "start_time": "2023-09-21T21:31:31.062136",
     "status": "completed"
    },
    "tags": []
   },
   "source": [
    "# Removing Duplicate Rows"
   ]
  },
  {
   "cell_type": "code",
   "execution_count": 34,
   "id": "a917bb85",
   "metadata": {
    "execution": {
     "iopub.execute_input": "2023-09-21T21:31:31.727809Z",
     "iopub.status.busy": "2023-09-21T21:31:31.727039Z",
     "iopub.status.idle": "2023-09-21T21:31:31.756501Z",
     "shell.execute_reply": "2023-09-21T21:31:31.757232Z",
     "shell.execute_reply.started": "2023-09-21T20:21:17.305819Z"
    },
    "papermill": {
     "duration": 0.23887,
     "end_time": "2023-09-21T21:31:31.757470",
     "exception": false,
     "start_time": "2023-09-21T21:31:31.518600",
     "status": "completed"
    },
    "tags": []
   },
   "outputs": [
    {
     "data": {
      "text/html": [
       "<div>\n",
       "<style scoped>\n",
       "    .dataframe tbody tr th:only-of-type {\n",
       "        vertical-align: middle;\n",
       "    }\n",
       "\n",
       "    .dataframe tbody tr th {\n",
       "        vertical-align: top;\n",
       "    }\n",
       "\n",
       "    .dataframe thead th {\n",
       "        text-align: right;\n",
       "    }\n",
       "</style>\n",
       "<table border=\"1\" class=\"dataframe\">\n",
       "  <thead>\n",
       "    <tr style=\"text-align: right;\">\n",
       "      <th></th>\n",
       "      <th>id</th>\n",
       "      <th>keyword</th>\n",
       "      <th>location</th>\n",
       "      <th>text</th>\n",
       "      <th>target</th>\n",
       "      <th>...</th>\n",
       "      <th>Readibility_score</th>\n",
       "      <th>Reading_time</th>\n",
       "      <th>linsear_write_text</th>\n",
       "      <th>wps_text</th>\n",
       "      <th>Lexical_diversity</th>\n",
       "    </tr>\n",
       "  </thead>\n",
       "  <tbody>\n",
       "    <tr>\n",
       "      <th>48</th>\n",
       "      <td>68</td>\n",
       "      <td>ablaze</td>\n",
       "      <td>Live On Webcam</td>\n",
       "      <td>check these out       nsfw</td>\n",
       "      <td>0</td>\n",
       "      <td>...</td>\n",
       "      <td>0.6</td>\n",
       "      <td>0.25</td>\n",
       "      <td>1.0</td>\n",
       "      <td>4.0</td>\n",
       "      <td>1.0</td>\n",
       "    </tr>\n",
       "    <tr>\n",
       "      <th>106</th>\n",
       "      <td>156</td>\n",
       "      <td>aftershock</td>\n",
       "      <td>US</td>\n",
       "      <td>320  ir  icemoon  aftershock        djicemoon    dubstep  trapmusic  dnb  edm  dance  icesu</td>\n",
       "      <td>0</td>\n",
       "      <td>...</td>\n",
       "      <td>11.1</td>\n",
       "      <td>0.93</td>\n",
       "      <td>6.5</td>\n",
       "      <td>11.0</td>\n",
       "      <td>1.0</td>\n",
       "    </tr>\n",
       "    <tr>\n",
       "      <th>114</th>\n",
       "      <td>164</td>\n",
       "      <td>aftershock</td>\n",
       "      <td>Switzerland</td>\n",
       "      <td>320  ir  icemoon  aftershock        djicemoon    dubstep  trapmusic  dnb  edm  dance  icesu</td>\n",
       "      <td>0</td>\n",
       "      <td>...</td>\n",
       "      <td>11.1</td>\n",
       "      <td>0.93</td>\n",
       "      <td>6.5</td>\n",
       "      <td>11.0</td>\n",
       "      <td>1.0</td>\n",
       "    </tr>\n",
       "    <tr>\n",
       "      <th>115</th>\n",
       "      <td>165</td>\n",
       "      <td>aftershock</td>\n",
       "      <td>US</td>\n",
       "      <td>320  ir  icemoon  aftershock        djicemoon    dubstep  trapmusic  dnb  edm  dance  icesu</td>\n",
       "      <td>0</td>\n",
       "      <td>...</td>\n",
       "      <td>11.1</td>\n",
       "      <td>0.93</td>\n",
       "      <td>6.5</td>\n",
       "      <td>11.0</td>\n",
       "      <td>1.0</td>\n",
       "    </tr>\n",
       "    <tr>\n",
       "      <th>116</th>\n",
       "      <td>168</td>\n",
       "      <td>aftershock</td>\n",
       "      <td>None</td>\n",
       "      <td>320  ir  icemoon  aftershock        djicemoon    dubstep  trapmusic  dnb  edm  dance  icesu</td>\n",
       "      <td>0</td>\n",
       "      <td>...</td>\n",
       "      <td>11.1</td>\n",
       "      <td>0.93</td>\n",
       "      <td>6.5</td>\n",
       "      <td>11.0</td>\n",
       "      <td>1.0</td>\n",
       "    </tr>\n",
       "    <tr>\n",
       "      <th>...</th>\n",
       "      <td>...</td>\n",
       "      <td>...</td>\n",
       "      <td>...</td>\n",
       "      <td>...</td>\n",
       "      <td>...</td>\n",
       "      <td>...</td>\n",
       "      <td>...</td>\n",
       "      <td>...</td>\n",
       "      <td>...</td>\n",
       "      <td>...</td>\n",
       "      <td>...</td>\n",
       "    </tr>\n",
       "    <tr>\n",
       "      <th>7538</th>\n",
       "      <td>10777</td>\n",
       "      <td>wreckage</td>\n",
       "      <td>None</td>\n",
       "      <td>wreckage  conclusively confirmed  as from mh370  malaysia pm  investigators and the families of those who were</td>\n",
       "      <td>1</td>\n",
       "      <td>...</td>\n",
       "      <td>13.4</td>\n",
       "      <td>1.34</td>\n",
       "      <td>11.0</td>\n",
       "      <td>16.0</td>\n",
       "      <td>1.0</td>\n",
       "    </tr>\n",
       "    <tr>\n",
       "      <th>7539</th>\n",
       "      <td>10779</td>\n",
       "      <td>wreckage</td>\n",
       "      <td>Maharashtra</td>\n",
       "      <td>wreckage  conclusively confirmed  as from mh370  malaysia pm  investigators and the families of those who were</td>\n",
       "      <td>1</td>\n",
       "      <td>...</td>\n",
       "      <td>13.4</td>\n",
       "      <td>1.34</td>\n",
       "      <td>11.0</td>\n",
       "      <td>16.0</td>\n",
       "      <td>1.0</td>\n",
       "    </tr>\n",
       "    <tr>\n",
       "      <th>7540</th>\n",
       "      <td>10780</td>\n",
       "      <td>wreckage</td>\n",
       "      <td>Mumbai</td>\n",
       "      <td>wreckage  conclusively confirmed  as from mh370  malaysia pm  investigators and the families of those who were</td>\n",
       "      <td>1</td>\n",
       "      <td>...</td>\n",
       "      <td>13.4</td>\n",
       "      <td>1.34</td>\n",
       "      <td>11.0</td>\n",
       "      <td>16.0</td>\n",
       "      <td>1.0</td>\n",
       "    </tr>\n",
       "    <tr>\n",
       "      <th>7541</th>\n",
       "      <td>10782</td>\n",
       "      <td>wreckage</td>\n",
       "      <td>New Delhi,India</td>\n",
       "      <td>wreckage  conclusively confirmed  as from mh370  malaysia pm  investigators and the families of those who were</td>\n",
       "      <td>1</td>\n",
       "      <td>...</td>\n",
       "      <td>13.4</td>\n",
       "      <td>1.34</td>\n",
       "      <td>11.0</td>\n",
       "      <td>16.0</td>\n",
       "      <td>1.0</td>\n",
       "    </tr>\n",
       "    <tr>\n",
       "      <th>7543</th>\n",
       "      <td>10784</td>\n",
       "      <td>wreckage</td>\n",
       "      <td>Mumbai</td>\n",
       "      <td>wreckage  conclusively confirmed  as from mh370  malaysia pm  investigators and the families of those who were</td>\n",
       "      <td>1</td>\n",
       "      <td>...</td>\n",
       "      <td>13.4</td>\n",
       "      <td>1.34</td>\n",
       "      <td>11.0</td>\n",
       "      <td>16.0</td>\n",
       "      <td>1.0</td>\n",
       "    </tr>\n",
       "  </tbody>\n",
       "</table>\n",
       "<p>598 rows × 13 columns</p>\n",
       "</div>"
      ],
      "text/plain": [
       "         id     keyword         location  \\\n",
       "48       68      ablaze   Live On Webcam   \n",
       "106     156  aftershock               US   \n",
       "114     164  aftershock      Switzerland   \n",
       "115     165  aftershock               US   \n",
       "116     168  aftershock             None   \n",
       "...     ...         ...              ...   \n",
       "7538  10777    wreckage             None   \n",
       "7539  10779    wreckage      Maharashtra   \n",
       "7540  10780    wreckage           Mumbai   \n",
       "7541  10782    wreckage  New Delhi,India   \n",
       "7543  10784    wreckage           Mumbai   \n",
       "\n",
       "                                                                                                                text  \\\n",
       "48                                                                                        check these out       nsfw   \n",
       "106                      320  ir  icemoon  aftershock        djicemoon    dubstep  trapmusic  dnb  edm  dance  icesu   \n",
       "114                      320  ir  icemoon  aftershock        djicemoon    dubstep  trapmusic  dnb  edm  dance  icesu   \n",
       "115                      320  ir  icemoon  aftershock        djicemoon    dubstep  trapmusic  dnb  edm  dance  icesu   \n",
       "116                      320  ir  icemoon  aftershock        djicemoon    dubstep  trapmusic  dnb  edm  dance  icesu   \n",
       "...                                                                                                              ...   \n",
       "7538  wreckage  conclusively confirmed  as from mh370  malaysia pm  investigators and the families of those who were   \n",
       "7539  wreckage  conclusively confirmed  as from mh370  malaysia pm  investigators and the families of those who were   \n",
       "7540  wreckage  conclusively confirmed  as from mh370  malaysia pm  investigators and the families of those who were   \n",
       "7541  wreckage  conclusively confirmed  as from mh370  malaysia pm  investigators and the families of those who were   \n",
       "7543  wreckage  conclusively confirmed  as from mh370  malaysia pm  investigators and the families of those who were   \n",
       "\n",
       "      target  ...  Readibility_score  Reading_time  linsear_write_text  \\\n",
       "48         0  ...                0.6          0.25                 1.0   \n",
       "106        0  ...               11.1          0.93                 6.5   \n",
       "114        0  ...               11.1          0.93                 6.5   \n",
       "115        0  ...               11.1          0.93                 6.5   \n",
       "116        0  ...               11.1          0.93                 6.5   \n",
       "...      ...  ...                ...           ...                 ...   \n",
       "7538       1  ...               13.4          1.34                11.0   \n",
       "7539       1  ...               13.4          1.34                11.0   \n",
       "7540       1  ...               13.4          1.34                11.0   \n",
       "7541       1  ...               13.4          1.34                11.0   \n",
       "7543       1  ...               13.4          1.34                11.0   \n",
       "\n",
       "      wps_text  Lexical_diversity  \n",
       "48         4.0                1.0  \n",
       "106       11.0                1.0  \n",
       "114       11.0                1.0  \n",
       "115       11.0                1.0  \n",
       "116       11.0                1.0  \n",
       "...        ...                ...  \n",
       "7538      16.0                1.0  \n",
       "7539      16.0                1.0  \n",
       "7540      16.0                1.0  \n",
       "7541      16.0                1.0  \n",
       "7543      16.0                1.0  \n",
       "\n",
       "[598 rows x 13 columns]"
      ]
     },
     "execution_count": 34,
     "metadata": {},
     "output_type": "execute_result"
    }
   ],
   "source": [
    "duplicaterow = df_train[df_train[['text' ,'target','keyword']].duplicated()]\n",
    "duplicaterow"
   ]
  },
  {
   "cell_type": "code",
   "execution_count": 35,
   "id": "9cfe3da1",
   "metadata": {
    "execution": {
     "iopub.execute_input": "2023-09-21T21:31:32.174759Z",
     "iopub.status.busy": "2023-09-21T21:31:32.173895Z",
     "iopub.status.idle": "2023-09-21T21:31:32.530972Z",
     "shell.execute_reply": "2023-09-21T21:31:32.531480Z",
     "shell.execute_reply.started": "2023-09-21T20:21:32.409367Z"
    },
    "papermill": {
     "duration": 0.570773,
     "end_time": "2023-09-21T21:31:32.531648",
     "exception": false,
     "start_time": "2023-09-21T21:31:31.960875",
     "status": "completed"
    },
    "tags": []
   },
   "outputs": [
    {
     "data": {
      "text/html": [
       "<div>\n",
       "<style scoped>\n",
       "    .dataframe tbody tr th:only-of-type {\n",
       "        vertical-align: middle;\n",
       "    }\n",
       "\n",
       "    .dataframe tbody tr th {\n",
       "        vertical-align: top;\n",
       "    }\n",
       "\n",
       "    .dataframe thead th {\n",
       "        text-align: right;\n",
       "    }\n",
       "</style>\n",
       "<table border=\"1\" class=\"dataframe\">\n",
       "  <thead>\n",
       "    <tr style=\"text-align: right;\">\n",
       "      <th></th>\n",
       "      <th>id</th>\n",
       "      <th>keyword</th>\n",
       "      <th>location</th>\n",
       "      <th>text</th>\n",
       "      <th>target</th>\n",
       "      <th>...</th>\n",
       "      <th>Readibility_score</th>\n",
       "      <th>Reading_time</th>\n",
       "      <th>linsear_write_text</th>\n",
       "      <th>wps_text</th>\n",
       "      <th>Lexical_diversity</th>\n",
       "    </tr>\n",
       "  </thead>\n",
       "  <tbody>\n",
       "    <tr>\n",
       "      <th>0</th>\n",
       "      <td>1</td>\n",
       "      <td>None</td>\n",
       "      <td>None</td>\n",
       "      <td>our deeds are the reason of this  earthquake may allah forgive us all</td>\n",
       "      <td>1</td>\n",
       "      <td>...</td>\n",
       "      <td>5.4</td>\n",
       "      <td>0.82</td>\n",
       "      <td>5.5</td>\n",
       "      <td>13.0</td>\n",
       "      <td>1.000000</td>\n",
       "    </tr>\n",
       "    <tr>\n",
       "      <th>1</th>\n",
       "      <td>4</td>\n",
       "      <td>None</td>\n",
       "      <td>None</td>\n",
       "      <td>forest fire near la ronge sask  canada</td>\n",
       "      <td>1</td>\n",
       "      <td>...</td>\n",
       "      <td>2.9</td>\n",
       "      <td>0.46</td>\n",
       "      <td>2.5</td>\n",
       "      <td>7.0</td>\n",
       "      <td>1.000000</td>\n",
       "    </tr>\n",
       "    <tr>\n",
       "      <th>2</th>\n",
       "      <td>5</td>\n",
       "      <td>None</td>\n",
       "      <td>None</td>\n",
       "      <td>all residents asked to  shelter in place  are being notified by officers  no other evacuation or shelter in place orders are expected</td>\n",
       "      <td>1</td>\n",
       "      <td>...</td>\n",
       "      <td>12.9</td>\n",
       "      <td>1.60</td>\n",
       "      <td>16.0</td>\n",
       "      <td>22.0</td>\n",
       "      <td>0.818182</td>\n",
       "    </tr>\n",
       "    <tr>\n",
       "      <th>3</th>\n",
       "      <td>6</td>\n",
       "      <td>None</td>\n",
       "      <td>None</td>\n",
       "      <td>13 000 people receive  wildfires evacuation orders in california</td>\n",
       "      <td>1</td>\n",
       "      <td>...</td>\n",
       "      <td>11.8</td>\n",
       "      <td>0.81</td>\n",
       "      <td>5.5</td>\n",
       "      <td>9.0</td>\n",
       "      <td>1.000000</td>\n",
       "    </tr>\n",
       "    <tr>\n",
       "      <th>4</th>\n",
       "      <td>7</td>\n",
       "      <td>None</td>\n",
       "      <td>None</td>\n",
       "      <td>just got sent this photo from ruby  alaska as smoke from  wildfires pours into a school</td>\n",
       "      <td>1</td>\n",
       "      <td>...</td>\n",
       "      <td>7.2</td>\n",
       "      <td>1.03</td>\n",
       "      <td>7.0</td>\n",
       "      <td>16.0</td>\n",
       "      <td>0.937500</td>\n",
       "    </tr>\n",
       "    <tr>\n",
       "      <th>...</th>\n",
       "      <td>...</td>\n",
       "      <td>...</td>\n",
       "      <td>...</td>\n",
       "      <td>...</td>\n",
       "      <td>...</td>\n",
       "      <td>...</td>\n",
       "      <td>...</td>\n",
       "      <td>...</td>\n",
       "      <td>...</td>\n",
       "      <td>...</td>\n",
       "      <td>...</td>\n",
       "    </tr>\n",
       "    <tr>\n",
       "      <th>7010</th>\n",
       "      <td>10869</td>\n",
       "      <td>None</td>\n",
       "      <td>None</td>\n",
       "      <td>two giant cranes holding a bridge collapse into nearby homes</td>\n",
       "      <td>1</td>\n",
       "      <td>...</td>\n",
       "      <td>7.6</td>\n",
       "      <td>0.75</td>\n",
       "      <td>4.0</td>\n",
       "      <td>10.0</td>\n",
       "      <td>1.000000</td>\n",
       "    </tr>\n",
       "    <tr>\n",
       "      <th>7011</th>\n",
       "      <td>10870</td>\n",
       "      <td>None</td>\n",
       "      <td>None</td>\n",
       "      <td>aria ahrary  thetawniest the out of control wild fires in california even in the northern part of the state  very troubling</td>\n",
       "      <td>1</td>\n",
       "      <td>...</td>\n",
       "      <td>11.7</td>\n",
       "      <td>1.48</td>\n",
       "      <td>11.5</td>\n",
       "      <td>21.0</td>\n",
       "      <td>0.857143</td>\n",
       "    </tr>\n",
       "    <tr>\n",
       "      <th>7012</th>\n",
       "      <td>10871</td>\n",
       "      <td>None</td>\n",
       "      <td>None</td>\n",
       "      <td>m1 94  01 04 utc  5km s of volcano hawaii</td>\n",
       "      <td>1</td>\n",
       "      <td>...</td>\n",
       "      <td>-2.4</td>\n",
       "      <td>0.44</td>\n",
       "      <td>4.0</td>\n",
       "      <td>10.0</td>\n",
       "      <td>1.000000</td>\n",
       "    </tr>\n",
       "    <tr>\n",
       "      <th>7013</th>\n",
       "      <td>10872</td>\n",
       "      <td>None</td>\n",
       "      <td>None</td>\n",
       "      <td>police investigating after an e bike collided with a car in little portugal  e bike rider suffered serious non life threatening injuries</td>\n",
       "      <td>1</td>\n",
       "      <td>...</td>\n",
       "      <td>14.0</td>\n",
       "      <td>1.67</td>\n",
       "      <td>16.0</td>\n",
       "      <td>22.0</td>\n",
       "      <td>0.954545</td>\n",
       "    </tr>\n",
       "    <tr>\n",
       "      <th>7014</th>\n",
       "      <td>10873</td>\n",
       "      <td>None</td>\n",
       "      <td>None</td>\n",
       "      <td>the latest  more homes razed by northern california wildfire   abc news</td>\n",
       "      <td>1</td>\n",
       "      <td>...</td>\n",
       "      <td>8.9</td>\n",
       "      <td>0.85</td>\n",
       "      <td>5.5</td>\n",
       "      <td>11.0</td>\n",
       "      <td>1.000000</td>\n",
       "    </tr>\n",
       "  </tbody>\n",
       "</table>\n",
       "<p>7015 rows × 13 columns</p>\n",
       "</div>"
      ],
      "text/plain": [
       "         id keyword location  \\\n",
       "0         1    None     None   \n",
       "1         4    None     None   \n",
       "2         5    None     None   \n",
       "3         6    None     None   \n",
       "4         7    None     None   \n",
       "...     ...     ...      ...   \n",
       "7010  10869    None     None   \n",
       "7011  10870    None     None   \n",
       "7012  10871    None     None   \n",
       "7013  10872    None     None   \n",
       "7014  10873    None     None   \n",
       "\n",
       "                                                                                                                                          text  \\\n",
       "0                                                                        our deeds are the reason of this  earthquake may allah forgive us all   \n",
       "1                                                                                                       forest fire near la ronge sask  canada   \n",
       "2        all residents asked to  shelter in place  are being notified by officers  no other evacuation or shelter in place orders are expected   \n",
       "3                                                                             13 000 people receive  wildfires evacuation orders in california   \n",
       "4                                                      just got sent this photo from ruby  alaska as smoke from  wildfires pours into a school   \n",
       "...                                                                                                                                        ...   \n",
       "7010                                                                              two giant cranes holding a bridge collapse into nearby homes   \n",
       "7011               aria ahrary  thetawniest the out of control wild fires in california even in the northern part of the state  very troubling   \n",
       "7012                                                                                                 m1 94  01 04 utc  5km s of volcano hawaii   \n",
       "7013  police investigating after an e bike collided with a car in little portugal  e bike rider suffered serious non life threatening injuries   \n",
       "7014                                                                   the latest  more homes razed by northern california wildfire   abc news   \n",
       "\n",
       "      target  ...  Readibility_score  Reading_time  linsear_write_text  \\\n",
       "0          1  ...                5.4          0.82                 5.5   \n",
       "1          1  ...                2.9          0.46                 2.5   \n",
       "2          1  ...               12.9          1.60                16.0   \n",
       "3          1  ...               11.8          0.81                 5.5   \n",
       "4          1  ...                7.2          1.03                 7.0   \n",
       "...      ...  ...                ...           ...                 ...   \n",
       "7010       1  ...                7.6          0.75                 4.0   \n",
       "7011       1  ...               11.7          1.48                11.5   \n",
       "7012       1  ...               -2.4          0.44                 4.0   \n",
       "7013       1  ...               14.0          1.67                16.0   \n",
       "7014       1  ...                8.9          0.85                 5.5   \n",
       "\n",
       "      wps_text  Lexical_diversity  \n",
       "0         13.0           1.000000  \n",
       "1          7.0           1.000000  \n",
       "2         22.0           0.818182  \n",
       "3          9.0           1.000000  \n",
       "4         16.0           0.937500  \n",
       "...        ...                ...  \n",
       "7010      10.0           1.000000  \n",
       "7011      21.0           0.857143  \n",
       "7012      10.0           1.000000  \n",
       "7013      22.0           0.954545  \n",
       "7014      11.0           1.000000  \n",
       "\n",
       "[7015 rows x 13 columns]"
      ]
     },
     "execution_count": 35,
     "metadata": {},
     "output_type": "execute_result"
    }
   ],
   "source": [
    "df_train = mysql('''select * \n",
    "from df_train\n",
    "except\n",
    "select * from\n",
    "duplicaterow\n",
    "''')\n",
    "df_train"
   ]
  },
  {
   "cell_type": "markdown",
   "id": "2fcb3aba",
   "metadata": {
    "papermill": {
     "duration": 0.203834,
     "end_time": "2023-09-21T21:31:32.940490",
     "exception": false,
     "start_time": "2023-09-21T21:31:32.736656",
     "status": "completed"
    },
    "tags": []
   },
   "source": [
    "# Word2doc"
   ]
  },
  {
   "cell_type": "code",
   "execution_count": 36,
   "id": "f2c00d2d",
   "metadata": {
    "execution": {
     "iopub.execute_input": "2023-09-21T21:31:33.352788Z",
     "iopub.status.busy": "2023-09-21T21:31:33.351962Z",
     "iopub.status.idle": "2023-09-21T21:31:33.354853Z",
     "shell.execute_reply": "2023-09-21T21:31:33.354291Z",
     "shell.execute_reply.started": "2022-01-06T14:51:56.25275Z"
    },
    "papermill": {
     "duration": 0.210661,
     "end_time": "2023-09-21T21:31:33.354978",
     "exception": false,
     "start_time": "2023-09-21T21:31:33.144317",
     "status": "completed"
    },
    "tags": []
   },
   "outputs": [],
   "source": [
    "# from gensim.models import word2vec\n",
    "\n",
    "# tokenized_corpus = [nltk.word_tokenize(doc) for doc in df_train['text']]\n",
    "\n",
    "# # Set values for various parameters\n",
    "# feature_size = 15    # Word vector dimensionality  \n",
    "# window_context = 20  # Context window size                                                                                    \n",
    "# min_word_count = 1   # Minimum word count                        \n",
    "# sample = 1e-3        # Downsample setting for frequent words\n",
    "# sg = 1               # skip-gram model\n",
    "\n",
    "# w2v_model = word2vec.Word2Vec(tokenized_corpus, vector_size=feature_size, \n",
    "#                               window=window_context, min_count = min_word_count,\n",
    "#                               sg=sg, sample=sample, epochs=50)\n",
    "# w2v_model"
   ]
  },
  {
   "cell_type": "code",
   "execution_count": 37,
   "id": "6429d137",
   "metadata": {
    "execution": {
     "iopub.execute_input": "2023-09-21T21:31:33.769875Z",
     "iopub.status.busy": "2023-09-21T21:31:33.768236Z",
     "iopub.status.idle": "2023-09-21T21:31:33.772387Z",
     "shell.execute_reply": "2023-09-21T21:31:33.771924Z",
     "shell.execute_reply.started": "2022-01-06T14:51:56.795208Z"
    },
    "papermill": {
     "duration": 0.212996,
     "end_time": "2023-09-21T21:31:33.772544",
     "exception": false,
     "start_time": "2023-09-21T21:31:33.559548",
     "status": "completed"
    },
    "tags": []
   },
   "outputs": [],
   "source": [
    "# import matplotlib.pyplot as plt\n",
    "\n",
    "# %matplotlib inline\n",
    "\n",
    "# # visualize embeddings\n",
    "# from sklearn.manifold import TSNE\n",
    "\n",
    "# words = w2v_model.wv.index_to_key\n",
    "# wvs = w2v_model.wv[words]\n",
    "\n",
    "# tsne = TSNE(n_components=2, random_state=42, n_iter=250, perplexity=5)\n",
    "# np.set_printoptions(suppress=True)\n",
    "# T = tsne.fit_transform(wvs)\n",
    "# labels = words\n",
    "\n",
    "# plt.figure(figsize=(12, 6))\n",
    "# plt.scatter(T[:, 0], T[:, 1], c='orange', edgecolors='r')\n",
    "# for label, x, y in zip(labels, T[:, 0], T[:, 1]):\n",
    "#     plt.annotate(label, xy=(x+1, y+1), xytext=(0, 0), textcoords='offset points')"
   ]
  },
  {
   "cell_type": "code",
   "execution_count": 38,
   "id": "a441783f",
   "metadata": {
    "execution": {
     "iopub.execute_input": "2023-09-21T21:31:34.186358Z",
     "iopub.status.busy": "2023-09-21T21:31:34.185431Z",
     "iopub.status.idle": "2023-09-21T21:31:34.187379Z",
     "shell.execute_reply": "2023-09-21T21:31:34.187874Z",
     "shell.execute_reply.started": "2022-01-06T14:51:57.183701Z"
    },
    "papermill": {
     "duration": 0.211555,
     "end_time": "2023-09-21T21:31:34.188022",
     "exception": false,
     "start_time": "2023-09-21T21:31:33.976467",
     "status": "completed"
    },
    "tags": []
   },
   "outputs": [],
   "source": [
    "# vec_df = pd.DataFrame(wvs, index=words)\n",
    "\n",
    "# from sklearn.metrics.pairwise import cosine_similarity\n",
    "# similarity_matrix = cosine_similarity(vec_df.values)\n",
    "# similarity_df = pd.DataFrame(similarity_matrix, index=words, columns=words)\n",
    "# similarity_df\n",
    "\n",
    "# feature_names = np.array(words)\n",
    "# similarity_df.apply(lambda row: feature_names[np.argsort(-row.values)[1:4]], \n",
    "#                     axis=1)"
   ]
  },
  {
   "cell_type": "markdown",
   "id": "3103a28b",
   "metadata": {
    "papermill": {
     "duration": 0.210213,
     "end_time": "2023-09-21T21:31:34.604891",
     "exception": false,
     "start_time": "2023-09-21T21:31:34.394678",
     "status": "completed"
    },
    "tags": []
   },
   "source": [
    "# Adding columns of numbers"
   ]
  },
  {
   "cell_type": "code",
   "execution_count": 39,
   "id": "be2c5ead",
   "metadata": {
    "execution": {
     "iopub.execute_input": "2023-09-21T21:31:35.036472Z",
     "iopub.status.busy": "2023-09-21T21:31:35.034367Z",
     "iopub.status.idle": "2023-09-21T21:31:35.039848Z",
     "shell.execute_reply": "2023-09-21T21:31:35.039351Z",
     "shell.execute_reply.started": "2022-01-06T14:51:59.491437Z"
    },
    "papermill": {
     "duration": 0.228163,
     "end_time": "2023-09-21T21:31:35.039976",
     "exception": false,
     "start_time": "2023-09-21T21:31:34.811813",
     "status": "completed"
    },
    "tags": []
   },
   "outputs": [],
   "source": [
    "df_train['char_count'] = df_train['text'].apply(len)\n",
    "df_train['word_count'] = df_train['text'].apply(lambda x: len(x.split()))"
   ]
  },
  {
   "cell_type": "markdown",
   "id": "b1423863",
   "metadata": {
    "papermill": {
     "duration": 0.203951,
     "end_time": "2023-09-21T21:31:35.451171",
     "exception": false,
     "start_time": "2023-09-21T21:31:35.247220",
     "status": "completed"
    },
    "tags": []
   },
   "source": [
    "# Counting Unique word"
   ]
  },
  {
   "cell_type": "code",
   "execution_count": 40,
   "id": "861ccc4a",
   "metadata": {
    "execution": {
     "iopub.execute_input": "2023-09-21T21:31:35.865894Z",
     "iopub.status.busy": "2023-09-21T21:31:35.864923Z",
     "iopub.status.idle": "2023-09-21T21:31:35.866835Z",
     "shell.execute_reply": "2023-09-21T21:31:35.867301Z",
     "shell.execute_reply.started": "2022-01-06T14:52:02.252029Z"
    },
    "papermill": {
     "duration": 0.211409,
     "end_time": "2023-09-21T21:31:35.867462",
     "exception": false,
     "start_time": "2023-09-21T21:31:35.656053",
     "status": "completed"
    },
    "tags": []
   },
   "outputs": [],
   "source": [
    "# def unique_words(corpus_text_train):\n",
    "#     words = re.findall('\\w+', corpus_text_train)\n",
    "#     uw = len(set(words))\n",
    "#     return uw\n",
    "\n",
    "\n",
    "# df_train['unique_word'] = df_train['text'].apply(unique_words)\n",
    "# df_train['unique_word_ratio'] = df_train['unique_word']/df_train['word_count']\n",
    "\n",
    "# df_train.drop('unique_word' , axis = 1 , inplace = True)"
   ]
  },
  {
   "cell_type": "markdown",
   "id": "a48862f1",
   "metadata": {
    "papermill": {
     "duration": 0.20572,
     "end_time": "2023-09-21T21:31:36.278796",
     "exception": false,
     "start_time": "2023-09-21T21:31:36.073076",
     "status": "completed"
    },
    "tags": []
   },
   "source": [
    "# Name entity recognation"
   ]
  },
  {
   "cell_type": "code",
   "execution_count": 41,
   "id": "c890c144",
   "metadata": {
    "execution": {
     "iopub.execute_input": "2023-09-21T21:31:36.704128Z",
     "iopub.status.busy": "2023-09-21T21:31:36.702383Z",
     "iopub.status.idle": "2023-09-21T21:31:36.704829Z",
     "shell.execute_reply": "2023-09-21T21:31:36.705310Z",
     "shell.execute_reply.started": "2022-01-06T14:52:04.778129Z"
    },
    "papermill": {
     "duration": 0.221955,
     "end_time": "2023-09-21T21:31:36.705475",
     "exception": false,
     "start_time": "2023-09-21T21:31:36.483520",
     "status": "completed"
    },
    "tags": []
   },
   "outputs": [],
   "source": [
    "# import spacy\n",
    "# from spacy import displacy\n",
    "\n",
    "# NER = spacy.load(\"en_core_web_sm\")"
   ]
  },
  {
   "cell_type": "code",
   "execution_count": 42,
   "id": "c8b2127d",
   "metadata": {
    "execution": {
     "iopub.execute_input": "2023-09-21T21:31:37.113546Z",
     "iopub.status.busy": "2023-09-21T21:31:37.112312Z",
     "iopub.status.idle": "2023-09-21T21:31:37.115345Z",
     "shell.execute_reply": "2023-09-21T21:31:37.114714Z",
     "shell.execute_reply.started": "2022-06-25T20:54:28.84465Z"
    },
    "papermill": {
     "duration": 0.209611,
     "end_time": "2023-09-21T21:31:37.115486",
     "exception": false,
     "start_time": "2023-09-21T21:31:36.905875",
     "status": "completed"
    },
    "tags": []
   },
   "outputs": [],
   "source": [
    "# !pip uninstall spacy"
   ]
  },
  {
   "cell_type": "code",
   "execution_count": 43,
   "id": "0338e4e9",
   "metadata": {
    "execution": {
     "iopub.execute_input": "2023-09-21T21:31:37.532435Z",
     "iopub.status.busy": "2023-09-21T21:31:37.531451Z",
     "iopub.status.idle": "2023-09-21T21:31:55.122995Z",
     "shell.execute_reply": "2023-09-21T21:31:55.122361Z",
     "shell.execute_reply.started": "2022-06-25T20:54:34.193243Z"
    },
    "papermill": {
     "duration": 17.798719,
     "end_time": "2023-09-21T21:31:55.123138",
     "exception": false,
     "start_time": "2023-09-21T21:31:37.324419",
     "status": "completed"
    },
    "tags": []
   },
   "outputs": [
    {
     "name": "stdout",
     "output_type": "stream",
     "text": [
      "Requirement already satisfied: spacy in /opt/conda/lib/python3.7/site-packages (3.1.4)\r\n",
      "Collecting spacy\r\n",
      "  Downloading spacy-3.6.1-cp37-cp37m-manylinux_2_17_x86_64.manylinux2014_x86_64.whl (6.5 MB)\r\n",
      "     |████████████████████████████████| 6.5 MB 5.9 MB/s            \r\n",
      "\u001b[?25hRequirement already satisfied: typer<0.10.0,>=0.3.0 in /opt/conda/lib/python3.7/site-packages (from spacy) (0.4.0)\r\n",
      "Requirement already satisfied: catalogue<2.1.0,>=2.0.6 in /opt/conda/lib/python3.7/site-packages (from spacy) (2.0.6)\r\n",
      "Collecting srsly<3.0.0,>=2.4.3\r\n",
      "  Downloading srsly-2.4.7-cp37-cp37m-manylinux_2_17_x86_64.manylinux2014_x86_64.whl (491 kB)\r\n",
      "     |████████████████████████████████| 491 kB 58.9 MB/s            \r\n",
      "\u001b[?25hCollecting thinc<8.2.0,>=8.1.8\r\n",
      "  Downloading thinc-8.1.12-cp37-cp37m-manylinux_2_17_x86_64.manylinux2014_x86_64.whl (918 kB)\r\n",
      "     |████████████████████████████████| 918 kB 53.6 MB/s            \r\n",
      "\u001b[?25hRequirement already satisfied: pydantic!=1.8,!=1.8.1,<3.0.0,>=1.7.4 in /opt/conda/lib/python3.7/site-packages (from spacy) (1.8.2)\r\n",
      "Collecting pathy>=0.10.0\r\n",
      "  Downloading pathy-0.10.2-py3-none-any.whl (48 kB)\r\n",
      "     |████████████████████████████████| 48 kB 5.0 MB/s             \r\n",
      "\u001b[?25hRequirement already satisfied: packaging>=20.0 in /opt/conda/lib/python3.7/site-packages (from spacy) (21.0)\r\n",
      "Requirement already satisfied: spacy-loggers<2.0.0,>=1.0.0 in /opt/conda/lib/python3.7/site-packages (from spacy) (1.0.1)\r\n",
      "Requirement already satisfied: cymem<2.1.0,>=2.0.2 in /opt/conda/lib/python3.7/site-packages (from spacy) (2.0.6)\r\n",
      "Requirement already satisfied: murmurhash<1.1.0,>=0.28.0 in /opt/conda/lib/python3.7/site-packages (from spacy) (1.0.6)\r\n",
      "Collecting wasabi<1.2.0,>=0.9.1\r\n",
      "  Downloading wasabi-1.1.2-py3-none-any.whl (27 kB)\r\n",
      "Requirement already satisfied: numpy>=1.15.0 in /opt/conda/lib/python3.7/site-packages (from spacy) (1.19.5)\r\n",
      "Requirement already satisfied: langcodes<4.0.0,>=3.2.0 in /opt/conda/lib/python3.7/site-packages (from spacy) (3.3.0)\r\n",
      "Requirement already satisfied: typing-extensions<4.5.0,>=3.7.4.1 in /opt/conda/lib/python3.7/site-packages (from spacy) (3.10.0.2)\r\n",
      "Requirement already satisfied: jinja2 in /opt/conda/lib/python3.7/site-packages (from spacy) (3.0.3)\r\n",
      "Collecting spacy-legacy<3.1.0,>=3.0.11\r\n",
      "  Downloading spacy_legacy-3.0.12-py2.py3-none-any.whl (29 kB)\r\n",
      "Requirement already satisfied: preshed<3.1.0,>=3.0.2 in /opt/conda/lib/python3.7/site-packages (from spacy) (3.0.6)\r\n",
      "Requirement already satisfied: setuptools in /opt/conda/lib/python3.7/site-packages (from spacy) (59.1.1)\r\n",
      "Requirement already satisfied: tqdm<5.0.0,>=4.38.0 in /opt/conda/lib/python3.7/site-packages (from spacy) (4.62.3)\r\n",
      "Requirement already satisfied: smart-open<7.0.0,>=5.2.1 in /opt/conda/lib/python3.7/site-packages (from spacy) (5.2.1)\r\n",
      "Requirement already satisfied: requests<3.0.0,>=2.13.0 in /opt/conda/lib/python3.7/site-packages (from spacy) (2.25.1)\r\n",
      "Requirement already satisfied: zipp>=0.5 in /opt/conda/lib/python3.7/site-packages (from catalogue<2.1.0,>=2.0.6->spacy) (3.6.0)\r\n",
      "Requirement already satisfied: pyparsing>=2.0.2 in /opt/conda/lib/python3.7/site-packages (from packaging>=20.0->spacy) (3.0.6)\r\n",
      "Requirement already satisfied: idna<3,>=2.5 in /opt/conda/lib/python3.7/site-packages (from requests<3.0.0,>=2.13.0->spacy) (2.10)\r\n",
      "Requirement already satisfied: urllib3<1.27,>=1.21.1 in /opt/conda/lib/python3.7/site-packages (from requests<3.0.0,>=2.13.0->spacy) (1.26.7)\r\n",
      "Requirement already satisfied: chardet<5,>=3.0.2 in /opt/conda/lib/python3.7/site-packages (from requests<3.0.0,>=2.13.0->spacy) (4.0.0)\r\n",
      "Requirement already satisfied: certifi>=2017.4.17 in /opt/conda/lib/python3.7/site-packages (from requests<3.0.0,>=2.13.0->spacy) (2021.10.8)\r\n",
      "Collecting wasabi<1.2.0,>=0.9.1\r\n",
      "  Downloading wasabi-0.10.1-py3-none-any.whl (26 kB)\r\n",
      "Collecting blis<0.8.0,>=0.7.8\r\n",
      "  Downloading blis-0.7.10-cp37-cp37m-manylinux_2_17_x86_64.manylinux2014_x86_64.whl (10.2 MB)\r\n",
      "     |████████████████████████████████| 10.2 MB 53.9 MB/s            \r\n",
      "\u001b[?25hCollecting confection<1.0.0,>=0.0.1\r\n",
      "  Downloading confection-0.1.3-py3-none-any.whl (34 kB)\r\n",
      "Requirement already satisfied: click<9.0.0,>=7.1.1 in /opt/conda/lib/python3.7/site-packages (from typer<0.10.0,>=0.3.0->spacy) (8.0.3)\r\n",
      "Requirement already satisfied: MarkupSafe>=2.0 in /opt/conda/lib/python3.7/site-packages (from jinja2->spacy) (2.0.1)\r\n",
      "Requirement already satisfied: importlib-metadata in /opt/conda/lib/python3.7/site-packages (from click<9.0.0,>=7.1.1->typer<0.10.0,>=0.3.0->spacy) (4.8.2)\r\n",
      "Installing collected packages: srsly, wasabi, confection, blis, thinc, spacy-legacy, pathy, spacy\r\n",
      "  Attempting uninstall: srsly\r\n",
      "    Found existing installation: srsly 2.4.2\r\n",
      "    Uninstalling srsly-2.4.2:\r\n",
      "      Successfully uninstalled srsly-2.4.2\r\n",
      "  Attempting uninstall: wasabi\r\n",
      "    Found existing installation: wasabi 0.8.2\r\n",
      "    Uninstalling wasabi-0.8.2:\r\n",
      "      Successfully uninstalled wasabi-0.8.2\r\n",
      "  Attempting uninstall: blis\r\n",
      "    Found existing installation: blis 0.7.5\r\n",
      "    Uninstalling blis-0.7.5:\r\n",
      "      Successfully uninstalled blis-0.7.5\r\n",
      "  Attempting uninstall: thinc\r\n",
      "    Found existing installation: thinc 8.0.13\r\n",
      "    Uninstalling thinc-8.0.13:\r\n",
      "      Successfully uninstalled thinc-8.0.13\r\n",
      "  Attempting uninstall: spacy-legacy\r\n",
      "    Found existing installation: spacy-legacy 3.0.8\r\n",
      "    Uninstalling spacy-legacy-3.0.8:\r\n",
      "      Successfully uninstalled spacy-legacy-3.0.8\r\n",
      "  Attempting uninstall: pathy\r\n",
      "    Found existing installation: pathy 0.6.1\r\n",
      "    Uninstalling pathy-0.6.1:\r\n",
      "      Successfully uninstalled pathy-0.6.1\r\n",
      "  Attempting uninstall: spacy\r\n",
      "    Found existing installation: spacy 3.1.4\r\n",
      "    Uninstalling spacy-3.1.4:\r\n",
      "      Successfully uninstalled spacy-3.1.4\r\n",
      "\u001b[31mERROR: pip's dependency resolver does not currently take into account all the packages that are installed. This behaviour is the source of the following dependency conflicts.\r\n",
      "en-core-web-sm 3.1.0 requires spacy<3.2.0,>=3.1.0, but you have spacy 3.6.1 which is incompatible.\r\n",
      "en-core-web-lg 3.1.0 requires spacy<3.2.0,>=3.1.0, but you have spacy 3.6.1 which is incompatible.\r\n",
      "allennlp 2.8.0 requires spacy<3.2,>=2.1.0, but you have spacy 3.6.1 which is incompatible.\u001b[0m\r\n",
      "Successfully installed blis-0.7.10 confection-0.1.3 pathy-0.10.2 spacy-3.6.1 spacy-legacy-3.0.12 srsly-2.4.7 thinc-8.1.12 wasabi-0.10.1\r\n",
      "\u001b[33mWARNING: Running pip as the 'root' user can result in broken permissions and conflicting behaviour with the system package manager. It is recommended to use a virtual environment instead: https://pip.pypa.io/warnings/venv\u001b[0m\r\n"
     ]
    }
   ],
   "source": [
    "!pip install -U spacy"
   ]
  },
  {
   "cell_type": "code",
   "execution_count": 44,
   "id": "d80a263e",
   "metadata": {
    "execution": {
     "iopub.execute_input": "2023-09-21T21:31:55.577207Z",
     "iopub.status.busy": "2023-09-21T21:31:55.576375Z",
     "iopub.status.idle": "2023-09-21T21:31:55.579860Z",
     "shell.execute_reply": "2023-09-21T21:31:55.579217Z",
     "shell.execute_reply.started": "2022-06-25T20:52:24.765652Z"
    },
    "papermill": {
     "duration": 0.231975,
     "end_time": "2023-09-21T21:31:55.580110",
     "exception": true,
     "start_time": "2023-09-21T21:31:55.348135",
     "status": "failed"
    },
    "tags": []
   },
   "outputs": [
    {
     "ename": "SyntaxError",
     "evalue": "invalid syntax (1708231453.py, line 1)",
     "output_type": "error",
     "traceback": [
      "\u001b[0;36m  File \u001b[0;32m\"/tmp/ipykernel_22/1708231453.py\"\u001b[0;36m, line \u001b[0;32m1\u001b[0m\n\u001b[0;31m    python3 -m spacy download nl_core_news_sm\u001b[0m\n\u001b[0m                   ^\u001b[0m\n\u001b[0;31mSyntaxError\u001b[0m\u001b[0;31m:\u001b[0m invalid syntax\n"
     ]
    }
   ],
   "source": [
    "python3 -m spacy download nl_core_news_sm"
   ]
  },
  {
   "cell_type": "code",
   "execution_count": null,
   "id": "e5d536eb",
   "metadata": {
    "execution": {
     "iopub.execute_input": "2022-06-25T20:58:35.59706Z",
     "iopub.status.busy": "2022-06-25T20:58:35.596781Z",
     "iopub.status.idle": "2022-06-25T20:58:35.85648Z",
     "shell.execute_reply": "2022-06-25T20:58:35.855141Z",
     "shell.execute_reply.started": "2022-06-25T20:58:35.597028Z"
    },
    "papermill": {
     "duration": null,
     "end_time": null,
     "exception": null,
     "start_time": null,
     "status": "pending"
    },
    "tags": []
   },
   "outputs": [],
   "source": [
    "# import nl_core_news_sm\n",
    "# nlp = nl_core_news_sm.load()\n",
    "import en_core_web_sm\n",
    "nlp = en_core_web_sm.load()"
   ]
  },
  {
   "cell_type": "code",
   "execution_count": null,
   "id": "3930e1ee",
   "metadata": {
    "execution": {
     "iopub.execute_input": "2022-06-25T20:55:04.32297Z",
     "iopub.status.busy": "2022-06-25T20:55:04.322703Z",
     "iopub.status.idle": "2022-06-25T20:55:04.676562Z",
     "shell.execute_reply": "2022-06-25T20:55:04.675323Z",
     "shell.execute_reply.started": "2022-06-25T20:55:04.32294Z"
    },
    "papermill": {
     "duration": null,
     "end_time": null,
     "exception": null,
     "start_time": null,
     "status": "pending"
    },
    "tags": []
   },
   "outputs": [],
   "source": [
    "import spacy\n",
    "\n",
    "string = \"Geert werkt sinds 2010 voor HAL.\"\n",
    "print(string)\n",
    "nlp = spacy.load('nl_core_news_sm')\n",
    "doc = nlp(string)\n",
    "\n",
    "filtered_string = \"\"\n",
    "for token in doc:\n",
    "    if token.pos_ in ['PROPN', 'NOUN', 'NUM']:\n",
    "        new_token = \" <{}>\".format(token.ent_type_)\n",
    "    elif token.pos_ == \"PUNCT\":\n",
    "        new_token = token.text\n",
    "    else:\n",
    "        new_token = \" {}\".format(token.text)\n",
    "    filtered_string += new_token\n",
    "filtered_string = filtered_string[1:]\n",
    "print(filtered_string)"
   ]
  },
  {
   "cell_type": "code",
   "execution_count": null,
   "id": "850a4e0f",
   "metadata": {
    "execution": {
     "iopub.execute_input": "2022-01-06T14:52:05.204477Z",
     "iopub.status.busy": "2022-01-06T14:52:05.203774Z",
     "iopub.status.idle": "2022-01-06T14:52:05.208525Z",
     "shell.execute_reply": "2022-01-06T14:52:05.207519Z",
     "shell.execute_reply.started": "2022-01-06T14:52:05.204437Z"
    },
    "papermill": {
     "duration": null,
     "end_time": null,
     "exception": null,
     "start_time": null,
     "status": "pending"
    },
    "tags": []
   },
   "outputs": [],
   "source": [
    "# text1= NER(df_train['text'].head(50).to_string())\n",
    "\n",
    "# a = []\n",
    "\n",
    "# for word in text1.ents:\n",
    "#     a.append(word.label_)"
   ]
  },
  {
   "cell_type": "code",
   "execution_count": null,
   "id": "12a5a5eb",
   "metadata": {
    "execution": {
     "iopub.execute_input": "2022-01-06T14:52:05.602837Z",
     "iopub.status.busy": "2022-01-06T14:52:05.601978Z",
     "iopub.status.idle": "2022-01-06T14:52:05.6062Z",
     "shell.execute_reply": "2022-01-06T14:52:05.605313Z",
     "shell.execute_reply.started": "2022-01-06T14:52:05.602793Z"
    },
    "papermill": {
     "duration": null,
     "end_time": null,
     "exception": null,
     "start_time": null,
     "status": "pending"
    },
    "tags": []
   },
   "outputs": [],
   "source": [
    "# text2 = NER(df_train['text'].tail(893).to_string())\n",
    "\n",
    "# b = []\n",
    "\n",
    "# for word in text1.ents:\n",
    "#     b.append(word.label_)"
   ]
  },
  {
   "cell_type": "markdown",
   "id": "6fed5b98",
   "metadata": {
    "papermill": {
     "duration": null,
     "end_time": null,
     "exception": null,
     "start_time": null,
     "status": "pending"
    },
    "tags": []
   },
   "source": [
    "# Transformers"
   ]
  },
  {
   "cell_type": "code",
   "execution_count": null,
   "id": "71f14ca1",
   "metadata": {
    "execution": {
     "iopub.execute_input": "2022-01-06T14:52:07.347691Z",
     "iopub.status.busy": "2022-01-06T14:52:07.347264Z",
     "iopub.status.idle": "2022-01-06T14:52:07.350855Z",
     "shell.execute_reply": "2022-01-06T14:52:07.350192Z",
     "shell.execute_reply.started": "2022-01-06T14:52:07.347658Z"
    },
    "papermill": {
     "duration": null,
     "end_time": null,
     "exception": null,
     "start_time": null,
     "status": "pending"
    },
    "tags": []
   },
   "outputs": [],
   "source": [
    "# !pip install transformers"
   ]
  },
  {
   "cell_type": "code",
   "execution_count": null,
   "id": "f970734f",
   "metadata": {
    "execution": {
     "iopub.execute_input": "2022-01-06T14:52:07.636726Z",
     "iopub.status.busy": "2022-01-06T14:52:07.636181Z",
     "iopub.status.idle": "2022-01-06T14:52:07.640174Z",
     "shell.execute_reply": "2022-01-06T14:52:07.639345Z",
     "shell.execute_reply.started": "2022-01-06T14:52:07.636678Z"
    },
    "papermill": {
     "duration": null,
     "end_time": null,
     "exception": null,
     "start_time": null,
     "status": "pending"
    },
    "tags": []
   },
   "outputs": [],
   "source": [
    "# from transformers import BertTokenizer, BertForSequenceClassification, TrainingArguments, default_data_collator, Trainer, set_seed\n",
    "# set_seed(42)\n",
    "# tokenizer = BertTokenizer.from_pretrained('bert-large-uncased')\n",
    "# model = BertForSequenceClassification.from_pretrained('bert-large-uncased')"
   ]
  },
  {
   "cell_type": "code",
   "execution_count": null,
   "id": "a5c55354",
   "metadata": {
    "execution": {
     "iopub.execute_input": "2022-01-06T14:52:08.085133Z",
     "iopub.status.busy": "2022-01-06T14:52:08.084788Z",
     "iopub.status.idle": "2022-01-06T14:52:08.088977Z",
     "shell.execute_reply": "2022-01-06T14:52:08.088168Z",
     "shell.execute_reply.started": "2022-01-06T14:52:08.085068Z"
    },
    "papermill": {
     "duration": null,
     "end_time": null,
     "exception": null,
     "start_time": null,
     "status": "pending"
    },
    "tags": []
   },
   "outputs": [],
   "source": [
    "# df_train['input_ids']=df_train['text'].apply(lambda x: tokenizer(x, max_length= 64, padding='max_length')['input_ids'])"
   ]
  },
  {
   "cell_type": "markdown",
   "id": "42adad07",
   "metadata": {
    "papermill": {
     "duration": null,
     "end_time": null,
     "exception": null,
     "start_time": null,
     "status": "pending"
    },
    "tags": []
   },
   "source": [
    "# TF-IDF"
   ]
  },
  {
   "cell_type": "code",
   "execution_count": null,
   "id": "054ecff4",
   "metadata": {
    "execution": {
     "iopub.execute_input": "2022-01-06T14:52:08.923605Z",
     "iopub.status.busy": "2022-01-06T14:52:08.92307Z",
     "iopub.status.idle": "2022-01-06T14:52:08.927416Z",
     "shell.execute_reply": "2022-01-06T14:52:08.926435Z",
     "shell.execute_reply.started": "2022-01-06T14:52:08.923549Z"
    },
    "papermill": {
     "duration": null,
     "end_time": null,
     "exception": null,
     "start_time": null,
     "status": "pending"
    },
    "tags": []
   },
   "outputs": [],
   "source": [
    "# from sklearn.feature_extraction.text import TfidfVectorizer\n",
    "\n",
    "# tf = TfidfVectorizer(ngram_range=(1, 2), min_df=2)\n",
    "# tfidf_matrix = tf.fit_transform(df_train['text'])\n",
    "# tfidf_matrix.shape"
   ]
  },
  {
   "cell_type": "code",
   "execution_count": null,
   "id": "57cec078",
   "metadata": {
    "execution": {
     "iopub.execute_input": "2022-01-06T14:52:09.266415Z",
     "iopub.status.busy": "2022-01-06T14:52:09.266139Z",
     "iopub.status.idle": "2022-01-06T14:52:09.2702Z",
     "shell.execute_reply": "2022-01-06T14:52:09.269391Z",
     "shell.execute_reply.started": "2022-01-06T14:52:09.266387Z"
    },
    "papermill": {
     "duration": null,
     "end_time": null,
     "exception": null,
     "start_time": null,
     "status": "pending"
    },
    "tags": []
   },
   "outputs": [],
   "source": [
    "# tfidf = pd.DataFrame(tfidf_matrix)"
   ]
  },
  {
   "cell_type": "code",
   "execution_count": null,
   "id": "14d9d988",
   "metadata": {
    "execution": {
     "iopub.execute_input": "2022-01-06T14:52:09.955718Z",
     "iopub.status.busy": "2022-01-06T14:52:09.955267Z",
     "iopub.status.idle": "2022-01-06T14:52:09.958912Z",
     "shell.execute_reply": "2022-01-06T14:52:09.958132Z",
     "shell.execute_reply.started": "2022-01-06T14:52:09.955684Z"
    },
    "papermill": {
     "duration": null,
     "end_time": null,
     "exception": null,
     "start_time": null,
     "status": "pending"
    },
    "tags": []
   },
   "outputs": [],
   "source": [
    "# from sklearn.metrics.pairwise import cosine_similarity\n",
    "\n",
    "# doc_sim = cosine_similarity(tfidf_matrix)\n",
    "# doc_sim_df = pd.DataFrame(doc_sim)\n",
    "# doc_sim_df.head()"
   ]
  },
  {
   "cell_type": "markdown",
   "id": "44bd8925",
   "metadata": {
    "execution": {
     "iopub.execute_input": "2021-12-31T15:01:38.679277Z",
     "iopub.status.busy": "2021-12-31T15:01:38.678967Z",
     "iopub.status.idle": "2021-12-31T15:01:38.684394Z",
     "shell.execute_reply": "2021-12-31T15:01:38.68353Z",
     "shell.execute_reply.started": "2021-12-31T15:01:38.679243Z"
    },
    "papermill": {
     "duration": null,
     "end_time": null,
     "exception": null,
     "start_time": null,
     "status": "pending"
    },
    "tags": []
   },
   "source": [
    "# Bag of N gram"
   ]
  },
  {
   "cell_type": "code",
   "execution_count": null,
   "id": "1669b6f2",
   "metadata": {
    "execution": {
     "iopub.execute_input": "2022-01-06T14:52:15.426737Z",
     "iopub.status.busy": "2022-01-06T14:52:15.426016Z",
     "iopub.status.idle": "2022-01-06T14:52:15.43121Z",
     "shell.execute_reply": "2022-01-06T14:52:15.430216Z",
     "shell.execute_reply.started": "2022-01-06T14:52:15.42668Z"
    },
    "papermill": {
     "duration": null,
     "end_time": null,
     "exception": null,
     "start_time": null,
     "status": "pending"
    },
    "tags": []
   },
   "outputs": [],
   "source": [
    "# from sklearn.feature_extraction.text import CountVectorizer"
   ]
  },
  {
   "cell_type": "code",
   "execution_count": null,
   "id": "df302e87",
   "metadata": {
    "execution": {
     "iopub.execute_input": "2022-01-06T14:52:15.733929Z",
     "iopub.status.busy": "2022-01-06T14:52:15.733186Z",
     "iopub.status.idle": "2022-01-06T14:52:15.738116Z",
     "shell.execute_reply": "2022-01-06T14:52:15.737167Z",
     "shell.execute_reply.started": "2022-01-06T14:52:15.733859Z"
    },
    "papermill": {
     "duration": null,
     "end_time": null,
     "exception": null,
     "start_time": null,
     "status": "pending"
    },
    "tags": []
   },
   "outputs": [],
   "source": [
    "# bv = CountVectorizer( ngram_range=(8,8))\n",
    "# bv_matrix = bv.fit_transform(df_train['text'])\n",
    "\n",
    "# bv_matrix = bv_matrix.toarray()\n",
    "# vocab = bv.get_feature_names()\n",
    "# pd.DataFrame(bv_matrix, columns=vocab)"
   ]
  },
  {
   "cell_type": "markdown",
   "id": "0d0fab71",
   "metadata": {
    "papermill": {
     "duration": null,
     "end_time": null,
     "exception": null,
     "start_time": null,
     "status": "pending"
    },
    "tags": []
   },
   "source": [
    "# Lemmitization"
   ]
  },
  {
   "cell_type": "code",
   "execution_count": null,
   "id": "7c5cd6fb",
   "metadata": {
    "execution": {
     "iopub.execute_input": "2022-01-06T14:52:16.743664Z",
     "iopub.status.busy": "2022-01-06T14:52:16.743389Z",
     "iopub.status.idle": "2022-01-06T14:52:16.748046Z",
     "shell.execute_reply": "2022-01-06T14:52:16.747064Z",
     "shell.execute_reply.started": "2022-01-06T14:52:16.743633Z"
    },
    "papermill": {
     "duration": null,
     "end_time": null,
     "exception": null,
     "start_time": null,
     "status": "pending"
    },
    "tags": []
   },
   "outputs": [],
   "source": [
    "# from nltk.stem import WordNetLemmatizer\n",
    "# from nltk.corpus import wordnet\n",
    "\n",
    "# def pos_tag_wordnet(tagged_tokens):\n",
    "#     tag_map = {'j': wordnet.ADJ, 'v': wordnet.VERB, 'n': wordnet.NOUN, 'r': wordnet.ADV}\n",
    "#     new_tagged_tokens = [(word, tag_map.get(tag[0].lower(), wordnet.NOUN))\n",
    "#                             for word, tag in tagged_tokens]\n",
    "#     return new_tagged_tokens\n",
    "\n",
    "# wnl = WordNetLemmatizer()\n",
    "\n",
    "# def wordnet_lemmatize_text(text):\n",
    "#     tagged_tokens = nltk.pos_tag(nltk.word_tokenize(text))\n",
    "#     wordnet_tokens = pos_tag_wordnet(tagged_tokens)\n",
    "#     lemmatized_text = ' '.join(wnl.lemmatize(word, tag) for word, tag in wordnet_tokens)\n",
    "#     return lemmatized_text"
   ]
  },
  {
   "cell_type": "code",
   "execution_count": null,
   "id": "8ee43b67",
   "metadata": {
    "execution": {
     "iopub.execute_input": "2022-01-06T14:52:16.980579Z",
     "iopub.status.busy": "2022-01-06T14:52:16.980145Z",
     "iopub.status.idle": "2022-01-06T14:52:16.984711Z",
     "shell.execute_reply": "2022-01-06T14:52:16.983872Z",
     "shell.execute_reply.started": "2022-01-06T14:52:16.980547Z"
    },
    "papermill": {
     "duration": null,
     "end_time": null,
     "exception": null,
     "start_time": null,
     "status": "pending"
    },
    "tags": []
   },
   "outputs": [],
   "source": [
    "# df_train['text'] = df_train['text'].apply(wordnet_lemmatize_text)\n",
    "# df_train.title_word_count.dropna(axis = 0 , inplace = True)\n",
    "# len(df_train[df_train['unique_word_ratio'] < 1])\n",
    "\n",
    "# v = pd.DataFrame(bv_matrix, columns=vocab)"
   ]
  },
  {
   "cell_type": "markdown",
   "id": "075632d7",
   "metadata": {
    "papermill": {
     "duration": null,
     "end_time": null,
     "exception": null,
     "start_time": null,
     "status": "pending"
    },
    "tags": []
   },
   "source": [
    "# concatinating with Tf=idf"
   ]
  },
  {
   "cell_type": "code",
   "execution_count": null,
   "id": "24740f0c",
   "metadata": {
    "execution": {
     "iopub.execute_input": "2022-01-06T14:52:19.28727Z",
     "iopub.status.busy": "2022-01-06T14:52:19.286923Z",
     "iopub.status.idle": "2022-01-06T14:52:19.292598Z",
     "shell.execute_reply": "2022-01-06T14:52:19.291094Z",
     "shell.execute_reply.started": "2022-01-06T14:52:19.287232Z"
    },
    "papermill": {
     "duration": null,
     "end_time": null,
     "exception": null,
     "start_time": null,
     "status": "pending"
    },
    "tags": []
   },
   "outputs": [],
   "source": [
    "# df_train = pd.concat([df_train , doc_sim_df] , axis = 1 )\n",
    "# a = df_train['input_ids'].apply(lambda x : x[0])\n",
    "# a.unique"
   ]
  },
  {
   "cell_type": "code",
   "execution_count": null,
   "id": "d0d6a02a",
   "metadata": {
    "execution": {
     "iopub.execute_input": "2022-01-06T14:52:20.700945Z",
     "iopub.status.busy": "2022-01-06T14:52:20.700633Z",
     "iopub.status.idle": "2022-01-06T14:52:20.89284Z",
     "shell.execute_reply": "2022-01-06T14:52:20.891841Z",
     "shell.execute_reply.started": "2022-01-06T14:52:20.700909Z"
    },
    "papermill": {
     "duration": null,
     "end_time": null,
     "exception": null,
     "start_time": null,
     "status": "pending"
    },
    "tags": []
   },
   "outputs": [],
   "source": [
    "mysql('''select target , count(unique_word_ratio)\n",
    "from df_train\n",
    "where unique_word_ratio = 1\n",
    "group by target\n",
    "''')"
   ]
  },
  {
   "cell_type": "markdown",
   "id": "088fad49",
   "metadata": {
    "papermill": {
     "duration": null,
     "end_time": null,
     "exception": null,
     "start_time": null,
     "status": "pending"
    },
    "tags": []
   },
   "source": [
    "# Another attempt at BERT"
   ]
  },
  {
   "cell_type": "code",
   "execution_count": null,
   "id": "2702be00",
   "metadata": {
    "execution": {
     "iopub.execute_input": "2023-07-03T17:17:02.885836Z",
     "iopub.status.busy": "2023-07-03T17:17:02.885545Z",
     "iopub.status.idle": "2023-07-03T17:17:04.590013Z",
     "shell.execute_reply": "2023-07-03T17:17:04.588863Z",
     "shell.execute_reply.started": "2023-07-03T17:17:02.885802Z"
    },
    "papermill": {
     "duration": null,
     "end_time": null,
     "exception": null,
     "start_time": null,
     "status": "pending"
    },
    "tags": []
   },
   "outputs": [],
   "source": [
    "import torch\n",
    "import transformers as ppb"
   ]
  },
  {
   "cell_type": "code",
   "execution_count": null,
   "id": "2184fa46",
   "metadata": {
    "execution": {
     "iopub.execute_input": "2022-02-23T09:12:10.596842Z",
     "iopub.status.busy": "2022-02-23T09:12:10.596107Z",
     "iopub.status.idle": "2022-02-23T09:12:32.79063Z",
     "shell.execute_reply": "2022-02-23T09:12:32.789656Z",
     "shell.execute_reply.started": "2022-02-23T09:12:10.596807Z"
    },
    "papermill": {
     "duration": null,
     "end_time": null,
     "exception": null,
     "start_time": null,
     "status": "pending"
    },
    "tags": []
   },
   "outputs": [],
   "source": [
    "# For DistilBERT:\n",
    "model_class, tokenizer_class, pretrained_weights = (ppb.DistilBertModel, ppb.DistilBertTokenizer, 'distilbert-base-uncased')\n",
    "\n",
    "## Want BERT instead of distilBERT? Uncomment the following line:\n",
    "#model_class, tokenizer_class, pretrained_weights = (ppb.BertModel, ppb.BertTokenizer, 'bert-base-uncased')\n",
    "\n",
    "# Load pretrained model/tokenizer\n",
    "tokenizer = tokenizer_class.from_pretrained(pretrained_weights)\n",
    "model = model_class.from_pretrained(pretrained_weights)"
   ]
  },
  {
   "cell_type": "code",
   "execution_count": null,
   "id": "f088f3e1",
   "metadata": {
    "execution": {
     "iopub.execute_input": "2022-02-23T09:12:36.380711Z",
     "iopub.status.busy": "2022-02-23T09:12:36.380054Z",
     "iopub.status.idle": "2022-02-23T09:12:36.388606Z",
     "shell.execute_reply": "2022-02-23T09:12:36.387834Z",
     "shell.execute_reply.started": "2022-02-23T09:12:36.380671Z"
    },
    "papermill": {
     "duration": null,
     "end_time": null,
     "exception": null,
     "start_time": null,
     "status": "pending"
    },
    "tags": []
   },
   "outputs": [],
   "source": [
    "df_train['text'][3400:]"
   ]
  },
  {
   "cell_type": "code",
   "execution_count": null,
   "id": "6212bbd9",
   "metadata": {
    "execution": {
     "iopub.execute_input": "2022-02-23T09:18:28.807281Z",
     "iopub.status.busy": "2022-02-23T09:18:28.806798Z",
     "iopub.status.idle": "2022-02-23T09:18:31.046811Z",
     "shell.execute_reply": "2022-02-23T09:18:31.046099Z",
     "shell.execute_reply.started": "2022-02-23T09:18:28.807236Z"
    },
    "papermill": {
     "duration": null,
     "end_time": null,
     "exception": null,
     "start_time": null,
     "status": "pending"
    },
    "tags": []
   },
   "outputs": [],
   "source": [
    "tokenized = df_train['text'][3400:].apply((lambda x: tokenizer.encode(x, add_special_tokens=True)))"
   ]
  },
  {
   "cell_type": "code",
   "execution_count": null,
   "id": "75dd89b6",
   "metadata": {
    "execution": {
     "iopub.execute_input": "2022-02-23T09:18:32.859633Z",
     "iopub.status.busy": "2022-02-23T09:18:32.858849Z",
     "iopub.status.idle": "2022-02-23T09:18:32.927147Z",
     "shell.execute_reply": "2022-02-23T09:18:32.926385Z",
     "shell.execute_reply.started": "2022-02-23T09:18:32.859583Z"
    },
    "papermill": {
     "duration": null,
     "end_time": null,
     "exception": null,
     "start_time": null,
     "status": "pending"
    },
    "tags": []
   },
   "outputs": [],
   "source": [
    "# max_len = 0\n",
    "# for i in tokenized.values:\n",
    "#     if len(i) > max_len:\n",
    "#         max_len = len(i)\n",
    "\n",
    "padded = np.array([i + [0]*(84-len(i)) for i in tokenized.values])"
   ]
  },
  {
   "cell_type": "code",
   "execution_count": null,
   "id": "b9ba71f4",
   "metadata": {
    "execution": {
     "iopub.execute_input": "2022-02-23T09:18:37.159563Z",
     "iopub.status.busy": "2022-02-23T09:18:37.158881Z",
     "iopub.status.idle": "2022-02-23T09:18:37.167818Z",
     "shell.execute_reply": "2022-02-23T09:18:37.166874Z",
     "shell.execute_reply.started": "2022-02-23T09:18:37.159522Z"
    },
    "papermill": {
     "duration": null,
     "end_time": null,
     "exception": null,
     "start_time": null,
     "status": "pending"
    },
    "tags": []
   },
   "outputs": [],
   "source": [
    "np.array(padded).shape\n",
    "attention_mask = np.where(padded != 0, 1, 0)\n",
    "attention_mask.shape"
   ]
  },
  {
   "cell_type": "code",
   "execution_count": null,
   "id": "0bdabaf8",
   "metadata": {
    "execution": {
     "iopub.execute_input": "2022-02-23T09:18:40.608209Z",
     "iopub.status.busy": "2022-02-23T09:18:40.6077Z",
     "iopub.status.idle": "2022-02-23T09:23:57.012068Z",
     "shell.execute_reply": "2022-02-23T09:23:57.011176Z",
     "shell.execute_reply.started": "2022-02-23T09:18:40.608171Z"
    },
    "papermill": {
     "duration": null,
     "end_time": null,
     "exception": null,
     "start_time": null,
     "status": "pending"
    },
    "tags": []
   },
   "outputs": [],
   "source": [
    "input1 = torch.tensor(padded)  \n",
    "attention_mask = torch.tensor(attention_mask)\n",
    "\n",
    "with torch.no_grad():\n",
    "    last_hidden_states = model(input1, attention_mask=attention_mask)"
   ]
  },
  {
   "cell_type": "code",
   "execution_count": null,
   "id": "4fa6aaac",
   "metadata": {
    "execution": {
     "iopub.execute_input": "2022-02-23T09:23:57.014336Z",
     "iopub.status.busy": "2022-02-23T09:23:57.014034Z",
     "iopub.status.idle": "2022-02-23T09:23:57.019733Z",
     "shell.execute_reply": "2022-02-23T09:23:57.018903Z",
     "shell.execute_reply.started": "2022-02-23T09:23:57.014296Z"
    },
    "papermill": {
     "duration": null,
     "end_time": null,
     "exception": null,
     "start_time": null,
     "status": "pending"
    },
    "tags": []
   },
   "outputs": [],
   "source": [
    "features = last_hidden_states[0][:,0,:].numpy()"
   ]
  },
  {
   "cell_type": "code",
   "execution_count": null,
   "id": "d10ddaf9",
   "metadata": {
    "execution": {
     "iopub.execute_input": "2022-02-23T09:18:14.786496Z",
     "iopub.status.busy": "2022-02-23T09:18:14.785811Z",
     "iopub.status.idle": "2022-02-23T09:18:14.794672Z",
     "shell.execute_reply": "2022-02-23T09:18:14.79397Z",
     "shell.execute_reply.started": "2022-02-23T09:18:14.786458Z"
    },
    "papermill": {
     "duration": null,
     "end_time": null,
     "exception": null,
     "start_time": null,
     "status": "pending"
    },
    "tags": []
   },
   "outputs": [],
   "source": [
    "bt_first = pd.DataFrame(features , columns = np.linspace(1 , 768 , num = 768 ))"
   ]
  },
  {
   "cell_type": "code",
   "execution_count": null,
   "id": "6eac0119",
   "metadata": {
    "execution": {
     "iopub.execute_input": "2022-02-23T09:23:57.021602Z",
     "iopub.status.busy": "2022-02-23T09:23:57.020965Z",
     "iopub.status.idle": "2022-02-23T09:23:57.030087Z",
     "shell.execute_reply": "2022-02-23T09:23:57.029194Z",
     "shell.execute_reply.started": "2022-02-23T09:23:57.021554Z"
    },
    "papermill": {
     "duration": null,
     "end_time": null,
     "exception": null,
     "start_time": null,
     "status": "pending"
    },
    "tags": []
   },
   "outputs": [],
   "source": [
    "bt_second = pd.DataFrame(features , columns = np.linspace(1 , 768 , num = 768 ))"
   ]
  },
  {
   "cell_type": "code",
   "execution_count": null,
   "id": "1ad97e2f",
   "metadata": {
    "execution": {
     "iopub.execute_input": "2022-02-23T09:24:04.650198Z",
     "iopub.status.busy": "2022-02-23T09:24:04.64992Z",
     "iopub.status.idle": "2022-02-23T09:24:22.144699Z",
     "shell.execute_reply": "2022-02-23T09:24:22.143944Z",
     "shell.execute_reply.started": "2022-02-23T09:24:04.650166Z"
    },
    "papermill": {
     "duration": null,
     "end_time": null,
     "exception": null,
     "start_time": null,
     "status": "pending"
    },
    "tags": []
   },
   "outputs": [],
   "source": [
    "dd = mysql('''select * from \n",
    "bt_first\n",
    "union all\n",
    "select * from bt_second\n",
    "''')"
   ]
  },
  {
   "cell_type": "code",
   "execution_count": null,
   "id": "6a88a4f4",
   "metadata": {
    "execution": {
     "iopub.execute_input": "2022-02-23T09:24:22.146737Z",
     "iopub.status.busy": "2022-02-23T09:24:22.14633Z",
     "iopub.status.idle": "2022-02-23T09:24:22.169748Z",
     "shell.execute_reply": "2022-02-23T09:24:22.169003Z",
     "shell.execute_reply.started": "2022-02-23T09:24:22.146698Z"
    },
    "papermill": {
     "duration": null,
     "end_time": null,
     "exception": null,
     "start_time": null,
     "status": "pending"
    },
    "tags": []
   },
   "outputs": [],
   "source": [
    "dd"
   ]
  },
  {
   "cell_type": "code",
   "execution_count": null,
   "id": "e33291c2",
   "metadata": {
    "execution": {
     "iopub.execute_input": "2022-02-23T09:24:39.03607Z",
     "iopub.status.busy": "2022-02-23T09:24:39.035534Z",
     "iopub.status.idle": "2022-02-23T09:24:39.049998Z",
     "shell.execute_reply": "2022-02-23T09:24:39.04933Z",
     "shell.execute_reply.started": "2022-02-23T09:24:39.036031Z"
    },
    "papermill": {
     "duration": null,
     "end_time": null,
     "exception": null,
     "start_time": null,
     "status": "pending"
    },
    "tags": []
   },
   "outputs": [],
   "source": [
    "df_train = pd.concat([df_train , dd] , axis = 1)"
   ]
  },
  {
   "cell_type": "code",
   "execution_count": null,
   "id": "a44f8cb6",
   "metadata": {
    "execution": {
     "iopub.execute_input": "2022-02-23T09:25:08.497114Z",
     "iopub.status.busy": "2022-02-23T09:25:08.49685Z",
     "iopub.status.idle": "2022-02-23T09:25:08.522811Z",
     "shell.execute_reply": "2022-02-23T09:25:08.522038Z",
     "shell.execute_reply.started": "2022-02-23T09:25:08.497085Z"
    },
    "papermill": {
     "duration": null,
     "end_time": null,
     "exception": null,
     "start_time": null,
     "status": "pending"
    },
    "tags": []
   },
   "outputs": [],
   "source": [
    "# df_train.drop(['input_ids'] , axis = 1 , inplace = True)\n",
    "df_train"
   ]
  },
  {
   "cell_type": "code",
   "execution_count": null,
   "id": "132fa91e",
   "metadata": {
    "execution": {
     "iopub.execute_input": "2022-06-23T11:25:28.268124Z",
     "iopub.status.busy": "2022-06-23T11:25:28.267904Z",
     "iopub.status.idle": "2022-06-23T11:25:28.273473Z",
     "shell.execute_reply": "2022-06-23T11:25:28.271505Z",
     "shell.execute_reply.started": "2022-06-23T11:25:28.268097Z"
    },
    "papermill": {
     "duration": null,
     "end_time": null,
     "exception": null,
     "start_time": null,
     "status": "pending"
    },
    "tags": []
   },
   "outputs": [],
   "source": [
    "# from sentence_transformers import SentenceTransformer"
   ]
  },
  {
   "cell_type": "markdown",
   "id": "1c69eeb5",
   "metadata": {
    "papermill": {
     "duration": null,
     "end_time": null,
     "exception": null,
     "start_time": null,
     "status": "pending"
    },
    "tags": []
   },
   "source": [
    "# **Sentence Transformer**"
   ]
  },
  {
   "cell_type": "code",
   "execution_count": null,
   "id": "2701919e",
   "metadata": {
    "papermill": {
     "duration": null,
     "end_time": null,
     "exception": null,
     "start_time": null,
     "status": "pending"
    },
    "tags": []
   },
   "outputs": [],
   "source": [
    "# distilbert-base-uncased\n",
    "ghanashyamvtatti/roberta-fake-news"
   ]
  },
  {
   "cell_type": "code",
   "execution_count": null,
   "id": "a10273bf",
   "metadata": {
    "execution": {
     "iopub.execute_input": "2023-09-21T20:22:28.932569Z",
     "iopub.status.busy": "2023-09-21T20:22:28.932220Z",
     "iopub.status.idle": "2023-09-21T20:22:51.251956Z",
     "shell.execute_reply": "2023-09-21T20:22:51.251143Z",
     "shell.execute_reply.started": "2023-09-21T20:22:28.932526Z"
    },
    "papermill": {
     "duration": null,
     "end_time": null,
     "exception": null,
     "start_time": null,
     "status": "pending"
    },
    "tags": []
   },
   "outputs": [],
   "source": [
    "from sentence_transformers import SentenceTransformer, models\n",
    "from torch import nn\n",
    "\n",
    "word_embedding_model = models.Transformer('bert-base-uncased', max_seq_length=256 )\n",
    "                                           #,tokenizer_name_or_path = 'nntadotzip/xlnet-base-cased-IUChatbot-ontologyDts-BertPretrainedTokenizerFast')\n",
    "pooling_model = models.Pooling(word_embedding_model.get_word_embedding_dimension())\n",
    "\n",
    "sbert_model = SentenceTransformer(modules=[word_embedding_model, pooling_model] , device='cuda')"
   ]
  },
  {
   "cell_type": "code",
   "execution_count": null,
   "id": "701a050f",
   "metadata": {
    "execution": {
     "iopub.execute_input": "2023-09-21T20:23:30.498198Z",
     "iopub.status.busy": "2023-09-21T20:23:30.497903Z",
     "iopub.status.idle": "2023-09-21T20:23:30.508182Z",
     "shell.execute_reply": "2023-09-21T20:23:30.507431Z",
     "shell.execute_reply.started": "2023-09-21T20:23:30.498165Z"
    },
    "papermill": {
     "duration": null,
     "end_time": null,
     "exception": null,
     "start_time": null,
     "status": "pending"
    },
    "tags": []
   },
   "outputs": [],
   "source": [
    "x = df_train['text'].to_list() "
   ]
  },
  {
   "cell_type": "code",
   "execution_count": null,
   "id": "a2882c31",
   "metadata": {
    "execution": {
     "iopub.execute_input": "2023-09-21T20:23:31.866366Z",
     "iopub.status.busy": "2023-09-21T20:23:31.865610Z",
     "iopub.status.idle": "2023-09-21T20:23:45.355044Z",
     "shell.execute_reply": "2023-09-21T20:23:45.354202Z",
     "shell.execute_reply.started": "2023-09-21T20:23:31.866328Z"
    },
    "papermill": {
     "duration": null,
     "end_time": null,
     "exception": null,
     "start_time": null,
     "status": "pending"
    },
    "tags": []
   },
   "outputs": [],
   "source": [
    "import time\n",
    "s = time.time()\n",
    "sentence_embeddings_1 = sbert_model.encode(x[:10000])\n",
    "print(sentence_embeddings_1.shape)\n",
    "print(time.time() - s)"
   ]
  },
  {
   "cell_type": "code",
   "execution_count": null,
   "id": "5bee81ad",
   "metadata": {
    "execution": {
     "iopub.execute_input": "2023-09-21T20:23:49.523302Z",
     "iopub.status.busy": "2023-09-21T20:23:49.523020Z",
     "iopub.status.idle": "2023-09-21T20:23:49.528445Z",
     "shell.execute_reply": "2023-09-21T20:23:49.527574Z",
     "shell.execute_reply.started": "2023-09-21T20:23:49.523269Z"
    },
    "papermill": {
     "duration": null,
     "end_time": null,
     "exception": null,
     "start_time": null,
     "status": "pending"
    },
    "tags": []
   },
   "outputs": [],
   "source": [
    "Clusterdata = pd.DataFrame(sentence_embeddings_1 , columns = np.linspace(1 , 768 , num = 768))"
   ]
  },
  {
   "cell_type": "code",
   "execution_count": null,
   "id": "9f91c93b",
   "metadata": {
    "execution": {
     "iopub.execute_input": "2023-09-21T20:23:50.746740Z",
     "iopub.status.busy": "2023-09-21T20:23:50.745871Z",
     "iopub.status.idle": "2023-09-21T20:23:50.785585Z",
     "shell.execute_reply": "2023-09-21T20:23:50.784769Z",
     "shell.execute_reply.started": "2023-09-21T20:23:50.746700Z"
    },
    "papermill": {
     "duration": null,
     "end_time": null,
     "exception": null,
     "start_time": null,
     "status": "pending"
    },
    "tags": []
   },
   "outputs": [],
   "source": [
    "df_clust = pd.concat([df_train , Clusterdata] , axis = 1)"
   ]
  },
  {
   "cell_type": "markdown",
   "id": "63c9092b",
   "metadata": {
    "papermill": {
     "duration": null,
     "end_time": null,
     "exception": null,
     "start_time": null,
     "status": "pending"
    },
    "tags": []
   },
   "source": [
    "# Train Test Split to prevent data leakage"
   ]
  },
  {
   "cell_type": "code",
   "execution_count": null,
   "id": "7be6e849",
   "metadata": {
    "execution": {
     "iopub.execute_input": "2023-09-21T20:23:55.529484Z",
     "iopub.status.busy": "2023-09-21T20:23:55.529201Z",
     "iopub.status.idle": "2023-09-21T20:23:55.533716Z",
     "shell.execute_reply": "2023-09-21T20:23:55.532567Z",
     "shell.execute_reply.started": "2023-09-21T20:23:55.529451Z"
    },
    "papermill": {
     "duration": null,
     "end_time": null,
     "exception": null,
     "start_time": null,
     "status": "pending"
    },
    "tags": []
   },
   "outputs": [],
   "source": [
    "from sklearn.model_selection import train_test_split"
   ]
  },
  {
   "cell_type": "code",
   "execution_count": null,
   "id": "4088cf32",
   "metadata": {
    "execution": {
     "iopub.execute_input": "2023-09-21T20:24:04.360337Z",
     "iopub.status.busy": "2023-09-21T20:24:04.360049Z",
     "iopub.status.idle": "2023-09-21T20:24:04.413682Z",
     "shell.execute_reply": "2023-09-21T20:24:04.412730Z",
     "shell.execute_reply.started": "2023-09-21T20:24:04.360304Z"
    },
    "papermill": {
     "duration": null,
     "end_time": null,
     "exception": null,
     "start_time": null,
     "status": "pending"
    },
    "tags": []
   },
   "outputs": [],
   "source": [
    "a = df_clust.drop(['keyword', 'location','text' , 'id' , 'target'] , axis = 1)\n",
    "b = df_clust.loc[: , 'target']\n",
    "a_train , a_test , b_train , b_test = train_test_split( a, b, test_size = 0.16 , random_state = 241 , stratify = b)\n",
    "a_train.shape , a_test.shape"
   ]
  },
  {
   "cell_type": "code",
   "execution_count": null,
   "id": "6096557e",
   "metadata": {
    "execution": {
     "iopub.execute_input": "2023-07-03T18:23:48.840855Z",
     "iopub.status.busy": "2023-07-03T18:23:48.840564Z",
     "iopub.status.idle": "2023-07-03T18:23:48.845471Z",
     "shell.execute_reply": "2023-07-03T18:23:48.844580Z",
     "shell.execute_reply.started": "2023-07-03T18:23:48.840819Z"
    },
    "papermill": {
     "duration": null,
     "end_time": null,
     "exception": null,
     "start_time": null,
     "status": "pending"
    },
    "tags": []
   },
   "outputs": [],
   "source": [
    "# a_train.iloc[: , 2:]"
   ]
  },
  {
   "cell_type": "markdown",
   "id": "6c6b3a2e",
   "metadata": {
    "papermill": {
     "duration": null,
     "end_time": null,
     "exception": null,
     "start_time": null,
     "status": "pending"
    },
    "tags": []
   },
   "source": [
    "# Dimensionality reduction\n",
    "\n",
    "\n",
    "### UMAP"
   ]
  },
  {
   "cell_type": "code",
   "execution_count": null,
   "id": "89aaa5e0",
   "metadata": {
    "execution": {
     "iopub.execute_input": "2023-07-03T18:09:33.243701Z",
     "iopub.status.busy": "2023-07-03T18:09:33.243093Z",
     "iopub.status.idle": "2023-07-03T18:09:33.248245Z",
     "shell.execute_reply": "2023-07-03T18:09:33.247499Z",
     "shell.execute_reply.started": "2023-07-03T18:09:33.243658Z"
    },
    "papermill": {
     "duration": null,
     "end_time": null,
     "exception": null,
     "start_time": null,
     "status": "pending"
    },
    "tags": []
   },
   "outputs": [],
   "source": [
    "from umap import UMAP"
   ]
  },
  {
   "cell_type": "code",
   "execution_count": null,
   "id": "7dbb912b",
   "metadata": {
    "execution": {
     "iopub.execute_input": "2023-07-03T18:09:33.571323Z",
     "iopub.status.busy": "2023-07-03T18:09:33.570991Z",
     "iopub.status.idle": "2023-07-03T18:09:33.579626Z",
     "shell.execute_reply": "2023-07-03T18:09:33.578389Z",
     "shell.execute_reply.started": "2023-07-03T18:09:33.571286Z"
    },
    "papermill": {
     "duration": null,
     "end_time": null,
     "exception": null,
     "start_time": null,
     "status": "pending"
    },
    "tags": []
   },
   "outputs": [],
   "source": [
    "reducer = UMAP(n_neighbors = 25, n_epochs = 500, n_components = 100 , metric = 'jaccard', random_state = 27 ,\n",
    "               learning_rate=0.001  ,verbose = True)"
   ]
  },
  {
   "cell_type": "code",
   "execution_count": null,
   "id": "c8c02e53",
   "metadata": {
    "execution": {
     "iopub.execute_input": "2023-07-03T18:09:33.978833Z",
     "iopub.status.busy": "2023-07-03T18:09:33.978549Z",
     "iopub.status.idle": "2023-07-03T18:13:44.407812Z",
     "shell.execute_reply": "2023-07-03T18:13:44.407013Z",
     "shell.execute_reply.started": "2023-07-03T18:09:33.978798Z"
    },
    "papermill": {
     "duration": null,
     "end_time": null,
     "exception": null,
     "start_time": null,
     "status": "pending"
    },
    "tags": []
   },
   "outputs": [],
   "source": [
    "reducer.fit(a_train.iloc[: , 2:])\n",
    "x_reduce = reducer.transform(a_train.iloc[: , 2:])\n",
    "x_reduce.shape"
   ]
  },
  {
   "cell_type": "code",
   "execution_count": null,
   "id": "ed8f2145",
   "metadata": {
    "execution": {
     "iopub.execute_input": "2023-07-03T18:14:02.449728Z",
     "iopub.status.busy": "2023-07-03T18:14:02.448925Z",
     "iopub.status.idle": "2023-07-03T18:14:02.455095Z",
     "shell.execute_reply": "2023-07-03T18:14:02.454305Z",
     "shell.execute_reply.started": "2023-07-03T18:14:02.449689Z"
    },
    "papermill": {
     "duration": null,
     "end_time": null,
     "exception": null,
     "start_time": null,
     "status": "pending"
    },
    "tags": []
   },
   "outputs": [],
   "source": [
    "df_umap = pd.DataFrame(x_reduce, columns = np.linspace(1 , 100 , num = 100))"
   ]
  },
  {
   "cell_type": "code",
   "execution_count": null,
   "id": "61254ca4",
   "metadata": {
    "execution": {
     "iopub.execute_input": "2023-07-03T18:14:02.693605Z",
     "iopub.status.busy": "2023-07-03T18:14:02.692797Z",
     "iopub.status.idle": "2023-07-03T18:14:02.699382Z",
     "shell.execute_reply": "2023-07-03T18:14:02.698432Z",
     "shell.execute_reply.started": "2023-07-03T18:14:02.693550Z"
    },
    "papermill": {
     "duration": null,
     "end_time": null,
     "exception": null,
     "start_time": null,
     "status": "pending"
    },
    "tags": []
   },
   "outputs": [],
   "source": [
    "df_umap.reset_index( inplace = True , drop = True)\n",
    "a_train.reset_index(inplace = True , drop = True)"
   ]
  },
  {
   "cell_type": "code",
   "execution_count": null,
   "id": "331c3291",
   "metadata": {
    "execution": {
     "iopub.execute_input": "2023-07-03T18:14:02.913617Z",
     "iopub.status.busy": "2023-07-03T18:14:02.912956Z",
     "iopub.status.idle": "2023-07-03T18:14:02.921852Z",
     "shell.execute_reply": "2023-07-03T18:14:02.920973Z",
     "shell.execute_reply.started": "2023-07-03T18:14:02.913578Z"
    },
    "papermill": {
     "duration": null,
     "end_time": null,
     "exception": null,
     "start_time": null,
     "status": "pending"
    },
    "tags": []
   },
   "outputs": [],
   "source": [
    "a_train = pd.concat([a_train.iloc[: , :2] , df_umap] , axis = 1)"
   ]
  },
  {
   "cell_type": "markdown",
   "id": "c2196050",
   "metadata": {
    "papermill": {
     "duration": null,
     "end_time": null,
     "exception": null,
     "start_time": null,
     "status": "pending"
    },
    "tags": []
   },
   "source": [
    "#### for a_test\n",
    "\n",
    "### \n",
    "#### "
   ]
  },
  {
   "cell_type": "code",
   "execution_count": null,
   "id": "1e897cfb",
   "metadata": {
    "execution": {
     "iopub.execute_input": "2023-07-03T18:14:03.537027Z",
     "iopub.status.busy": "2023-07-03T18:14:03.536705Z",
     "iopub.status.idle": "2023-07-03T18:14:20.373739Z",
     "shell.execute_reply": "2023-07-03T18:14:20.372985Z",
     "shell.execute_reply.started": "2023-07-03T18:14:03.536984Z"
    },
    "papermill": {
     "duration": null,
     "end_time": null,
     "exception": null,
     "start_time": null,
     "status": "pending"
    },
    "tags": []
   },
   "outputs": [],
   "source": [
    "x_pc_t = reducer.transform(a_test.iloc[: , 2:])\n",
    "x_pc_t.shape"
   ]
  },
  {
   "cell_type": "code",
   "execution_count": null,
   "id": "2c3f1438",
   "metadata": {
    "execution": {
     "iopub.execute_input": "2023-07-03T18:14:20.376263Z",
     "iopub.status.busy": "2023-07-03T18:14:20.375742Z",
     "iopub.status.idle": "2023-07-03T18:14:20.381704Z",
     "shell.execute_reply": "2023-07-03T18:14:20.381003Z",
     "shell.execute_reply.started": "2023-07-03T18:14:20.376213Z"
    },
    "papermill": {
     "duration": null,
     "end_time": null,
     "exception": null,
     "start_time": null,
     "status": "pending"
    },
    "tags": []
   },
   "outputs": [],
   "source": [
    "df_umap_test = pd.DataFrame(x_pc_t, columns = np.linspace(1 , 100 , num = 100))"
   ]
  },
  {
   "cell_type": "code",
   "execution_count": null,
   "id": "4121f3d7",
   "metadata": {
    "execution": {
     "iopub.execute_input": "2023-07-03T18:14:20.383735Z",
     "iopub.status.busy": "2023-07-03T18:14:20.383269Z",
     "iopub.status.idle": "2023-07-03T18:14:20.393671Z",
     "shell.execute_reply": "2023-07-03T18:14:20.392837Z",
     "shell.execute_reply.started": "2023-07-03T18:14:20.383696Z"
    },
    "papermill": {
     "duration": null,
     "end_time": null,
     "exception": null,
     "start_time": null,
     "status": "pending"
    },
    "tags": []
   },
   "outputs": [],
   "source": [
    "df_umap_test.reset_index( inplace = True , drop = True)\n",
    "a_test.reset_index(inplace = True , drop = True)"
   ]
  },
  {
   "cell_type": "code",
   "execution_count": null,
   "id": "7563b7f3",
   "metadata": {
    "execution": {
     "iopub.execute_input": "2023-07-03T18:14:20.398115Z",
     "iopub.status.busy": "2023-07-03T18:14:20.395400Z",
     "iopub.status.idle": "2023-07-03T18:14:20.406644Z",
     "shell.execute_reply": "2023-07-03T18:14:20.405774Z",
     "shell.execute_reply.started": "2023-07-03T18:14:20.398072Z"
    },
    "papermill": {
     "duration": null,
     "end_time": null,
     "exception": null,
     "start_time": null,
     "status": "pending"
    },
    "tags": []
   },
   "outputs": [],
   "source": [
    "a_test = pd.concat([a_test.iloc[: , :2] , df_umap_test] , axis = 1)"
   ]
  },
  {
   "cell_type": "code",
   "execution_count": null,
   "id": "9cbf64f0",
   "metadata": {
    "execution": {
     "iopub.execute_input": "2023-07-03T18:14:20.409160Z",
     "iopub.status.busy": "2023-07-03T18:14:20.408454Z",
     "iopub.status.idle": "2023-07-03T18:14:20.442770Z",
     "shell.execute_reply": "2023-07-03T18:14:20.441788Z",
     "shell.execute_reply.started": "2023-07-03T18:14:20.409122Z"
    },
    "papermill": {
     "duration": null,
     "end_time": null,
     "exception": null,
     "start_time": null,
     "status": "pending"
    },
    "tags": []
   },
   "outputs": [],
   "source": [
    "a_train"
   ]
  },
  {
   "cell_type": "code",
   "execution_count": null,
   "id": "af318519",
   "metadata": {
    "execution": {
     "iopub.execute_input": "2023-07-03T18:14:20.444608Z",
     "iopub.status.busy": "2023-07-03T18:14:20.444327Z",
     "iopub.status.idle": "2023-07-03T18:14:20.452399Z",
     "shell.execute_reply": "2023-07-03T18:14:20.451376Z",
     "shell.execute_reply.started": "2023-07-03T18:14:20.444570Z"
    },
    "papermill": {
     "duration": null,
     "end_time": null,
     "exception": null,
     "start_time": null,
     "status": "pending"
    },
    "tags": []
   },
   "outputs": [],
   "source": [
    "a_test['Polarity'].isna().sum()"
   ]
  },
  {
   "cell_type": "markdown",
   "id": "03a189c6",
   "metadata": {
    "papermill": {
     "duration": null,
     "end_time": null,
     "exception": null,
     "start_time": null,
     "status": "pending"
    },
    "tags": []
   },
   "source": [
    "### PCA"
   ]
  },
  {
   "cell_type": "code",
   "execution_count": null,
   "id": "f243255b",
   "metadata": {
    "execution": {
     "iopub.execute_input": "2023-09-21T20:24:19.222661Z",
     "iopub.status.busy": "2023-09-21T20:24:19.222007Z",
     "iopub.status.idle": "2023-09-21T20:24:19.249175Z",
     "shell.execute_reply": "2023-09-21T20:24:19.248432Z",
     "shell.execute_reply.started": "2023-09-21T20:24:19.222618Z"
    },
    "papermill": {
     "duration": null,
     "end_time": null,
     "exception": null,
     "start_time": null,
     "status": "pending"
    },
    "tags": []
   },
   "outputs": [],
   "source": [
    "from sklearn.decomposition import PCA"
   ]
  },
  {
   "cell_type": "code",
   "execution_count": null,
   "id": "c491575b",
   "metadata": {
    "execution": {
     "iopub.execute_input": "2023-09-21T20:24:27.615148Z",
     "iopub.status.busy": "2023-09-21T20:24:27.614526Z",
     "iopub.status.idle": "2023-09-21T20:24:27.649109Z",
     "shell.execute_reply": "2023-09-21T20:24:27.648387Z",
     "shell.execute_reply.started": "2023-09-21T20:24:27.615109Z"
    },
    "papermill": {
     "duration": null,
     "end_time": null,
     "exception": null,
     "start_time": null,
     "status": "pending"
    },
    "tags": []
   },
   "outputs": [],
   "source": [
    "a_train.iloc[: , 8:]"
   ]
  },
  {
   "cell_type": "code",
   "execution_count": null,
   "id": "f1297691",
   "metadata": {
    "execution": {
     "iopub.execute_input": "2023-09-21T20:25:03.686177Z",
     "iopub.status.busy": "2023-09-21T20:25:03.685354Z",
     "iopub.status.idle": "2023-09-21T20:25:04.327467Z",
     "shell.execute_reply": "2023-09-21T20:25:04.326528Z",
     "shell.execute_reply.started": "2023-09-21T20:25:03.686134Z"
    },
    "papermill": {
     "duration": null,
     "end_time": null,
     "exception": null,
     "start_time": null,
     "status": "pending"
    },
    "tags": []
   },
   "outputs": [],
   "source": [
    "pca_38 = PCA(n_components = .7  , random_state = 343)\n",
    "pca_38.fit(a_train.iloc[: , 8:])\n",
    "x_pca_38 = pca_38.transform(a_train.iloc[: , 8:])\n",
    "print(sum(pca_38.explained_variance_ratio_ * 100))\n",
    "x_pca_38.shape"
   ]
  },
  {
   "cell_type": "code",
   "execution_count": null,
   "id": "155e44b0",
   "metadata": {
    "execution": {
     "iopub.execute_input": "2023-09-21T20:25:12.846096Z",
     "iopub.status.busy": "2023-09-21T20:25:12.845800Z",
     "iopub.status.idle": "2023-09-21T20:25:12.851242Z",
     "shell.execute_reply": "2023-09-21T20:25:12.850359Z",
     "shell.execute_reply.started": "2023-09-21T20:25:12.846061Z"
    },
    "papermill": {
     "duration": null,
     "end_time": null,
     "exception": null,
     "start_time": null,
     "status": "pending"
    },
    "tags": []
   },
   "outputs": [],
   "source": [
    "df_99 = pd.DataFrame(x_pca_38, columns = np.linspace(1 , 86 , num = 86))"
   ]
  },
  {
   "cell_type": "code",
   "execution_count": null,
   "id": "6e66d57d",
   "metadata": {
    "execution": {
     "iopub.execute_input": "2023-09-21T20:25:28.462457Z",
     "iopub.status.busy": "2023-09-21T20:25:28.461492Z",
     "iopub.status.idle": "2023-09-21T20:25:28.470987Z",
     "shell.execute_reply": "2023-09-21T20:25:28.470180Z",
     "shell.execute_reply.started": "2023-09-21T20:25:28.462415Z"
    },
    "papermill": {
     "duration": null,
     "end_time": null,
     "exception": null,
     "start_time": null,
     "status": "pending"
    },
    "tags": []
   },
   "outputs": [],
   "source": [
    "df_99.reset_index( inplace = True , drop = True)\n",
    "a_train.reset_index(inplace = True , drop = True)\n",
    "\n",
    "a_train = pd.concat([a_train.iloc[: , :8] , df_99] , axis = 1)"
   ]
  },
  {
   "cell_type": "markdown",
   "id": "48fa13c9",
   "metadata": {
    "papermill": {
     "duration": null,
     "end_time": null,
     "exception": null,
     "start_time": null,
     "status": "pending"
    },
    "tags": []
   },
   "source": [
    "##### for test"
   ]
  },
  {
   "cell_type": "code",
   "execution_count": null,
   "id": "22dc380d",
   "metadata": {
    "execution": {
     "iopub.execute_input": "2023-09-21T20:25:49.441227Z",
     "iopub.status.busy": "2023-09-21T20:25:49.440648Z",
     "iopub.status.idle": "2023-09-21T20:25:49.466008Z",
     "shell.execute_reply": "2023-09-21T20:25:49.465020Z",
     "shell.execute_reply.started": "2023-09-21T20:25:49.441188Z"
    },
    "papermill": {
     "duration": null,
     "end_time": null,
     "exception": null,
     "start_time": null,
     "status": "pending"
    },
    "tags": []
   },
   "outputs": [],
   "source": [
    "x_pca_38_t = pca_38.transform(a_test.iloc[: , 8:])\n",
    "df_99_t = pd.DataFrame(x_pca_38_t, columns = np.linspace(1 , 86 , num = 86))\n",
    "\n",
    "df_99_t.reset_index( inplace = True , drop = True)\n",
    "a_test.reset_index(inplace = True , drop = True)\n",
    "\n",
    "a_test = pd.concat([a_test.iloc[: , :8] , df_99_t] , axis = 1)"
   ]
  },
  {
   "cell_type": "markdown",
   "id": "f8fdfa82",
   "metadata": {
    "papermill": {
     "duration": null,
     "end_time": null,
     "exception": null,
     "start_time": null,
     "status": "pending"
    },
    "tags": []
   },
   "source": [
    "## Label Encoding"
   ]
  },
  {
   "cell_type": "code",
   "execution_count": null,
   "id": "03ebe8b8",
   "metadata": {
    "execution": {
     "iopub.execute_input": "2022-06-23T11:35:07.634758Z",
     "iopub.status.busy": "2022-06-23T11:35:07.634498Z",
     "iopub.status.idle": "2022-06-23T11:35:07.639586Z",
     "shell.execute_reply": "2022-06-23T11:35:07.637482Z",
     "shell.execute_reply.started": "2022-06-23T11:35:07.63473Z"
    },
    "papermill": {
     "duration": null,
     "end_time": null,
     "exception": null,
     "start_time": null,
     "status": "pending"
    },
    "tags": []
   },
   "outputs": [],
   "source": [
    "# cat_feat = [feature for feature in df_pca.columns if (df_pca[feature].dtype == 'O' or df_pca[feature].dtype == bool)]\n",
    "# cat_feat"
   ]
  },
  {
   "cell_type": "code",
   "execution_count": null,
   "id": "47bb6090",
   "metadata": {
    "execution": {
     "iopub.execute_input": "2022-06-23T11:35:08.842948Z",
     "iopub.status.busy": "2022-06-23T11:35:08.84269Z",
     "iopub.status.idle": "2022-06-23T11:35:08.847165Z",
     "shell.execute_reply": "2022-06-23T11:35:08.846069Z",
     "shell.execute_reply.started": "2022-06-23T11:35:08.84292Z"
    },
    "papermill": {
     "duration": null,
     "end_time": null,
     "exception": null,
     "start_time": null,
     "status": "pending"
    },
    "tags": []
   },
   "outputs": [],
   "source": [
    "# from sklearn import preprocessing\n",
    "# lbl_enc = preprocessing.LabelEncoder()\n",
    "# df_pca[cat_feat] = df_pca[cat_feat].astype(str).apply(lbl_enc.fit_transform)\n",
    "# df_pca"
   ]
  },
  {
   "cell_type": "markdown",
   "id": "a7154ea9",
   "metadata": {
    "papermill": {
     "duration": null,
     "end_time": null,
     "exception": null,
     "start_time": null,
     "status": "pending"
    },
    "tags": []
   },
   "source": [
    "# Standardising between 0 and 1\n",
    "\n",
    "\n",
    "(all numeric field)"
   ]
  },
  {
   "cell_type": "code",
   "execution_count": null,
   "id": "a0193b1d",
   "metadata": {
    "execution": {
     "iopub.execute_input": "2022-06-20T10:23:31.201323Z",
     "iopub.status.busy": "2022-06-20T10:23:31.200954Z",
     "iopub.status.idle": "2022-06-20T10:23:31.207244Z",
     "shell.execute_reply": "2022-06-20T10:23:31.206544Z",
     "shell.execute_reply.started": "2022-06-20T10:23:31.20129Z"
    },
    "papermill": {
     "duration": null,
     "end_time": null,
     "exception": null,
     "start_time": null,
     "status": "pending"
    },
    "tags": []
   },
   "outputs": [],
   "source": [
    "# from sklearn.preprocessing import MinMaxScaler"
   ]
  },
  {
   "cell_type": "code",
   "execution_count": null,
   "id": "d3284c50",
   "metadata": {
    "execution": {
     "iopub.execute_input": "2022-01-06T14:58:43.652901Z",
     "iopub.status.busy": "2022-01-06T14:58:43.652278Z",
     "iopub.status.idle": "2022-01-06T14:58:43.694273Z",
     "shell.execute_reply": "2022-01-06T14:58:43.693173Z",
     "shell.execute_reply.started": "2022-01-06T14:58:43.652842Z"
    },
    "papermill": {
     "duration": null,
     "end_time": null,
     "exception": null,
     "start_time": null,
     "status": "pending"
    },
    "tags": []
   },
   "outputs": [],
   "source": [
    "# scaler = MinMaxScaler()\n",
    "# t = scaler.fit_transform(df_train[['word_count' , 'char_count']])\n",
    "# minmax = pd.DataFrame(t, \n",
    "#              columns=['word_count_scaled', \n",
    "#                       'char_count_scaled'])\n",
    "# df_train = pd.concat([df_train , minmax] , axis = 1 )\n",
    "# df_train.drop(['word_count' , 'char_count'] , axis = 1 , inplace = True)"
   ]
  },
  {
   "cell_type": "code",
   "execution_count": null,
   "id": "d55ac271",
   "metadata": {
    "execution": {
     "iopub.execute_input": "2022-06-14T17:05:46.406705Z",
     "iopub.status.busy": "2022-06-14T17:05:46.40595Z",
     "iopub.status.idle": "2022-06-14T17:05:46.427897Z",
     "shell.execute_reply": "2022-06-14T17:05:46.427229Z",
     "shell.execute_reply.started": "2022-06-14T17:05:46.406667Z"
    },
    "papermill": {
     "duration": null,
     "end_time": null,
     "exception": null,
     "start_time": null,
     "status": "pending"
    },
    "tags": []
   },
   "outputs": [],
   "source": [
    "df_pca"
   ]
  },
  {
   "cell_type": "markdown",
   "id": "2b22c6f2",
   "metadata": {
    "papermill": {
     "duration": null,
     "end_time": null,
     "exception": null,
     "start_time": null,
     "status": "pending"
    },
    "tags": []
   },
   "source": [
    "# Logistic Regression"
   ]
  },
  {
   "cell_type": "code",
   "execution_count": null,
   "id": "f18f7864",
   "metadata": {
    "execution": {
     "iopub.execute_input": "2023-09-21T20:25:58.365310Z",
     "iopub.status.busy": "2023-09-21T20:25:58.365020Z",
     "iopub.status.idle": "2023-09-21T20:26:03.956640Z",
     "shell.execute_reply": "2023-09-21T20:26:03.955684Z",
     "shell.execute_reply.started": "2023-09-21T20:25:58.365275Z"
    },
    "papermill": {
     "duration": null,
     "end_time": null,
     "exception": null,
     "start_time": null,
     "status": "pending"
    },
    "tags": []
   },
   "outputs": [],
   "source": [
    "from sklearn.linear_model import LogisticRegression\n",
    "# solver : {'newton-cg', 'lbfgs', 'liblinear', 'sag', 'saga'}\n",
    "lr = LogisticRegression(penalty='elasticnet',verbose = 0,solver= 'saga',max_iter= 1000 ,random_state=950 ,\n",
    "                        l1_ratio = 0.9 ,warm_start= True)\n",
    "lr.fit(a_train, b_train)\n",
    "pred = lr.predict(a_test)\n",
    "accDT = metrics.f1_score(b_test , pred)\n",
    "accDT"
   ]
  },
  {
   "cell_type": "code",
   "execution_count": null,
   "id": "4b5a1dd0",
   "metadata": {
    "execution": {
     "iopub.execute_input": "2023-09-21T20:26:10.712087Z",
     "iopub.status.busy": "2023-09-21T20:26:10.711476Z",
     "iopub.status.idle": "2023-09-21T20:26:10.718959Z",
     "shell.execute_reply": "2023-09-21T20:26:10.718062Z",
     "shell.execute_reply.started": "2023-09-21T20:26:10.712045Z"
    },
    "papermill": {
     "duration": null,
     "end_time": null,
     "exception": null,
     "start_time": null,
     "status": "pending"
    },
    "tags": []
   },
   "outputs": [],
   "source": [
    "metrics.accuracy_score(b_test , pred)"
   ]
  },
  {
   "cell_type": "code",
   "execution_count": null,
   "id": "cbfff379",
   "metadata": {
    "execution": {
     "iopub.execute_input": "2023-09-21T20:26:17.615046Z",
     "iopub.status.busy": "2023-09-21T20:26:17.614763Z",
     "iopub.status.idle": "2023-09-21T20:26:17.631021Z",
     "shell.execute_reply": "2023-09-21T20:26:17.630116Z",
     "shell.execute_reply.started": "2023-09-21T20:26:17.615011Z"
    },
    "papermill": {
     "duration": null,
     "end_time": null,
     "exception": null,
     "start_time": null,
     "status": "pending"
    },
    "tags": []
   },
   "outputs": [],
   "source": [
    "pd.DataFrame(\n",
    "            metrics.confusion_matrix(b_test , pred),\n",
    "            columns= ['passenger not S' , 'passenger S'],\n",
    "            index = ['true not survive' , 'true S'])"
   ]
  },
  {
   "cell_type": "markdown",
   "id": "27fcddd2",
   "metadata": {
    "papermill": {
     "duration": null,
     "end_time": null,
     "exception": null,
     "start_time": null,
     "status": "pending"
    },
    "tags": []
   },
   "source": [
    "# Auto Sklearn"
   ]
  },
  {
   "cell_type": "code",
   "execution_count": null,
   "id": "3355af9f",
   "metadata": {
    "execution": {
     "iopub.execute_input": "2023-07-03T19:09:32.328068Z",
     "iopub.status.busy": "2023-07-03T19:09:32.327286Z",
     "iopub.status.idle": "2023-07-03T19:09:32.332122Z",
     "shell.execute_reply": "2023-07-03T19:09:32.331062Z",
     "shell.execute_reply.started": "2023-07-03T19:09:32.328028Z"
    },
    "papermill": {
     "duration": null,
     "end_time": null,
     "exception": null,
     "start_time": null,
     "status": "pending"
    },
    "tags": []
   },
   "outputs": [],
   "source": [
    "# !pip install --force-reinstall 'scikit-learn == 0.23.1'"
   ]
  },
  {
   "cell_type": "code",
   "execution_count": null,
   "id": "a0c2985b",
   "metadata": {
    "execution": {
     "iopub.execute_input": "2023-07-03T19:09:27.615666Z",
     "iopub.status.busy": "2023-07-03T19:09:27.614824Z",
     "iopub.status.idle": "2023-07-03T19:09:27.619653Z",
     "shell.execute_reply": "2023-07-03T19:09:27.618372Z",
     "shell.execute_reply.started": "2023-07-03T19:09:27.615621Z"
    },
    "papermill": {
     "duration": null,
     "end_time": null,
     "exception": null,
     "start_time": null,
     "status": "pending"
    },
    "tags": []
   },
   "outputs": [],
   "source": [
    "# !pip3 install --upgrade pip"
   ]
  },
  {
   "cell_type": "code",
   "execution_count": null,
   "id": "a6e0b40f",
   "metadata": {
    "execution": {
     "iopub.execute_input": "2023-07-03T19:09:23.809744Z",
     "iopub.status.busy": "2023-07-03T19:09:23.808844Z",
     "iopub.status.idle": "2023-07-03T19:09:23.816108Z",
     "shell.execute_reply": "2023-07-03T19:09:23.812563Z",
     "shell.execute_reply.started": "2023-07-03T19:09:23.809693Z"
    },
    "papermill": {
     "duration": null,
     "end_time": null,
     "exception": null,
     "start_time": null,
     "status": "pending"
    },
    "tags": []
   },
   "outputs": [],
   "source": [
    "# !pip install 'auto-sklearn == 0.12.6'\n",
    "# from autosklearn.classification import AutoSklearnClassifier"
   ]
  },
  {
   "cell_type": "code",
   "execution_count": null,
   "id": "6db33666",
   "metadata": {
    "execution": {
     "iopub.execute_input": "2023-07-03T19:09:37.471251Z",
     "iopub.status.busy": "2023-07-03T19:09:37.470952Z",
     "iopub.status.idle": "2023-07-03T19:09:37.477728Z",
     "shell.execute_reply": "2023-07-03T19:09:37.477019Z",
     "shell.execute_reply.started": "2023-07-03T19:09:37.471217Z"
    },
    "papermill": {
     "duration": null,
     "end_time": null,
     "exception": null,
     "start_time": null,
     "status": "pending"
    },
    "tags": []
   },
   "outputs": [],
   "source": [
    "# auto_model = AutoSklearnClassifier(time_left_for_this_task=300)\n",
    "# auto_model.fit(a_train , b_train)\n",
    "# auto_model.leaderboard(detailed = True)\n",
    "# auto_model.score(a_test  , b_test)"
   ]
  },
  {
   "cell_type": "markdown",
   "id": "15363c43",
   "metadata": {
    "papermill": {
     "duration": null,
     "end_time": null,
     "exception": null,
     "start_time": null,
     "status": "pending"
    },
    "tags": []
   },
   "source": [
    "# Neural Network"
   ]
  },
  {
   "cell_type": "code",
   "execution_count": null,
   "id": "778b63eb",
   "metadata": {
    "execution": {
     "iopub.execute_input": "2023-09-21T20:44:22.023610Z",
     "iopub.status.busy": "2023-09-21T20:44:22.023297Z",
     "iopub.status.idle": "2023-09-21T20:44:22.027710Z",
     "shell.execute_reply": "2023-09-21T20:44:22.026915Z",
     "shell.execute_reply.started": "2023-09-21T20:44:22.023573Z"
    },
    "papermill": {
     "duration": null,
     "end_time": null,
     "exception": null,
     "start_time": null,
     "status": "pending"
    },
    "tags": []
   },
   "outputs": [],
   "source": [
    "from tensorflow import keras\n",
    "import tensorflow as tf\n",
    "from torch import nn"
   ]
  },
  {
   "cell_type": "code",
   "execution_count": null,
   "id": "f514d720",
   "metadata": {
    "execution": {
     "iopub.execute_input": "2023-09-21T21:27:54.995558Z",
     "iopub.status.busy": "2023-09-21T21:27:54.995233Z",
     "iopub.status.idle": "2023-09-21T21:27:55.066417Z",
     "shell.execute_reply": "2023-09-21T21:27:55.065690Z",
     "shell.execute_reply.started": "2023-09-21T21:27:54.995518Z"
    },
    "papermill": {
     "duration": null,
     "end_time": null,
     "exception": null,
     "start_time": null,
     "status": "pending"
    },
    "tags": []
   },
   "outputs": [],
   "source": [
    "model = keras.Sequential([\n",
    "    keras.layers.Flatten(input_shape = (a_train.shape[1] ,)),\n",
    "    keras.layers.Dense(128 , activation = tf.keras.layers.LeakyReLU(alpha=0.01)),\n",
    "    keras.layers.Dropout(.7),\n",
    "    keras.layers.Dense(64 , activation = 'tanh'),\n",
    "    keras.layers.Dropout(.7),\n",
    "    keras.layers.Dense(32 , activation = tf.keras.layers.LeakyReLU(alpha=0.001)),\n",
    "    keras.layers.BatchNormalization(),\n",
    "    keras.layers.Dense(1 , activation = 'sigmoid')\n",
    "])\n",
    "\n",
    "opti = keras.optimizers.Adam(learning_rate=0.0001, amsgrad=True)\n",
    "\n",
    "model.compile(\n",
    "    optimizer = opti,\n",
    "    loss = 'BinaryCrossentropy',\n",
    "    metrics = [tf.keras.metrics.Precision(), tf.keras.metrics.Recall()]\n",
    ")"
   ]
  },
  {
   "cell_type": "code",
   "execution_count": null,
   "id": "5fe79f9a",
   "metadata": {
    "execution": {
     "iopub.execute_input": "2023-09-21T21:27:55.511753Z",
     "iopub.status.busy": "2023-09-21T21:27:55.511444Z",
     "iopub.status.idle": "2023-09-21T21:27:55.517984Z",
     "shell.execute_reply": "2023-09-21T21:27:55.517268Z",
     "shell.execute_reply.started": "2023-09-21T21:27:55.511720Z"
    },
    "papermill": {
     "duration": null,
     "end_time": null,
     "exception": null,
     "start_time": null,
     "status": "pending"
    },
    "tags": []
   },
   "outputs": [],
   "source": [
    "# model.summary()"
   ]
  },
  {
   "cell_type": "code",
   "execution_count": null,
   "id": "e7f112ac",
   "metadata": {
    "execution": {
     "iopub.execute_input": "2023-09-21T21:27:59.790527Z",
     "iopub.status.busy": "2023-09-21T21:27:59.790215Z",
     "iopub.status.idle": "2023-09-21T21:28:55.799828Z",
     "shell.execute_reply": "2023-09-21T21:28:55.799063Z",
     "shell.execute_reply.started": "2023-09-21T21:27:59.790475Z"
    },
    "papermill": {
     "duration": null,
     "end_time": null,
     "exception": null,
     "start_time": null,
     "status": "pending"
    },
    "tags": []
   },
   "outputs": [],
   "source": [
    "model.fit(a_train , b_train ,batch_size= 25 , epochs  = 50)"
   ]
  },
  {
   "cell_type": "code",
   "execution_count": null,
   "id": "c6c3597d",
   "metadata": {
    "execution": {
     "iopub.execute_input": "2023-09-21T21:29:05.269447Z",
     "iopub.status.busy": "2023-09-21T21:29:05.268687Z",
     "iopub.status.idle": "2023-09-21T21:29:05.745203Z",
     "shell.execute_reply": "2023-09-21T21:29:05.744429Z",
     "shell.execute_reply.started": "2023-09-21T21:29:05.269405Z"
    },
    "papermill": {
     "duration": null,
     "end_time": null,
     "exception": null,
     "start_time": null,
     "status": "pending"
    },
    "tags": []
   },
   "outputs": [],
   "source": [
    "model.evaluate(a_test , b_test)"
   ]
  },
  {
   "cell_type": "code",
   "execution_count": null,
   "id": "82d90691",
   "metadata": {
    "execution": {
     "iopub.execute_input": "2023-09-21T21:25:21.161036Z",
     "iopub.status.busy": "2023-09-21T21:25:21.160247Z",
     "iopub.status.idle": "2023-09-21T21:25:21.247295Z",
     "shell.execute_reply": "2023-09-21T21:25:21.246525Z",
     "shell.execute_reply.started": "2023-09-21T21:25:21.160996Z"
    },
    "papermill": {
     "duration": null,
     "end_time": null,
     "exception": null,
     "start_time": null,
     "status": "pending"
    },
    "tags": []
   },
   "outputs": [],
   "source": [
    "b_pred = model.predict(a_test)"
   ]
  },
  {
   "cell_type": "code",
   "execution_count": null,
   "id": "86f9e959",
   "metadata": {
    "execution": {
     "iopub.execute_input": "2023-09-21T21:26:07.384121Z",
     "iopub.status.busy": "2023-09-21T21:26:07.383615Z",
     "iopub.status.idle": "2023-09-21T21:26:07.393471Z",
     "shell.execute_reply": "2023-09-21T21:26:07.392776Z",
     "shell.execute_reply.started": "2023-09-21T21:26:07.384080Z"
    },
    "papermill": {
     "duration": null,
     "end_time": null,
     "exception": null,
     "start_time": null,
     "status": "pending"
    },
    "tags": []
   },
   "outputs": [],
   "source": [
    "b_pred_la = []\n",
    "for i in b_pred:\n",
    "    if i < 0.525:\n",
    "        b_pred_la.append(0)\n",
    "    else:\n",
    "        b_pred_la.append(1)"
   ]
  },
  {
   "cell_type": "code",
   "execution_count": null,
   "id": "018f2734",
   "metadata": {
    "execution": {
     "iopub.execute_input": "2023-09-21T21:26:07.568393Z",
     "iopub.status.busy": "2023-09-21T21:26:07.567526Z",
     "iopub.status.idle": "2023-09-21T21:26:07.585994Z",
     "shell.execute_reply": "2023-09-21T21:26:07.585327Z",
     "shell.execute_reply.started": "2023-09-21T21:26:07.568347Z"
    },
    "papermill": {
     "duration": null,
     "end_time": null,
     "exception": null,
     "start_time": null,
     "status": "pending"
    },
    "tags": []
   },
   "outputs": [],
   "source": [
    "metrics.f1_score(b_test , b_pred_la)"
   ]
  },
  {
   "cell_type": "code",
   "execution_count": null,
   "id": "10b2f4ed",
   "metadata": {
    "execution": {
     "iopub.execute_input": "2023-09-21T21:00:15.804516Z",
     "iopub.status.busy": "2023-09-21T21:00:15.804209Z",
     "iopub.status.idle": "2023-09-21T21:00:15.823162Z",
     "shell.execute_reply": "2023-09-21T21:00:15.822397Z",
     "shell.execute_reply.started": "2023-09-21T21:00:15.804463Z"
    },
    "papermill": {
     "duration": null,
     "end_time": null,
     "exception": null,
     "start_time": null,
     "status": "pending"
    },
    "tags": []
   },
   "outputs": [],
   "source": [
    "pd.DataFrame(\n",
    "            metrics.confusion_matrix(b_test , b_pred_la),\n",
    "            columns= ['passenger not S' , 'passenger S'],\n",
    "            index = ['true not survive' , 'true S'])"
   ]
  },
  {
   "cell_type": "markdown",
   "id": "e4d0822d",
   "metadata": {
    "papermill": {
     "duration": null,
     "end_time": null,
     "exception": null,
     "start_time": null,
     "status": "pending"
    },
    "tags": []
   },
   "source": [
    "### model 2"
   ]
  },
  {
   "cell_type": "code",
   "execution_count": null,
   "id": "d67f483c",
   "metadata": {
    "execution": {
     "iopub.execute_input": "2022-02-23T10:45:29.3216Z",
     "iopub.status.busy": "2022-02-23T10:45:29.320792Z",
     "iopub.status.idle": "2022-02-23T10:45:45.022786Z",
     "shell.execute_reply": "2022-02-23T10:45:45.022107Z",
     "shell.execute_reply.started": "2022-02-23T10:45:29.321555Z"
    },
    "papermill": {
     "duration": null,
     "end_time": null,
     "exception": null,
     "start_time": null,
     "status": "pending"
    },
    "tags": []
   },
   "outputs": [],
   "source": [
    "model_pre = keras.Sequential([\n",
    "    keras.layers.Flatten(input_shape = (768 ,)),\n",
    "    keras.layers.Dense(5 , activation = 'relu'),\n",
    "    keras.layers.Dense(1 , activation = 'sigmoid')\n",
    "]\n",
    ")\n",
    "model_pre.compile(\n",
    "    optimizer = opti,\n",
    "    loss = 'BinaryCrossentropy',\n",
    "    metrics = ['Precision' , 'Recall']\n",
    ")\n",
    "\n",
    "model_pre.fit(a_train , b_train ,batch_size= 32 , epochs  = 20)"
   ]
  },
  {
   "cell_type": "code",
   "execution_count": null,
   "id": "14c2b22d",
   "metadata": {
    "execution": {
     "iopub.execute_input": "2022-02-23T10:45:51.431746Z",
     "iopub.status.busy": "2022-02-23T10:45:51.431283Z",
     "iopub.status.idle": "2022-02-23T10:45:51.875754Z",
     "shell.execute_reply": "2022-02-23T10:45:51.875Z",
     "shell.execute_reply.started": "2022-02-23T10:45:51.431709Z"
    },
    "papermill": {
     "duration": null,
     "end_time": null,
     "exception": null,
     "start_time": null,
     "status": "pending"
    },
    "tags": []
   },
   "outputs": [],
   "source": [
    "model_pre.evaluate(a_test , b_test)"
   ]
  },
  {
   "cell_type": "code",
   "execution_count": null,
   "id": "edc49b0b",
   "metadata": {
    "execution": {
     "iopub.execute_input": "2022-02-23T10:45:55.769207Z",
     "iopub.status.busy": "2022-02-23T10:45:55.768912Z",
     "iopub.status.idle": "2022-02-23T10:45:55.869953Z",
     "shell.execute_reply": "2022-02-23T10:45:55.869126Z",
     "shell.execute_reply.started": "2022-02-23T10:45:55.769175Z"
    },
    "papermill": {
     "duration": null,
     "end_time": null,
     "exception": null,
     "start_time": null,
     "status": "pending"
    },
    "tags": []
   },
   "outputs": [],
   "source": [
    "b_pred_pre = model_pre.predict(a_test)"
   ]
  },
  {
   "cell_type": "code",
   "execution_count": null,
   "id": "9cd05065",
   "metadata": {
    "execution": {
     "iopub.execute_input": "2022-02-23T10:46:28.620922Z",
     "iopub.status.busy": "2022-02-23T10:46:28.620647Z",
     "iopub.status.idle": "2022-02-23T10:46:28.626927Z",
     "shell.execute_reply": "2022-02-23T10:46:28.626047Z",
     "shell.execute_reply.started": "2022-02-23T10:46:28.620892Z"
    },
    "papermill": {
     "duration": null,
     "end_time": null,
     "exception": null,
     "start_time": null,
     "status": "pending"
    },
    "tags": []
   },
   "outputs": [],
   "source": [
    "b_pred_l = []\n",
    "for i in b_pred_pre:\n",
    "    if i < 0.375:\n",
    "        b_pred_l.append(0)\n",
    "    else:\n",
    "        b_pred_l.append(1)"
   ]
  },
  {
   "cell_type": "code",
   "execution_count": null,
   "id": "aebdfd3d",
   "metadata": {
    "execution": {
     "iopub.execute_input": "2022-02-23T10:46:29.82554Z",
     "iopub.status.busy": "2022-02-23T10:46:29.824704Z",
     "iopub.status.idle": "2022-02-23T10:46:29.83511Z",
     "shell.execute_reply": "2022-02-23T10:46:29.834452Z",
     "shell.execute_reply.started": "2022-02-23T10:46:29.825489Z"
    },
    "papermill": {
     "duration": null,
     "end_time": null,
     "exception": null,
     "start_time": null,
     "status": "pending"
    },
    "tags": []
   },
   "outputs": [],
   "source": [
    "metrics.f1_score(b_test , b_pred_l)"
   ]
  },
  {
   "cell_type": "code",
   "execution_count": null,
   "id": "9ad692c3",
   "metadata": {
    "execution": {
     "iopub.execute_input": "2022-02-23T10:46:31.448929Z",
     "iopub.status.busy": "2022-02-23T10:46:31.448433Z",
     "iopub.status.idle": "2022-02-23T10:46:31.461212Z",
     "shell.execute_reply": "2022-02-23T10:46:31.460525Z",
     "shell.execute_reply.started": "2022-02-23T10:46:31.448891Z"
    },
    "papermill": {
     "duration": null,
     "end_time": null,
     "exception": null,
     "start_time": null,
     "status": "pending"
    },
    "tags": []
   },
   "outputs": [],
   "source": [
    "pd.DataFrame(\n",
    "            metrics.confusion_matrix(b_test , b_pred_l),\n",
    "            columns= ['passenger not S' , 'passenger S'],\n",
    "            index = ['true not survive' , 'true S'])"
   ]
  },
  {
   "cell_type": "code",
   "execution_count": null,
   "id": "e6377036",
   "metadata": {
    "execution": {
     "iopub.execute_input": "2022-02-23T10:35:23.161796Z",
     "iopub.status.busy": "2022-02-23T10:35:23.16154Z",
     "iopub.status.idle": "2022-02-23T10:35:23.165625Z",
     "shell.execute_reply": "2022-02-23T10:35:23.164661Z",
     "shell.execute_reply.started": "2022-02-23T10:35:23.161767Z"
    },
    "papermill": {
     "duration": null,
     "end_time": null,
     "exception": null,
     "start_time": null,
     "status": "pending"
    },
    "tags": []
   },
   "outputs": [],
   "source": [
    "# q = []\n",
    "# for i in np.arange(1 , 1000 , 10):\n",
    "#     l = LogisticRegression(penalty='l2',verbose = 0,solver= 'liblinear' ,random_state=10 , C = i)\n",
    "#     l.fit(a_train, b_train)\n",
    "#     p = l.predict(a_test)\n",
    "#     a = metrics.f1_score(b_test , p)\n",
    "#     q.append(a)\n",
    "#     print(i , a)"
   ]
  },
  {
   "cell_type": "code",
   "execution_count": null,
   "id": "f9cc984e",
   "metadata": {
    "execution": {
     "iopub.execute_input": "2022-02-19T10:53:49.548861Z",
     "iopub.status.busy": "2022-02-19T10:53:49.54846Z",
     "iopub.status.idle": "2022-02-19T10:53:49.553899Z",
     "shell.execute_reply": "2022-02-19T10:53:49.553199Z",
     "shell.execute_reply.started": "2022-02-19T10:53:49.548824Z"
    },
    "papermill": {
     "duration": null,
     "end_time": null,
     "exception": null,
     "start_time": null,
     "status": "pending"
    },
    "tags": []
   },
   "outputs": [],
   "source": [
    "# from sklearn.model_selection import RepeatedStratifiedKFold\n",
    "# from sklearn.model_selection import GridSearchCV\n",
    "# # define models and parameters\n",
    "# model = LogisticRegression(random_state = 10)\n",
    "# solvers = ['newton-cg', 'lbfgs', 'liblinear']\n",
    "# penalty = ['l2']\n",
    "# c_values = [100, 10, 1.0, 0.1, 0.01]\n",
    "# # define grid search\n",
    "# grid = dict(solver=solvers,penalty=penalty,C=c_values)\n",
    "# cv = RepeatedStratifiedKFold(n_splits=10, n_repeats=3, random_state=1)\n",
    "# grid_search = GridSearchCV(estimator=model, param_grid=grid, n_jobs=-1, cv=cv, scoring='accuracy',error_score=0)\n",
    "# grid_result = grid_search.fit(a_train, b_train)\n",
    "# # summarize results\n",
    "# print(\"Best: %f using %s\" % (grid_result.best_score_, grid_result.best_params_))\n",
    "# means = grid_result.cv_results_['mean_test_score']\n",
    "# stds = grid_result.cv_results_['std_test_score']\n",
    "# params = grid_result.cv_results_['params']\n",
    "# for mean, stdev, param in zip(means, stds, params):\n",
    "#     print(\"%f (%f) with: %r\" % (mean, stdev, param))"
   ]
  },
  {
   "cell_type": "code",
   "execution_count": null,
   "id": "379185a7",
   "metadata": {
    "execution": {
     "iopub.execute_input": "2022-02-19T10:53:49.740856Z",
     "iopub.status.busy": "2022-02-19T10:53:49.739861Z",
     "iopub.status.idle": "2022-02-19T10:53:49.744572Z",
     "shell.execute_reply": "2022-02-19T10:53:49.743878Z",
     "shell.execute_reply.started": "2022-02-19T10:53:49.740813Z"
    },
    "papermill": {
     "duration": null,
     "end_time": null,
     "exception": null,
     "start_time": null,
     "status": "pending"
    },
    "tags": []
   },
   "outputs": [],
   "source": [
    "# from sklearn.model_selection import RandomizedSearchCV\n",
    "# logistic = LogisticRegression(solver='saga', tol=1e-2, max_iter=200,random_state=0)\n",
    "# distributions = dict(penalty=['l2']  , solvers = ['newton-cg', 'lbfgs', 'liblinear'] ,c_values = [100, 10, 1.0, 0.1, 0.01] )\n",
    "# clf = RandomizedSearchCV(logistic, distributions, random_state=0)\n",
    "# search = clf.fit(a_train, b_train)\n",
    "# search.best_params_"
   ]
  },
  {
   "cell_type": "code",
   "execution_count": null,
   "id": "4cc71ce1",
   "metadata": {
    "execution": {
     "iopub.execute_input": "2023-07-03T19:15:44.687871Z",
     "iopub.status.busy": "2023-07-03T19:15:44.687575Z",
     "iopub.status.idle": "2023-07-03T19:15:44.692851Z",
     "shell.execute_reply": "2023-07-03T19:15:44.691813Z",
     "shell.execute_reply.started": "2023-07-03T19:15:44.687832Z"
    },
    "papermill": {
     "duration": null,
     "end_time": null,
     "exception": null,
     "start_time": null,
     "status": "pending"
    },
    "tags": []
   },
   "outputs": [],
   "source": [
    "from sklearn.neural_network import MLPClassifier"
   ]
  },
  {
   "cell_type": "code",
   "execution_count": null,
   "id": "dead7ffa",
   "metadata": {
    "execution": {
     "iopub.execute_input": "2023-07-03T19:26:09.115676Z",
     "iopub.status.busy": "2023-07-03T19:26:09.115386Z",
     "iopub.status.idle": "2023-07-03T19:26:09.296725Z",
     "shell.execute_reply": "2023-07-03T19:26:09.295642Z",
     "shell.execute_reply.started": "2023-07-03T19:26:09.115640Z"
    },
    "papermill": {
     "duration": null,
     "end_time": null,
     "exception": null,
     "start_time": null,
     "status": "pending"
    },
    "tags": []
   },
   "outputs": [],
   "source": [
    "mlp = MLPClassifier(activation = 'tanh' ,hidden_layer_sizes=(80,) ,learning_rate_init=0.001 ,max_iter=500 \n",
    "                    ,random_state= 412, early_stopping= True)\n",
    "mlp.fit(a_train, b_train)\n",
    "pred_1 = mlp.predict(a_test)\n",
    "accDT = metrics.f1_score(b_test , pred_1)\n",
    "accDT"
   ]
  },
  {
   "cell_type": "markdown",
   "id": "2636e2ad",
   "metadata": {
    "papermill": {
     "duration": null,
     "end_time": null,
     "exception": null,
     "start_time": null,
     "status": "pending"
    },
    "tags": []
   },
   "source": [
    "# Naive Bayes"
   ]
  },
  {
   "cell_type": "code",
   "execution_count": null,
   "id": "0aa31653",
   "metadata": {
    "execution": {
     "iopub.execute_input": "2023-07-03T19:09:50.338298Z",
     "iopub.status.busy": "2023-07-03T19:09:50.337988Z",
     "iopub.status.idle": "2023-07-03T19:09:50.343136Z",
     "shell.execute_reply": "2023-07-03T19:09:50.342275Z",
     "shell.execute_reply.started": "2023-07-03T19:09:50.338263Z"
    },
    "papermill": {
     "duration": null,
     "end_time": null,
     "exception": null,
     "start_time": null,
     "status": "pending"
    },
    "tags": []
   },
   "outputs": [],
   "source": [
    "from sklearn.naive_bayes import BernoulliNB"
   ]
  },
  {
   "cell_type": "code",
   "execution_count": null,
   "id": "c14eb91a",
   "metadata": {
    "execution": {
     "iopub.execute_input": "2023-07-03T19:09:50.785536Z",
     "iopub.status.busy": "2023-07-03T19:09:50.784885Z",
     "iopub.status.idle": "2023-07-03T19:09:50.829311Z",
     "shell.execute_reply": "2023-07-03T19:09:50.828263Z",
     "shell.execute_reply.started": "2023-07-03T19:09:50.785494Z"
    },
    "papermill": {
     "duration": null,
     "end_time": null,
     "exception": null,
     "start_time": null,
     "status": "pending"
    },
    "tags": []
   },
   "outputs": [],
   "source": [
    "classifier = BernoulliNB(alpha=5.0)\n",
    "classifier.fit(a_train , b_train)\n",
    "b_predN = classifier.predict(a_test)\n",
    "accN = metrics.f1_score(b_test , b_predN)\n",
    "print(accN)\n",
    "\n",
    "pd.DataFrame(\n",
    "            metrics.confusion_matrix(b_test , b_predN),\n",
    "            columns= ['passenger not S' , 'passenger S'],\n",
    "            index = ['true not survive' , 'true S'])"
   ]
  },
  {
   "cell_type": "markdown",
   "id": "70e80984",
   "metadata": {
    "papermill": {
     "duration": null,
     "end_time": null,
     "exception": null,
     "start_time": null,
     "status": "pending"
    },
    "tags": []
   },
   "source": [
    "# Decision Tree"
   ]
  },
  {
   "cell_type": "code",
   "execution_count": null,
   "id": "be12a1fa",
   "metadata": {
    "execution": {
     "iopub.execute_input": "2023-07-03T19:09:54.819536Z",
     "iopub.status.busy": "2023-07-03T19:09:54.819254Z",
     "iopub.status.idle": "2023-07-03T19:09:54.824259Z",
     "shell.execute_reply": "2023-07-03T19:09:54.823319Z",
     "shell.execute_reply.started": "2023-07-03T19:09:54.819503Z"
    },
    "papermill": {
     "duration": null,
     "end_time": null,
     "exception": null,
     "start_time": null,
     "status": "pending"
    },
    "tags": []
   },
   "outputs": [],
   "source": [
    "from sklearn import tree "
   ]
  },
  {
   "cell_type": "code",
   "execution_count": null,
   "id": "ad5ca36d",
   "metadata": {
    "execution": {
     "iopub.execute_input": "2023-07-03T19:09:56.455719Z",
     "iopub.status.busy": "2023-07-03T19:09:56.454942Z",
     "iopub.status.idle": "2023-07-03T19:09:56.770241Z",
     "shell.execute_reply": "2023-07-03T19:09:56.769480Z",
     "shell.execute_reply.started": "2023-07-03T19:09:56.455680Z"
    },
    "papermill": {
     "duration": null,
     "end_time": null,
     "exception": null,
     "start_time": null,
     "status": "pending"
    },
    "tags": []
   },
   "outputs": [],
   "source": [
    "classifierDT = tree.DecisionTreeClassifier(max_depth=150,\n",
    "    random_state=4,\n",
    "    max_leaf_nodes=30, ccp_alpha = 0.003)\n",
    "classifierDT.fit(a_train , b_train)\n",
    "b_predDT = classifierDT.predict(a_test)\n",
    "accDT = metrics.f1_score(b_test , b_predDT)\n",
    "accDT"
   ]
  },
  {
   "cell_type": "markdown",
   "id": "6017598a",
   "metadata": {
    "papermill": {
     "duration": null,
     "end_time": null,
     "exception": null,
     "start_time": null,
     "status": "pending"
    },
    "tags": []
   },
   "source": [
    "# Passive Aggresive Classifier"
   ]
  },
  {
   "cell_type": "code",
   "execution_count": null,
   "id": "cb55b55a",
   "metadata": {
    "execution": {
     "iopub.execute_input": "2023-07-03T19:10:01.236119Z",
     "iopub.status.busy": "2023-07-03T19:10:01.235497Z",
     "iopub.status.idle": "2023-07-03T19:10:01.240161Z",
     "shell.execute_reply": "2023-07-03T19:10:01.239259Z",
     "shell.execute_reply.started": "2023-07-03T19:10:01.236077Z"
    },
    "papermill": {
     "duration": null,
     "end_time": null,
     "exception": null,
     "start_time": null,
     "status": "pending"
    },
    "tags": []
   },
   "outputs": [],
   "source": [
    "from sklearn.linear_model import PassiveAggressiveClassifier"
   ]
  },
  {
   "cell_type": "code",
   "execution_count": null,
   "id": "bf22be61",
   "metadata": {
    "execution": {
     "iopub.execute_input": "2023-07-03T19:10:02.107330Z",
     "iopub.status.busy": "2023-07-03T19:10:02.106657Z",
     "iopub.status.idle": "2023-07-03T19:10:02.151912Z",
     "shell.execute_reply": "2023-07-03T19:10:02.150979Z",
     "shell.execute_reply.started": "2023-07-03T19:10:02.107285Z"
    },
    "papermill": {
     "duration": null,
     "end_time": null,
     "exception": null,
     "start_time": null,
     "status": "pending"
    },
    "tags": []
   },
   "outputs": [],
   "source": [
    "clf = PassiveAggressiveClassifier(max_iter=500, early_stopping=False , random_state = 93)\n",
    "clf.fit(a_train , b_train)\n",
    "b_predclf = clf.predict(a_test)\n",
    "accclf = metrics.f1_score(b_test , b_predclf)\n",
    "accclf"
   ]
  },
  {
   "cell_type": "code",
   "execution_count": null,
   "id": "4e6567d8",
   "metadata": {
    "execution": {
     "iopub.execute_input": "2022-02-19T10:16:38.080825Z",
     "iopub.status.busy": "2022-02-19T10:16:38.080468Z",
     "iopub.status.idle": "2022-02-19T10:16:38.09492Z",
     "shell.execute_reply": "2022-02-19T10:16:38.093989Z",
     "shell.execute_reply.started": "2022-02-19T10:16:38.080788Z"
    },
    "papermill": {
     "duration": null,
     "end_time": null,
     "exception": null,
     "start_time": null,
     "status": "pending"
    },
    "tags": []
   },
   "outputs": [],
   "source": [
    "pd.DataFrame(\n",
    "            metrics.confusion_matrix(b_test , b_predclf),\n",
    "            columns= ['passenger not S' , 'passenger S'],\n",
    "            index = ['true not survive' , 'true S'])"
   ]
  },
  {
   "cell_type": "markdown",
   "id": "36025934",
   "metadata": {
    "papermill": {
     "duration": null,
     "end_time": null,
     "exception": null,
     "start_time": null,
     "status": "pending"
    },
    "tags": []
   },
   "source": [
    "# CATBOOST"
   ]
  },
  {
   "cell_type": "code",
   "execution_count": null,
   "id": "b50bd157",
   "metadata": {
    "execution": {
     "iopub.execute_input": "2023-09-21T20:26:49.053228Z",
     "iopub.status.busy": "2023-09-21T20:26:49.052938Z",
     "iopub.status.idle": "2023-09-21T20:26:49.227928Z",
     "shell.execute_reply": "2023-09-21T20:26:49.227132Z",
     "shell.execute_reply.started": "2023-09-21T20:26:49.053195Z"
    },
    "papermill": {
     "duration": null,
     "end_time": null,
     "exception": null,
     "start_time": null,
     "status": "pending"
    },
    "tags": []
   },
   "outputs": [],
   "source": [
    "import catboost as cb"
   ]
  },
  {
   "cell_type": "code",
   "execution_count": null,
   "id": "0fb09248",
   "metadata": {
    "execution": {
     "iopub.execute_input": "2023-09-21T20:26:49.621368Z",
     "iopub.status.busy": "2023-09-21T20:26:49.621086Z",
     "iopub.status.idle": "2023-09-21T20:27:59.593822Z",
     "shell.execute_reply": "2023-09-21T20:27:59.592453Z",
     "shell.execute_reply.started": "2023-09-21T20:26:49.621336Z"
    },
    "papermill": {
     "duration": null,
     "end_time": null,
     "exception": null,
     "start_time": null,
     "status": "pending"
    },
    "tags": []
   },
   "outputs": [],
   "source": [
    "classifier = cb.CatBoostClassifier(iterations=900 ,loss_function = 'Logloss' ,learning_rate = 0.002\n",
    "                                   ,grow_policy= 'Depthwise' ,feature_border_type ='GreedyLogSum', l2_leaf_reg= 8.5 ,\n",
    "                                    early_stopping_rounds= 10  ,depth = 6 ,eval_metric='F1',metric_period=100 )\n",
    "classifier.fit(a_train , b_train , verbose = True)\n",
    "pred_train = classifier.predict(a_train)\n",
    "acc_train = metrics.f1_score(b_train , pred_train)\n",
    "pred_test = classifier.predict(a_test)\n",
    "acc_test = metrics.f1_score(b_test , pred_test)\n",
    "print('Train_acc = {}' .format(acc_train))\n",
    "print('Test_acc = {}' .format(acc_test))"
   ]
  },
  {
   "cell_type": "code",
   "execution_count": null,
   "id": "e9e63390",
   "metadata": {
    "execution": {
     "iopub.execute_input": "2022-07-10T10:28:18.138692Z",
     "iopub.status.busy": "2022-07-10T10:28:18.13839Z",
     "iopub.status.idle": "2022-07-10T10:28:18.15969Z",
     "shell.execute_reply": "2022-07-10T10:28:18.158915Z",
     "shell.execute_reply.started": "2022-07-10T10:28:18.138658Z"
    },
    "papermill": {
     "duration": null,
     "end_time": null,
     "exception": null,
     "start_time": null,
     "status": "pending"
    },
    "tags": []
   },
   "outputs": [],
   "source": [
    "classifier.get_feature_importance()"
   ]
  },
  {
   "cell_type": "code",
   "execution_count": null,
   "id": "74547ee3",
   "metadata": {
    "execution": {
     "iopub.execute_input": "2022-06-23T11:51:19.898104Z",
     "iopub.status.busy": "2022-06-23T11:51:19.897841Z",
     "iopub.status.idle": "2022-06-23T11:51:21.727364Z",
     "shell.execute_reply": "2022-06-23T11:51:21.726637Z",
     "shell.execute_reply.started": "2022-06-23T11:51:19.898075Z"
    },
    "papermill": {
     "duration": null,
     "end_time": null,
     "exception": null,
     "start_time": null,
     "status": "pending"
    },
    "tags": []
   },
   "outputs": [],
   "source": [
    "import eli5"
   ]
  },
  {
   "cell_type": "markdown",
   "id": "b35309cc",
   "metadata": {
    "papermill": {
     "duration": null,
     "end_time": null,
     "exception": null,
     "start_time": null,
     "status": "pending"
    },
    "tags": []
   },
   "source": [
    "# Test Model"
   ]
  },
  {
   "cell_type": "code",
   "execution_count": null,
   "id": "89878b75",
   "metadata": {
    "execution": {
     "iopub.execute_input": "2023-09-21T20:28:47.238910Z",
     "iopub.status.busy": "2023-09-21T20:28:47.238610Z",
     "iopub.status.idle": "2023-09-21T20:28:47.316138Z",
     "shell.execute_reply": "2023-09-21T20:28:47.315450Z",
     "shell.execute_reply.started": "2023-09-21T20:28:47.238876Z"
    },
    "papermill": {
     "duration": null,
     "end_time": null,
     "exception": null,
     "start_time": null,
     "status": "pending"
    },
    "tags": []
   },
   "outputs": [],
   "source": [
    "df_test['text'] = df_test['text'].apply(remove_URL)\n",
    "df_test['text'] = df_test['text'].apply(remove_html)\n",
    "df_test['text'] = df_test['text'].apply(remove_accented_chars)\n",
    "# df_test['text'] = df_test['text'].apply(remove_special_characters)\n",
    "df_test['text'] = df_test['text'].apply(contractions.fix)"
   ]
  },
  {
   "cell_type": "code",
   "execution_count": null,
   "id": "ae60603f",
   "metadata": {
    "execution": {
     "iopub.execute_input": "2023-09-21T20:28:57.599000Z",
     "iopub.status.busy": "2023-09-21T20:28:57.598702Z",
     "iopub.status.idle": "2023-09-21T20:28:58.892240Z",
     "shell.execute_reply": "2023-09-21T20:28:58.891447Z",
     "shell.execute_reply.started": "2023-09-21T20:28:57.598967Z"
    },
    "papermill": {
     "duration": null,
     "end_time": null,
     "exception": null,
     "start_time": null,
     "status": "pending"
    },
    "tags": []
   },
   "outputs": [],
   "source": [
    "x_train_snt_obj = df_test['text'].apply(lambda row: textblob.TextBlob(row).sentiment)\n",
    "df_test['Polarity'] = [obj.polarity for obj in x_train_snt_obj.values]\n",
    "df_test['Subjectivity'] = [obj.subjectivity for obj in x_train_snt_obj.values]\n",
    "\n",
    "# df_test['text'] = df_test['text'].apply(remove_stopwords)\n",
    "# df_test['text'] = df_test['text'].apply(ps.stem)\n",
    "df_test['Readibility_score'] = df_test['text'].apply(textstat.automated_readability_index)\n",
    "df_test['Reading_time'] = df_test['text'].apply(textstat.reading_time)\n",
    "# df_test['text'] = df_test['text'].apply(str.lower)\n",
    "# df_test['text'] = df_test['text'].apply(str.strip)\n",
    "# df_test['char_count'] = df_test['text'].apply(len)\n",
    "# df_test['word_count'] = df_test['text'].apply(lambda x: len(x.split()))"
   ]
  },
  {
   "cell_type": "code",
   "execution_count": null,
   "id": "be6373d3",
   "metadata": {
    "execution": {
     "iopub.execute_input": "2023-09-21T20:29:54.951630Z",
     "iopub.status.busy": "2023-09-21T20:29:54.950808Z",
     "iopub.status.idle": "2023-09-21T20:29:56.380905Z",
     "shell.execute_reply": "2023-09-21T20:29:56.380071Z",
     "shell.execute_reply.started": "2023-09-21T20:29:54.951585Z"
    },
    "papermill": {
     "duration": null,
     "end_time": null,
     "exception": null,
     "start_time": null,
     "status": "pending"
    },
    "tags": []
   },
   "outputs": [],
   "source": [
    "df_test['linsear_write_text'] = df_test['text'].apply(textstat.linsear_write_formula)\n",
    "\n",
    "# df_test['McAlpine_EFLAW_text'] = df_test['text'].apply(textstat.mcalpine_eflaw)\n",
    "\n",
    "# df_test['gulpease_text'] = df_test['text'].apply(textstat.gulpease_index)\n",
    "\n",
    "# df_test['szigriszt_text'] = df_test['text'].apply(textstat.szigriszt_pazos)\n",
    "\n",
    "# df_test['miniword_text'] = df_test['text'].apply(textstat.miniword_count)\n",
    "\n",
    "# df_test['longword_text'] = df_test['text'].apply(textstat.long_word_count)\n",
    "\n",
    "df_test['wps_text'] = df_test['text'].apply(textstat.words_per_sentence)\n",
    "\n",
    "# df_test['total_sentence_text'] = df_test['text'].apply(textstat.sentence_count)\n",
    "\n",
    "# df_test['polysyllable_text'] = df_test['text'].apply(textstat.polysyllabcount)\n",
    "\n",
    "df_test['Lexical_diversity'] = df_test['text'].apply(calculate_ttr)"
   ]
  },
  {
   "cell_type": "code",
   "execution_count": null,
   "id": "ee0b84af",
   "metadata": {
    "papermill": {
     "duration": null,
     "end_time": null,
     "exception": null,
     "start_time": null,
     "status": "pending"
    },
    "tags": []
   },
   "outputs": [],
   "source": []
  },
  {
   "cell_type": "code",
   "execution_count": null,
   "id": "23fac90f",
   "metadata": {
    "execution": {
     "iopub.execute_input": "2023-07-03T18:32:52.409944Z",
     "iopub.status.busy": "2023-07-03T18:32:52.409670Z",
     "iopub.status.idle": "2023-07-03T18:32:52.414673Z",
     "shell.execute_reply": "2023-07-03T18:32:52.413803Z",
     "shell.execute_reply.started": "2023-07-03T18:32:52.409906Z"
    },
    "papermill": {
     "duration": null,
     "end_time": null,
     "exception": null,
     "start_time": null,
     "status": "pending"
    },
    "tags": []
   },
   "outputs": [],
   "source": [
    "# df_test.drop(['keyword' , 'location'] , axis= 1 , inplace = True)"
   ]
  },
  {
   "cell_type": "code",
   "execution_count": null,
   "id": "a702b611",
   "metadata": {
    "execution": {
     "iopub.execute_input": "2022-01-06T15:12:50.705113Z",
     "iopub.status.busy": "2022-01-06T15:12:50.704738Z",
     "iopub.status.idle": "2022-01-06T15:12:50.738147Z",
     "shell.execute_reply": "2022-01-06T15:12:50.737203Z",
     "shell.execute_reply.started": "2022-01-06T15:12:50.705064Z"
    },
    "papermill": {
     "duration": null,
     "end_time": null,
     "exception": null,
     "start_time": null,
     "status": "pending"
    },
    "tags": []
   },
   "outputs": [],
   "source": [
    "# df_test['unique_word'] = df_test['text'].apply(unique_words)\n",
    "# df_test['unique_word_ratio'] = df_test['unique_word']/df_test['word_count']\n",
    "# df_test.drop(['unique_word'] , axis = 1 , inplace = True)"
   ]
  },
  {
   "cell_type": "code",
   "execution_count": null,
   "id": "6abc6889",
   "metadata": {
    "execution": {
     "iopub.execute_input": "2022-02-23T10:47:26.652823Z",
     "iopub.status.busy": "2022-02-23T10:47:26.652333Z",
     "iopub.status.idle": "2022-02-23T10:47:28.864752Z",
     "shell.execute_reply": "2022-02-23T10:47:28.86403Z",
     "shell.execute_reply.started": "2022-02-23T10:47:26.652785Z"
    },
    "papermill": {
     "duration": null,
     "end_time": null,
     "exception": null,
     "start_time": null,
     "status": "pending"
    },
    "tags": []
   },
   "outputs": [],
   "source": [
    "# tokeniz = df_test['text'].apply((lambda x: tokenizer.encode(x, add_special_tokens=True)))"
   ]
  },
  {
   "cell_type": "code",
   "execution_count": null,
   "id": "7ef69a20",
   "metadata": {
    "execution": {
     "iopub.execute_input": "2022-02-23T10:47:30.580714Z",
     "iopub.status.busy": "2022-02-23T10:47:30.580022Z",
     "iopub.status.idle": "2022-02-23T10:47:30.647224Z",
     "shell.execute_reply": "2022-02-23T10:47:30.646493Z",
     "shell.execute_reply.started": "2022-02-23T10:47:30.580676Z"
    },
    "papermill": {
     "duration": null,
     "end_time": null,
     "exception": null,
     "start_time": null,
     "status": "pending"
    },
    "tags": []
   },
   "outputs": [],
   "source": [
    "# padded = np.array([i + [0]*(84-len(i)) for i in tokeniz.values])\n",
    "# np.array(padded).shape\n",
    "# attention_mask = np.where(padded != 0, 1, 0)\n",
    "# attention_mask.shape"
   ]
  },
  {
   "cell_type": "code",
   "execution_count": null,
   "id": "709e4d9b",
   "metadata": {
    "execution": {
     "iopub.execute_input": "2022-02-23T10:47:59.112836Z",
     "iopub.status.busy": "2022-02-23T10:47:59.112154Z",
     "iopub.status.idle": "2022-02-23T10:47:59.142122Z",
     "shell.execute_reply": "2022-02-23T10:47:59.140966Z",
     "shell.execute_reply.started": "2022-02-23T10:47:59.112798Z"
    },
    "papermill": {
     "duration": null,
     "end_time": null,
     "exception": null,
     "start_time": null,
     "status": "pending"
    },
    "tags": []
   },
   "outputs": [],
   "source": [
    "# input1 = torch.tensor(padded)  \n",
    "# attention_mask = torch.tensor(attention_mask)\n",
    "\n",
    "# with torch.no_grad():\n",
    "#     last_hidden_states = model(input1, attention_mask=attention_mask)"
   ]
  },
  {
   "cell_type": "code",
   "execution_count": null,
   "id": "83d866fe",
   "metadata": {
    "execution": {
     "iopub.execute_input": "2022-01-06T15:16:37.638772Z",
     "iopub.status.busy": "2022-01-06T15:16:37.638415Z",
     "iopub.status.idle": "2022-01-06T15:16:37.645967Z",
     "shell.execute_reply": "2022-01-06T15:16:37.645162Z",
     "shell.execute_reply.started": "2022-01-06T15:16:37.638721Z"
    },
    "papermill": {
     "duration": null,
     "end_time": null,
     "exception": null,
     "start_time": null,
     "status": "pending"
    },
    "tags": []
   },
   "outputs": [],
   "source": [
    "# feat = last_hidden_states[0][:,0,:].numpy()\n",
    "# feat.shape"
   ]
  },
  {
   "cell_type": "code",
   "execution_count": null,
   "id": "d525e592",
   "metadata": {
    "execution": {
     "iopub.execute_input": "2022-01-06T15:16:49.095509Z",
     "iopub.status.busy": "2022-01-06T15:16:49.094841Z",
     "iopub.status.idle": "2022-01-06T15:16:49.138919Z",
     "shell.execute_reply": "2022-01-06T15:16:49.138223Z",
     "shell.execute_reply.started": "2022-01-06T15:16:49.095452Z"
    },
    "papermill": {
     "duration": null,
     "end_time": null,
     "exception": null,
     "start_time": null,
     "status": "pending"
    },
    "tags": []
   },
   "outputs": [],
   "source": [
    "# bert_test_df = pd.DataFrame(feat , columns = np.linspace(1 , 768 , num = 768 ))\n",
    "# df_test = pd.concat([df_test , bert_test_df] , axis = 1)"
   ]
  },
  {
   "cell_type": "code",
   "execution_count": null,
   "id": "0c136aae",
   "metadata": {
    "execution": {
     "iopub.execute_input": "2023-09-21T20:30:00.244166Z",
     "iopub.status.busy": "2023-09-21T20:30:00.243543Z",
     "iopub.status.idle": "2023-09-21T20:30:01.117730Z",
     "shell.execute_reply": "2023-09-21T20:30:01.116900Z",
     "shell.execute_reply.started": "2023-09-21T20:30:00.244126Z"
    },
    "papermill": {
     "duration": null,
     "end_time": null,
     "exception": null,
     "start_time": null,
     "status": "pending"
    },
    "tags": []
   },
   "outputs": [],
   "source": [
    "x_train_snt_obj = df_test['text'].apply(lambda row: textblob.TextBlob(row).sentiment)\n",
    "df_test['Polarity'] = [obj.polarity for obj in x_train_snt_obj.values]\n",
    "df_test['Subjectivity'] = [obj.subjectivity for obj in x_train_snt_obj.values]"
   ]
  },
  {
   "cell_type": "code",
   "execution_count": null,
   "id": "0175f5af",
   "metadata": {
    "execution": {
     "iopub.execute_input": "2023-09-21T20:30:01.120285Z",
     "iopub.status.busy": "2023-09-21T20:30:01.119872Z",
     "iopub.status.idle": "2023-09-21T20:30:01.147727Z",
     "shell.execute_reply": "2023-09-21T20:30:01.146783Z",
     "shell.execute_reply.started": "2023-09-21T20:30:01.120246Z"
    },
    "papermill": {
     "duration": null,
     "end_time": null,
     "exception": null,
     "start_time": null,
     "status": "pending"
    },
    "tags": []
   },
   "outputs": [],
   "source": [
    "df_test"
   ]
  },
  {
   "cell_type": "code",
   "execution_count": null,
   "id": "732bc0da",
   "metadata": {
    "execution": {
     "iopub.execute_input": "2023-09-21T20:30:04.463623Z",
     "iopub.status.busy": "2023-09-21T20:30:04.463330Z",
     "iopub.status.idle": "2023-09-21T20:30:04.468495Z",
     "shell.execute_reply": "2023-09-21T20:30:04.467433Z",
     "shell.execute_reply.started": "2023-09-21T20:30:04.463589Z"
    },
    "papermill": {
     "duration": null,
     "end_time": null,
     "exception": null,
     "start_time": null,
     "status": "pending"
    },
    "tags": []
   },
   "outputs": [],
   "source": [
    "x_test = df_test['text'].to_list()"
   ]
  },
  {
   "cell_type": "code",
   "execution_count": null,
   "id": "bbd46483",
   "metadata": {
    "execution": {
     "iopub.execute_input": "2023-09-21T20:30:05.119992Z",
     "iopub.status.busy": "2023-09-21T20:30:05.119729Z",
     "iopub.status.idle": "2023-09-21T20:30:09.360895Z",
     "shell.execute_reply": "2023-09-21T20:30:09.360022Z",
     "shell.execute_reply.started": "2023-09-21T20:30:05.119961Z"
    },
    "papermill": {
     "duration": null,
     "end_time": null,
     "exception": null,
     "start_time": null,
     "status": "pending"
    },
    "tags": []
   },
   "outputs": [],
   "source": [
    "s = time.time()\n",
    "sentence_embeddings_1 = sbert_model.encode(x_test[:10000])\n",
    "print(sentence_embeddings_1.shape)\n",
    "print(time.time() - s)"
   ]
  },
  {
   "cell_type": "code",
   "execution_count": null,
   "id": "e7ef6e43",
   "metadata": {
    "execution": {
     "iopub.execute_input": "2023-09-21T20:30:09.362939Z",
     "iopub.status.busy": "2023-09-21T20:30:09.362649Z",
     "iopub.status.idle": "2023-09-21T20:30:09.367882Z",
     "shell.execute_reply": "2023-09-21T20:30:09.367087Z",
     "shell.execute_reply.started": "2023-09-21T20:30:09.362898Z"
    },
    "papermill": {
     "duration": null,
     "end_time": null,
     "exception": null,
     "start_time": null,
     "status": "pending"
    },
    "tags": []
   },
   "outputs": [],
   "source": [
    "Clusterdata_test = pd.DataFrame(sentence_embeddings_1 , columns = np.linspace(1 , 768 , num = 768))"
   ]
  },
  {
   "cell_type": "code",
   "execution_count": null,
   "id": "5515ade1",
   "metadata": {
    "execution": {
     "iopub.execute_input": "2023-09-21T20:30:10.039547Z",
     "iopub.status.busy": "2023-09-21T20:30:10.039141Z",
     "iopub.status.idle": "2023-09-21T20:30:10.067558Z",
     "shell.execute_reply": "2023-09-21T20:30:10.066646Z",
     "shell.execute_reply.started": "2023-09-21T20:30:10.039508Z"
    },
    "papermill": {
     "duration": null,
     "end_time": null,
     "exception": null,
     "start_time": null,
     "status": "pending"
    },
    "tags": []
   },
   "outputs": [],
   "source": [
    "x_pc = pca_38.transform(Clusterdata_test)\n",
    "x_pc.shape"
   ]
  },
  {
   "cell_type": "code",
   "execution_count": null,
   "id": "9927c35c",
   "metadata": {
    "execution": {
     "iopub.execute_input": "2023-09-21T20:30:18.927515Z",
     "iopub.status.busy": "2023-09-21T20:30:18.927221Z",
     "iopub.status.idle": "2023-09-21T20:30:18.932737Z",
     "shell.execute_reply": "2023-09-21T20:30:18.931818Z",
     "shell.execute_reply.started": "2023-09-21T20:30:18.927467Z"
    },
    "papermill": {
     "duration": null,
     "end_time": null,
     "exception": null,
     "start_time": null,
     "status": "pending"
    },
    "tags": []
   },
   "outputs": [],
   "source": [
    "df_99_test = pd.DataFrame(x_pc, columns = np.linspace(1 , 86 , num = 86))"
   ]
  },
  {
   "cell_type": "code",
   "execution_count": null,
   "id": "50740518",
   "metadata": {
    "execution": {
     "iopub.execute_input": "2023-09-21T20:30:25.832056Z",
     "iopub.status.busy": "2023-09-21T20:30:25.831427Z",
     "iopub.status.idle": "2023-09-21T20:30:25.858427Z",
     "shell.execute_reply": "2023-09-21T20:30:25.857565Z",
     "shell.execute_reply.started": "2023-09-21T20:30:25.832015Z"
    },
    "papermill": {
     "duration": null,
     "end_time": null,
     "exception": null,
     "start_time": null,
     "status": "pending"
    },
    "tags": []
   },
   "outputs": [],
   "source": [
    "df_99_test.reset_index( inplace = True , drop = True)\n",
    "df_test.reset_index(inplace = True , drop = True)\n",
    "df_pca_test = pd.concat([df_test , df_99_test] , axis = 1)\n",
    "df_pca_test"
   ]
  },
  {
   "cell_type": "code",
   "execution_count": null,
   "id": "8e232fb4",
   "metadata": {
    "execution": {
     "iopub.execute_input": "2022-06-20T10:06:02.837456Z",
     "iopub.status.busy": "2022-06-20T10:06:02.836817Z",
     "iopub.status.idle": "2022-06-20T10:06:02.842901Z",
     "shell.execute_reply": "2022-06-20T10:06:02.842031Z",
     "shell.execute_reply.started": "2022-06-20T10:06:02.837419Z"
    },
    "papermill": {
     "duration": null,
     "end_time": null,
     "exception": null,
     "start_time": null,
     "status": "pending"
    },
    "tags": []
   },
   "outputs": [],
   "source": [
    "# df_pca_test['keyword'] = lbl_enc.transform(df_pca_test['keyword'])\n",
    "# df_pca_test['location'] = lbl_enc.transform(df_pca_test['location'])"
   ]
  },
  {
   "cell_type": "code",
   "execution_count": null,
   "id": "a870cf5f",
   "metadata": {
    "execution": {
     "iopub.execute_input": "2023-09-21T20:30:32.172628Z",
     "iopub.status.busy": "2023-09-21T20:30:32.172329Z",
     "iopub.status.idle": "2023-09-21T20:30:32.201152Z",
     "shell.execute_reply": "2023-09-21T20:30:32.200355Z",
     "shell.execute_reply.started": "2023-09-21T20:30:32.172593Z"
    },
    "papermill": {
     "duration": null,
     "end_time": null,
     "exception": null,
     "start_time": null,
     "status": "pending"
    },
    "tags": []
   },
   "outputs": [],
   "source": [
    "df_pca_test.drop(['id' , 'text' ,'location' , 'keyword'] , axis =1)"
   ]
  },
  {
   "cell_type": "code",
   "execution_count": null,
   "id": "84278208",
   "metadata": {
    "execution": {
     "iopub.execute_input": "2023-09-21T20:30:37.758397Z",
     "iopub.status.busy": "2023-09-21T20:30:37.758113Z",
     "iopub.status.idle": "2023-09-21T20:30:37.764126Z",
     "shell.execute_reply": "2023-09-21T20:30:37.763054Z",
     "shell.execute_reply.started": "2023-09-21T20:30:37.758364Z"
    },
    "papermill": {
     "duration": null,
     "end_time": null,
     "exception": null,
     "start_time": null,
     "status": "pending"
    },
    "tags": []
   },
   "outputs": [],
   "source": [
    "att = df_pca_test.drop(['id' , 'text' ,'location' , 'keyword'] , axis =1)"
   ]
  },
  {
   "cell_type": "code",
   "execution_count": null,
   "id": "16ec7757",
   "metadata": {
    "execution": {
     "iopub.execute_input": "2023-09-21T21:16:33.809578Z",
     "iopub.status.busy": "2023-09-21T21:16:33.809249Z",
     "iopub.status.idle": "2023-09-21T21:16:33.979393Z",
     "shell.execute_reply": "2023-09-21T21:16:33.978561Z",
     "shell.execute_reply.started": "2023-09-21T21:16:33.809539Z"
    },
    "papermill": {
     "duration": null,
     "end_time": null,
     "exception": null,
     "start_time": null,
     "status": "pending"
    },
    "tags": []
   },
   "outputs": [],
   "source": [
    "# Survived = lr.predict(att)\n",
    "b_pred = model.predict(att)\n",
    "Survived = []\n",
    "for i in b_pred:\n",
    "    if i < 0.385:\n",
    "        Survived.append(0)\n",
    "    else:\n",
    "        Survived.append(1)\n",
    "df_test['target'] = Survived"
   ]
  },
  {
   "cell_type": "code",
   "execution_count": null,
   "id": "20a58261",
   "metadata": {
    "execution": {
     "iopub.execute_input": "2022-01-06T15:16:52.737623Z",
     "iopub.status.busy": "2022-01-06T15:16:52.737339Z",
     "iopub.status.idle": "2022-01-06T15:16:52.762095Z",
     "shell.execute_reply": "2022-01-06T15:16:52.761134Z",
     "shell.execute_reply.started": "2022-01-06T15:16:52.737593Z"
    },
    "papermill": {
     "duration": null,
     "end_time": null,
     "exception": null,
     "start_time": null,
     "status": "pending"
    },
    "tags": []
   },
   "outputs": [],
   "source": [
    "# scaler = MinMaxScaler()\n",
    "# t = scaler.fit_transform(df_test[['word_count' , 'char_count']])\n",
    "# minmax = pd.DataFrame(t, \n",
    "#              columns=['word_count_scaled', \n",
    "#                       'char_count_scaled'])\n",
    "# df_test = pd.concat([df_test , minmax] , axis = 1 )\n",
    "# df_test.drop(['word_count' , 'char_count'] , axis = 1 , inplace = True)"
   ]
  },
  {
   "cell_type": "code",
   "execution_count": null,
   "id": "311730c7",
   "metadata": {
    "papermill": {
     "duration": null,
     "end_time": null,
     "exception": null,
     "start_time": null,
     "status": "pending"
    },
    "tags": []
   },
   "outputs": [],
   "source": [
    "# df_test.unique_word_ratio.fillna(1 , inplace = True) "
   ]
  },
  {
   "cell_type": "code",
   "execution_count": null,
   "id": "9be14afe",
   "metadata": {
    "papermill": {
     "duration": null,
     "end_time": null,
     "exception": null,
     "start_time": null,
     "status": "pending"
    },
    "tags": []
   },
   "outputs": [],
   "source": []
  },
  {
   "cell_type": "markdown",
   "id": "61ad46d0",
   "metadata": {
    "papermill": {
     "duration": null,
     "end_time": null,
     "exception": null,
     "start_time": null,
     "status": "pending"
    },
    "tags": []
   },
   "source": [
    "# PCA Test"
   ]
  },
  {
   "cell_type": "code",
   "execution_count": null,
   "id": "638bbbe9",
   "metadata": {
    "execution": {
     "iopub.execute_input": "2022-01-06T15:17:38.003035Z",
     "iopub.status.busy": "2022-01-06T15:17:38.002662Z",
     "iopub.status.idle": "2022-01-06T15:17:38.008262Z",
     "shell.execute_reply": "2022-01-06T15:17:38.006949Z",
     "shell.execute_reply.started": "2022-01-06T15:17:38.002996Z"
    },
    "papermill": {
     "duration": null,
     "end_time": null,
     "exception": null,
     "start_time": null,
     "status": "pending"
    },
    "tags": []
   },
   "outputs": [],
   "source": [
    "# pc = PCA(n_components = .97  , random_state = 2)\n",
    "# pc.fit(df_test.drop(['text' , 'id' ] , axis = 1))"
   ]
  },
  {
   "cell_type": "code",
   "execution_count": null,
   "id": "40d5f142",
   "metadata": {
    "execution": {
     "iopub.execute_input": "2022-01-06T15:20:48.887598Z",
     "iopub.status.busy": "2022-01-06T15:20:48.887264Z",
     "iopub.status.idle": "2022-01-06T15:20:48.955825Z",
     "shell.execute_reply": "2022-01-06T15:20:48.954778Z",
     "shell.execute_reply.started": "2022-01-06T15:20:48.887566Z"
    },
    "papermill": {
     "duration": null,
     "end_time": null,
     "exception": null,
     "start_time": null,
     "status": "pending"
    },
    "tags": []
   },
   "outputs": [],
   "source": [
    "x_pc = pca_38.transform(df_test.drop(['text' , 'id'] , axis = 1))"
   ]
  },
  {
   "cell_type": "code",
   "execution_count": null,
   "id": "2465a3cb",
   "metadata": {
    "execution": {
     "iopub.execute_input": "2022-01-06T15:20:51.922357Z",
     "iopub.status.busy": "2022-01-06T15:20:51.922011Z",
     "iopub.status.idle": "2022-01-06T15:20:51.929052Z",
     "shell.execute_reply": "2022-01-06T15:20:51.92823Z",
     "shell.execute_reply.started": "2022-01-06T15:20:51.92232Z"
    },
    "papermill": {
     "duration": null,
     "end_time": null,
     "exception": null,
     "start_time": null,
     "status": "pending"
    },
    "tags": []
   },
   "outputs": [],
   "source": [
    "x_pc.shape"
   ]
  },
  {
   "cell_type": "code",
   "execution_count": null,
   "id": "c4e72ff8",
   "metadata": {
    "execution": {
     "iopub.execute_input": "2022-01-06T15:27:48.041525Z",
     "iopub.status.busy": "2022-01-06T15:27:48.041203Z",
     "iopub.status.idle": "2022-01-06T15:27:48.045862Z",
     "shell.execute_reply": "2022-01-06T15:27:48.045151Z",
     "shell.execute_reply.started": "2022-01-06T15:27:48.041494Z"
    },
    "papermill": {
     "duration": null,
     "end_time": null,
     "exception": null,
     "start_time": null,
     "status": "pending"
    },
    "tags": []
   },
   "outputs": [],
   "source": [
    "# for i in df_test.columns.to_list():\n",
    "#     df_test[i] = np.round(df_test[i] , 4)"
   ]
  },
  {
   "cell_type": "code",
   "execution_count": null,
   "id": "e302992b",
   "metadata": {
    "execution": {
     "iopub.execute_input": "2022-01-05T17:27:57.202703Z",
     "iopub.status.busy": "2022-01-05T17:27:57.202396Z",
     "iopub.status.idle": "2022-01-05T17:27:57.212743Z",
     "shell.execute_reply": "2022-01-05T17:27:57.211666Z",
     "shell.execute_reply.started": "2022-01-05T17:27:57.202673Z"
    },
    "papermill": {
     "duration": null,
     "end_time": null,
     "exception": null,
     "start_time": null,
     "status": "pending"
    },
    "tags": []
   },
   "outputs": [],
   "source": [
    "# np.any(np.isnan(att)) to check null"
   ]
  },
  {
   "cell_type": "code",
   "execution_count": null,
   "id": "5630a188",
   "metadata": {
    "execution": {
     "iopub.execute_input": "2022-01-05T17:27:59.57162Z",
     "iopub.status.busy": "2022-01-05T17:27:59.570821Z",
     "iopub.status.idle": "2022-01-05T17:27:59.582607Z",
     "shell.execute_reply": "2022-01-05T17:27:59.581573Z",
     "shell.execute_reply.started": "2022-01-05T17:27:59.571574Z"
    },
    "papermill": {
     "duration": null,
     "end_time": null,
     "exception": null,
     "start_time": null,
     "status": "pending"
    },
    "tags": []
   },
   "outputs": [],
   "source": [
    "# np.all(np.isfinite(att)) to check infinite value"
   ]
  },
  {
   "cell_type": "code",
   "execution_count": null,
   "id": "167295b5",
   "metadata": {
    "execution": {
     "iopub.execute_input": "2022-01-05T17:01:38.967759Z",
     "iopub.status.busy": "2022-01-05T17:01:38.966806Z",
     "iopub.status.idle": "2022-01-05T17:01:38.978161Z",
     "shell.execute_reply": "2022-01-05T17:01:38.976851Z",
     "shell.execute_reply.started": "2022-01-05T17:01:38.967696Z"
    },
    "papermill": {
     "duration": null,
     "end_time": null,
     "exception": null,
     "start_time": null,
     "status": "pending"
    },
    "tags": []
   },
   "outputs": [],
   "source": [
    "# np.isfinite(att)"
   ]
  },
  {
   "cell_type": "code",
   "execution_count": null,
   "id": "2aa070e6",
   "metadata": {
    "execution": {
     "iopub.execute_input": "2022-01-05T16:59:56.618493Z",
     "iopub.status.busy": "2022-01-05T16:59:56.617944Z",
     "iopub.status.idle": "2022-01-05T16:59:56.636817Z",
     "shell.execute_reply": "2022-01-05T16:59:56.635944Z",
     "shell.execute_reply.started": "2022-01-05T16:59:56.618437Z"
    },
    "papermill": {
     "duration": null,
     "end_time": null,
     "exception": null,
     "start_time": null,
     "status": "pending"
    },
    "tags": []
   },
   "outputs": [],
   "source": [
    "# att = att.astype('float64')"
   ]
  },
  {
   "cell_type": "code",
   "execution_count": null,
   "id": "0f0e4108",
   "metadata": {
    "execution": {
     "iopub.execute_input": "2022-01-05T16:59:57.804561Z",
     "iopub.status.busy": "2022-01-05T16:59:57.803988Z",
     "iopub.status.idle": "2022-01-05T16:59:57.808377Z",
     "shell.execute_reply": "2022-01-05T16:59:57.807491Z",
     "shell.execute_reply.started": "2022-01-05T16:59:57.804524Z"
    },
    "papermill": {
     "duration": null,
     "end_time": null,
     "exception": null,
     "start_time": null,
     "status": "pending"
    },
    "tags": []
   },
   "outputs": [],
   "source": [
    "# tfidf_matrix = tf.fit_transform(df_test['text'])\n",
    "# tfidf_matrix.shape\n",
    "\n",
    "# from sklearn.metrics.pairwise import cosine_similarity\n",
    "\n",
    "# doc_sim = cosine_similarity(tfidf_matrix)\n",
    "# doc_simio = pd.DataFrame(doc_sim)\n",
    "# doc_simio.head()\n",
    "\n",
    "# df_test = pd.concat([df_test , doc_simio] , axis = 1 )"
   ]
  },
  {
   "cell_type": "code",
   "execution_count": null,
   "id": "4c5b7e23",
   "metadata": {
    "execution": {
     "iopub.execute_input": "2022-01-06T15:37:46.382472Z",
     "iopub.status.busy": "2022-01-06T15:37:46.382163Z",
     "iopub.status.idle": "2022-01-06T15:37:46.395937Z",
     "shell.execute_reply": "2022-01-06T15:37:46.394559Z",
     "shell.execute_reply.started": "2022-01-06T15:37:46.382441Z"
    },
    "papermill": {
     "duration": null,
     "end_time": null,
     "exception": null,
     "start_time": null,
     "status": "pending"
    },
    "tags": []
   },
   "outputs": [],
   "source": [
    "# target = lr.predict(x_pc)\n",
    "# df_test['Target'] = target\n",
    "# df_test.Target.value_counts()"
   ]
  },
  {
   "cell_type": "code",
   "execution_count": null,
   "id": "6470d3cd",
   "metadata": {
    "execution": {
     "iopub.execute_input": "2023-09-21T21:16:40.441066Z",
     "iopub.status.busy": "2023-09-21T21:16:40.440329Z",
     "iopub.status.idle": "2023-09-21T21:16:40.455480Z",
     "shell.execute_reply": "2023-09-21T21:16:40.454483Z",
     "shell.execute_reply.started": "2023-09-21T21:16:40.441025Z"
    },
    "papermill": {
     "duration": null,
     "end_time": null,
     "exception": null,
     "start_time": null,
     "status": "pending"
    },
    "tags": []
   },
   "outputs": [],
   "source": [
    "submissionset = pd.DataFrame(zip(df_test.id, df_test.target ) , columns = {'target' , 'id'})"
   ]
  },
  {
   "cell_type": "code",
   "execution_count": null,
   "id": "9df704e7",
   "metadata": {
    "execution": {
     "iopub.execute_input": "2023-09-21T21:16:40.928056Z",
     "iopub.status.busy": "2023-09-21T21:16:40.927349Z",
     "iopub.status.idle": "2023-09-21T21:16:40.935183Z",
     "shell.execute_reply": "2023-09-21T21:16:40.934458Z",
     "shell.execute_reply.started": "2023-09-21T21:16:40.928016Z"
    },
    "papermill": {
     "duration": null,
     "end_time": null,
     "exception": null,
     "start_time": null,
     "status": "pending"
    },
    "tags": []
   },
   "outputs": [],
   "source": [
    "submissionset['target'].value_counts()"
   ]
  },
  {
   "cell_type": "code",
   "execution_count": null,
   "id": "7dfada08",
   "metadata": {
    "execution": {
     "iopub.execute_input": "2023-09-21T21:16:43.556587Z",
     "iopub.status.busy": "2023-09-21T21:16:43.555740Z",
     "iopub.status.idle": "2023-09-21T21:16:43.560313Z",
     "shell.execute_reply": "2023-09-21T21:16:43.559559Z",
     "shell.execute_reply.started": "2023-09-21T21:16:43.556537Z"
    },
    "papermill": {
     "duration": null,
     "end_time": null,
     "exception": null,
     "start_time": null,
     "status": "pending"
    },
    "tags": []
   },
   "outputs": [],
   "source": [
    "from IPython.display import HTML\n",
    "import base64"
   ]
  },
  {
   "cell_type": "code",
   "execution_count": null,
   "id": "501d8b80",
   "metadata": {
    "execution": {
     "iopub.execute_input": "2023-09-21T21:16:43.794293Z",
     "iopub.status.busy": "2023-09-21T21:16:43.793903Z",
     "iopub.status.idle": "2023-09-21T21:16:43.799877Z",
     "shell.execute_reply": "2023-09-21T21:16:43.798908Z",
     "shell.execute_reply.started": "2023-09-21T21:16:43.794250Z"
    },
    "papermill": {
     "duration": null,
     "end_time": null,
     "exception": null,
     "start_time": null,
     "status": "pending"
    },
    "tags": []
   },
   "outputs": [],
   "source": [
    "def create_download_link(df, title = \"Download CSV file\", filename = \"data.csv\"):  \n",
    "    csv = df.to_csv()\n",
    "    b64 = base64.b64encode(csv.encode())\n",
    "    payload = b64.decode()\n",
    "    html = '<a download=\"{filename}\" href=\"data:text/csv;base64,{payload}\" target=\"_blank\">{title}</a>'\n",
    "    html = html.format(payload=payload,title=title,filename=filename)\n",
    "    return HTML(html)"
   ]
  },
  {
   "cell_type": "code",
   "execution_count": null,
   "id": "4bf2efdc",
   "metadata": {
    "execution": {
     "iopub.execute_input": "2023-09-21T21:16:44.178312Z",
     "iopub.status.busy": "2023-09-21T21:16:44.177971Z",
     "iopub.status.idle": "2023-09-21T21:16:44.195404Z",
     "shell.execute_reply": "2023-09-21T21:16:44.194732Z",
     "shell.execute_reply.started": "2023-09-21T21:16:44.178280Z"
    },
    "papermill": {
     "duration": null,
     "end_time": null,
     "exception": null,
     "start_time": null,
     "status": "pending"
    },
    "tags": []
   },
   "outputs": [],
   "source": [
    "create_download_link(submissionset)"
   ]
  },
  {
   "cell_type": "code",
   "execution_count": null,
   "id": "e723d637",
   "metadata": {
    "execution": {
     "iopub.execute_input": "2022-01-06T15:31:45.82653Z",
     "iopub.status.busy": "2022-01-06T15:31:45.82621Z",
     "iopub.status.idle": "2022-01-06T15:31:45.831027Z",
     "shell.execute_reply": "2022-01-06T15:31:45.829978Z",
     "shell.execute_reply.started": "2022-01-06T15:31:45.826495Z"
    },
    "papermill": {
     "duration": null,
     "end_time": null,
     "exception": null,
     "start_time": null,
     "status": "pending"
    },
    "tags": []
   },
   "outputs": [],
   "source": [
    "# 0    2053\n",
    "# 1    1210\n",
    "# 0.79 score"
   ]
  },
  {
   "cell_type": "code",
   "execution_count": null,
   "id": "dc8830ae",
   "metadata": {
    "papermill": {
     "duration": null,
     "end_time": null,
     "exception": null,
     "start_time": null,
     "status": "pending"
    },
    "tags": []
   },
   "outputs": [],
   "source": []
  }
 ],
 "metadata": {
  "kernelspec": {
   "display_name": "Python 3",
   "language": "python",
   "name": "python3"
  },
  "language_info": {
   "codemirror_mode": {
    "name": "ipython",
    "version": 3
   },
   "file_extension": ".py",
   "mimetype": "text/x-python",
   "name": "python",
   "nbconvert_exporter": "python",
   "pygments_lexer": "ipython3",
   "version": "3.7.12"
  },
  "papermill": {
   "default_parameters": {},
   "duration": 105.590725,
   "end_time": "2023-09-21T21:31:57.113918",
   "environment_variables": {},
   "exception": true,
   "input_path": "__notebook__.ipynb",
   "output_path": "__notebook__.ipynb",
   "parameters": {},
   "start_time": "2023-09-21T21:30:11.523193",
   "version": "2.3.3"
  }
 },
 "nbformat": 4,
 "nbformat_minor": 5
}
